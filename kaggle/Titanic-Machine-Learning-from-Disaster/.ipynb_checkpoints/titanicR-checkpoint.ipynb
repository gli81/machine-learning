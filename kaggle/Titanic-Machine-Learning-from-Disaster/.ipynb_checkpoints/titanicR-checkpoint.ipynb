{
 "cells": [
  {
   "cell_type": "markdown",
   "id": "a411ca3f",
   "metadata": {},
   "source": [
    "# Titanic - Machine Learning from Disaster - R"
   ]
  },
  {
   "cell_type": "code",
   "execution_count": 1336,
   "id": "6c0de14a",
   "metadata": {},
   "outputs": [],
   "source": [
    "library(tidyverse)"
   ]
  },
  {
   "cell_type": "markdown",
   "id": "7266ff47",
   "metadata": {},
   "source": [
    "## LOAD DATA"
   ]
  },
  {
   "cell_type": "code",
   "execution_count": 1337,
   "id": "9ae2645c",
   "metadata": {},
   "outputs": [
    {
     "name": "stderr",
     "output_type": "stream",
     "text": [
      "\u001b[1mRows: \u001b[22m\u001b[34m891\u001b[39m \u001b[1mColumns: \u001b[22m\u001b[34m12\u001b[39m\n",
      "\u001b[36m──\u001b[39m \u001b[1mColumn specification\u001b[22m \u001b[36m────────────────────────────────────────────────────────────────────────────────────────────────\u001b[39m\n",
      "\u001b[1mDelimiter:\u001b[22m \",\"\n",
      "\u001b[31mchr\u001b[39m (5): Name, Sex, Ticket, Cabin, Embarked\n",
      "\u001b[32mdbl\u001b[39m (7): PassengerId, Survived, Pclass, Age, SibSp, Parch, Fare\n",
      "\n",
      "\u001b[36mℹ\u001b[39m Use `spec()` to retrieve the full column specification for this data.\n",
      "\u001b[36mℹ\u001b[39m Specify the column types or set `show_col_types = FALSE` to quiet this message.\n",
      "\u001b[1mRows: \u001b[22m\u001b[34m418\u001b[39m \u001b[1mColumns: \u001b[22m\u001b[34m11\u001b[39m\n",
      "\u001b[36m──\u001b[39m \u001b[1mColumn specification\u001b[22m \u001b[36m────────────────────────────────────────────────────────────────────────────────────────────────\u001b[39m\n",
      "\u001b[1mDelimiter:\u001b[22m \",\"\n",
      "\u001b[31mchr\u001b[39m (5): Name, Sex, Ticket, Cabin, Embarked\n",
      "\u001b[32mdbl\u001b[39m (6): PassengerId, Pclass, Age, SibSp, Parch, Fare\n",
      "\n",
      "\u001b[36mℹ\u001b[39m Use `spec()` to retrieve the full column specification for this data.\n",
      "\u001b[36mℹ\u001b[39m Specify the column types or set `show_col_types = FALSE` to quiet this message.\n"
     ]
    }
   ],
   "source": [
    "train_data <- read_csv(\".\\\\input\\\\train.csv\")\n",
    "test_data <- read_csv(\".\\\\input\\\\test.csv\")"
   ]
  },
  {
   "cell_type": "markdown",
   "id": "d02e5a99",
   "metadata": {},
   "source": [
    "## A LOOK AT DATA"
   ]
  },
  {
   "cell_type": "code",
   "execution_count": 1338,
   "id": "4e1e52d7",
   "metadata": {},
   "outputs": [
    {
     "data": {
      "text/html": [
       "<table class=\"dataframe\">\n",
       "<caption>A tibble: 10 × 12</caption>\n",
       "<thead>\n",
       "\t<tr><th scope=col>PassengerId</th><th scope=col>Survived</th><th scope=col>Pclass</th><th scope=col>Name</th><th scope=col>Sex</th><th scope=col>Age</th><th scope=col>SibSp</th><th scope=col>Parch</th><th scope=col>Ticket</th><th scope=col>Fare</th><th scope=col>Cabin</th><th scope=col>Embarked</th></tr>\n",
       "\t<tr><th scope=col>&lt;dbl&gt;</th><th scope=col>&lt;dbl&gt;</th><th scope=col>&lt;dbl&gt;</th><th scope=col>&lt;chr&gt;</th><th scope=col>&lt;chr&gt;</th><th scope=col>&lt;dbl&gt;</th><th scope=col>&lt;dbl&gt;</th><th scope=col>&lt;dbl&gt;</th><th scope=col>&lt;chr&gt;</th><th scope=col>&lt;dbl&gt;</th><th scope=col>&lt;chr&gt;</th><th scope=col>&lt;chr&gt;</th></tr>\n",
       "</thead>\n",
       "<tbody>\n",
       "\t<tr><td> 1</td><td>0</td><td>3</td><td>Braund, Mr. Owen Harris                            </td><td>male  </td><td>22</td><td>1</td><td>0</td><td>A/5 21171       </td><td> 7.2500</td><td>NA  </td><td>S</td></tr>\n",
       "\t<tr><td> 2</td><td>1</td><td>1</td><td>Cumings, Mrs. John Bradley (Florence Briggs Thayer)</td><td>female</td><td>38</td><td>1</td><td>0</td><td>PC 17599        </td><td>71.2833</td><td>C85 </td><td>C</td></tr>\n",
       "\t<tr><td> 3</td><td>1</td><td>3</td><td>Heikkinen, Miss. Laina                             </td><td>female</td><td>26</td><td>0</td><td>0</td><td>STON/O2. 3101282</td><td> 7.9250</td><td>NA  </td><td>S</td></tr>\n",
       "\t<tr><td> 4</td><td>1</td><td>1</td><td>Futrelle, Mrs. Jacques Heath (Lily May Peel)       </td><td>female</td><td>35</td><td>1</td><td>0</td><td>113803          </td><td>53.1000</td><td>C123</td><td>S</td></tr>\n",
       "\t<tr><td> 5</td><td>0</td><td>3</td><td>Allen, Mr. William Henry                           </td><td>male  </td><td>35</td><td>0</td><td>0</td><td>373450          </td><td> 8.0500</td><td>NA  </td><td>S</td></tr>\n",
       "\t<tr><td> 6</td><td>0</td><td>3</td><td>Moran, Mr. James                                   </td><td>male  </td><td>NA</td><td>0</td><td>0</td><td>330877          </td><td> 8.4583</td><td>NA  </td><td>Q</td></tr>\n",
       "\t<tr><td> 7</td><td>0</td><td>1</td><td>McCarthy, Mr. Timothy J                            </td><td>male  </td><td>54</td><td>0</td><td>0</td><td>17463           </td><td>51.8625</td><td>E46 </td><td>S</td></tr>\n",
       "\t<tr><td> 8</td><td>0</td><td>3</td><td>Palsson, Master. Gosta Leonard                     </td><td>male  </td><td> 2</td><td>3</td><td>1</td><td>349909          </td><td>21.0750</td><td>NA  </td><td>S</td></tr>\n",
       "\t<tr><td> 9</td><td>1</td><td>3</td><td>Johnson, Mrs. Oscar W (Elisabeth Vilhelmina Berg)  </td><td>female</td><td>27</td><td>0</td><td>2</td><td>347742          </td><td>11.1333</td><td>NA  </td><td>S</td></tr>\n",
       "\t<tr><td>10</td><td>1</td><td>2</td><td>Nasser, Mrs. Nicholas (Adele Achem)                </td><td>female</td><td>14</td><td>1</td><td>0</td><td>237736          </td><td>30.0708</td><td>NA  </td><td>C</td></tr>\n",
       "</tbody>\n",
       "</table>\n"
      ],
      "text/latex": [
       "A tibble: 10 × 12\n",
       "\\begin{tabular}{llllllllllll}\n",
       " PassengerId & Survived & Pclass & Name & Sex & Age & SibSp & Parch & Ticket & Fare & Cabin & Embarked\\\\\n",
       " <dbl> & <dbl> & <dbl> & <chr> & <chr> & <dbl> & <dbl> & <dbl> & <chr> & <dbl> & <chr> & <chr>\\\\\n",
       "\\hline\n",
       "\t  1 & 0 & 3 & Braund, Mr. Owen Harris                             & male   & 22 & 1 & 0 & A/5 21171        &  7.2500 & NA   & S\\\\\n",
       "\t  2 & 1 & 1 & Cumings, Mrs. John Bradley (Florence Briggs Thayer) & female & 38 & 1 & 0 & PC 17599         & 71.2833 & C85  & C\\\\\n",
       "\t  3 & 1 & 3 & Heikkinen, Miss. Laina                              & female & 26 & 0 & 0 & STON/O2. 3101282 &  7.9250 & NA   & S\\\\\n",
       "\t  4 & 1 & 1 & Futrelle, Mrs. Jacques Heath (Lily May Peel)        & female & 35 & 1 & 0 & 113803           & 53.1000 & C123 & S\\\\\n",
       "\t  5 & 0 & 3 & Allen, Mr. William Henry                            & male   & 35 & 0 & 0 & 373450           &  8.0500 & NA   & S\\\\\n",
       "\t  6 & 0 & 3 & Moran, Mr. James                                    & male   & NA & 0 & 0 & 330877           &  8.4583 & NA   & Q\\\\\n",
       "\t  7 & 0 & 1 & McCarthy, Mr. Timothy J                             & male   & 54 & 0 & 0 & 17463            & 51.8625 & E46  & S\\\\\n",
       "\t  8 & 0 & 3 & Palsson, Master. Gosta Leonard                      & male   &  2 & 3 & 1 & 349909           & 21.0750 & NA   & S\\\\\n",
       "\t  9 & 1 & 3 & Johnson, Mrs. Oscar W (Elisabeth Vilhelmina Berg)   & female & 27 & 0 & 2 & 347742           & 11.1333 & NA   & S\\\\\n",
       "\t 10 & 1 & 2 & Nasser, Mrs. Nicholas (Adele Achem)                 & female & 14 & 1 & 0 & 237736           & 30.0708 & NA   & C\\\\\n",
       "\\end{tabular}\n"
      ],
      "text/markdown": [
       "\n",
       "A tibble: 10 × 12\n",
       "\n",
       "| PassengerId &lt;dbl&gt; | Survived &lt;dbl&gt; | Pclass &lt;dbl&gt; | Name &lt;chr&gt; | Sex &lt;chr&gt; | Age &lt;dbl&gt; | SibSp &lt;dbl&gt; | Parch &lt;dbl&gt; | Ticket &lt;chr&gt; | Fare &lt;dbl&gt; | Cabin &lt;chr&gt; | Embarked &lt;chr&gt; |\n",
       "|---|---|---|---|---|---|---|---|---|---|---|---|\n",
       "|  1 | 0 | 3 | Braund, Mr. Owen Harris                             | male   | 22 | 1 | 0 | A/5 21171        |  7.2500 | NA   | S |\n",
       "|  2 | 1 | 1 | Cumings, Mrs. John Bradley (Florence Briggs Thayer) | female | 38 | 1 | 0 | PC 17599         | 71.2833 | C85  | C |\n",
       "|  3 | 1 | 3 | Heikkinen, Miss. Laina                              | female | 26 | 0 | 0 | STON/O2. 3101282 |  7.9250 | NA   | S |\n",
       "|  4 | 1 | 1 | Futrelle, Mrs. Jacques Heath (Lily May Peel)        | female | 35 | 1 | 0 | 113803           | 53.1000 | C123 | S |\n",
       "|  5 | 0 | 3 | Allen, Mr. William Henry                            | male   | 35 | 0 | 0 | 373450           |  8.0500 | NA   | S |\n",
       "|  6 | 0 | 3 | Moran, Mr. James                                    | male   | NA | 0 | 0 | 330877           |  8.4583 | NA   | Q |\n",
       "|  7 | 0 | 1 | McCarthy, Mr. Timothy J                             | male   | 54 | 0 | 0 | 17463            | 51.8625 | E46  | S |\n",
       "|  8 | 0 | 3 | Palsson, Master. Gosta Leonard                      | male   |  2 | 3 | 1 | 349909           | 21.0750 | NA   | S |\n",
       "|  9 | 1 | 3 | Johnson, Mrs. Oscar W (Elisabeth Vilhelmina Berg)   | female | 27 | 0 | 2 | 347742           | 11.1333 | NA   | S |\n",
       "| 10 | 1 | 2 | Nasser, Mrs. Nicholas (Adele Achem)                 | female | 14 | 1 | 0 | 237736           | 30.0708 | NA   | C |\n",
       "\n"
      ],
      "text/plain": [
       "   PassengerId Survived Pclass\n",
       "1   1          0        3     \n",
       "2   2          1        1     \n",
       "3   3          1        3     \n",
       "4   4          1        1     \n",
       "5   5          0        3     \n",
       "6   6          0        3     \n",
       "7   7          0        1     \n",
       "8   8          0        3     \n",
       "9   9          1        3     \n",
       "10 10          1        2     \n",
       "   Name                                                Sex    Age SibSp Parch\n",
       "1  Braund, Mr. Owen Harris                             male   22  1     0    \n",
       "2  Cumings, Mrs. John Bradley (Florence Briggs Thayer) female 38  1     0    \n",
       "3  Heikkinen, Miss. Laina                              female 26  0     0    \n",
       "4  Futrelle, Mrs. Jacques Heath (Lily May Peel)        female 35  1     0    \n",
       "5  Allen, Mr. William Henry                            male   35  0     0    \n",
       "6  Moran, Mr. James                                    male   NA  0     0    \n",
       "7  McCarthy, Mr. Timothy J                             male   54  0     0    \n",
       "8  Palsson, Master. Gosta Leonard                      male    2  3     1    \n",
       "9  Johnson, Mrs. Oscar W (Elisabeth Vilhelmina Berg)   female 27  0     2    \n",
       "10 Nasser, Mrs. Nicholas (Adele Achem)                 female 14  1     0    \n",
       "   Ticket           Fare    Cabin Embarked\n",
       "1  A/5 21171         7.2500 NA    S       \n",
       "2  PC 17599         71.2833 C85   C       \n",
       "3  STON/O2. 3101282  7.9250 NA    S       \n",
       "4  113803           53.1000 C123  S       \n",
       "5  373450            8.0500 NA    S       \n",
       "6  330877            8.4583 NA    Q       \n",
       "7  17463            51.8625 E46   S       \n",
       "8  349909           21.0750 NA    S       \n",
       "9  347742           11.1333 NA    S       \n",
       "10 237736           30.0708 NA    C       "
      ]
     },
     "metadata": {},
     "output_type": "display_data"
    }
   ],
   "source": [
    "head(train_data, n=10)"
   ]
  },
  {
   "cell_type": "code",
   "execution_count": 1339,
   "id": "db765737",
   "metadata": {},
   "outputs": [
    {
     "data": {
      "text/html": [
       "<table class=\"dataframe\">\n",
       "<caption>A tibble: 10 × 11</caption>\n",
       "<thead>\n",
       "\t<tr><th scope=col>PassengerId</th><th scope=col>Pclass</th><th scope=col>Name</th><th scope=col>Sex</th><th scope=col>Age</th><th scope=col>SibSp</th><th scope=col>Parch</th><th scope=col>Ticket</th><th scope=col>Fare</th><th scope=col>Cabin</th><th scope=col>Embarked</th></tr>\n",
       "\t<tr><th scope=col>&lt;dbl&gt;</th><th scope=col>&lt;dbl&gt;</th><th scope=col>&lt;chr&gt;</th><th scope=col>&lt;chr&gt;</th><th scope=col>&lt;dbl&gt;</th><th scope=col>&lt;dbl&gt;</th><th scope=col>&lt;dbl&gt;</th><th scope=col>&lt;chr&gt;</th><th scope=col>&lt;dbl&gt;</th><th scope=col>&lt;chr&gt;</th><th scope=col>&lt;chr&gt;</th></tr>\n",
       "</thead>\n",
       "<tbody>\n",
       "\t<tr><td>892</td><td>3</td><td>Kelly, Mr. James                            </td><td>male  </td><td>34.5</td><td>0</td><td>0</td><td>330911   </td><td> 7.8292</td><td>NA</td><td>Q</td></tr>\n",
       "\t<tr><td>893</td><td>3</td><td>Wilkes, Mrs. James (Ellen Needs)            </td><td>female</td><td>47.0</td><td>1</td><td>0</td><td>363272   </td><td> 7.0000</td><td>NA</td><td>S</td></tr>\n",
       "\t<tr><td>894</td><td>2</td><td>Myles, Mr. Thomas Francis                   </td><td>male  </td><td>62.0</td><td>0</td><td>0</td><td>240276   </td><td> 9.6875</td><td>NA</td><td>Q</td></tr>\n",
       "\t<tr><td>895</td><td>3</td><td>Wirz, Mr. Albert                            </td><td>male  </td><td>27.0</td><td>0</td><td>0</td><td>315154   </td><td> 8.6625</td><td>NA</td><td>S</td></tr>\n",
       "\t<tr><td>896</td><td>3</td><td>Hirvonen, Mrs. Alexander (Helga E Lindqvist)</td><td>female</td><td>22.0</td><td>1</td><td>1</td><td>3101298  </td><td>12.2875</td><td>NA</td><td>S</td></tr>\n",
       "\t<tr><td>897</td><td>3</td><td>Svensson, Mr. Johan Cervin                  </td><td>male  </td><td>14.0</td><td>0</td><td>0</td><td>7538     </td><td> 9.2250</td><td>NA</td><td>S</td></tr>\n",
       "\t<tr><td>898</td><td>3</td><td>Connolly, Miss. Kate                        </td><td>female</td><td>30.0</td><td>0</td><td>0</td><td>330972   </td><td> 7.6292</td><td>NA</td><td>Q</td></tr>\n",
       "\t<tr><td>899</td><td>2</td><td>Caldwell, Mr. Albert Francis                </td><td>male  </td><td>26.0</td><td>1</td><td>1</td><td>248738   </td><td>29.0000</td><td>NA</td><td>S</td></tr>\n",
       "\t<tr><td>900</td><td>3</td><td>Abrahim, Mrs. Joseph (Sophie Halaut Easu)   </td><td>female</td><td>18.0</td><td>0</td><td>0</td><td>2657     </td><td> 7.2292</td><td>NA</td><td>C</td></tr>\n",
       "\t<tr><td>901</td><td>3</td><td>Davies, Mr. John Samuel                     </td><td>male  </td><td>21.0</td><td>2</td><td>0</td><td>A/4 48871</td><td>24.1500</td><td>NA</td><td>S</td></tr>\n",
       "</tbody>\n",
       "</table>\n"
      ],
      "text/latex": [
       "A tibble: 10 × 11\n",
       "\\begin{tabular}{lllllllllll}\n",
       " PassengerId & Pclass & Name & Sex & Age & SibSp & Parch & Ticket & Fare & Cabin & Embarked\\\\\n",
       " <dbl> & <dbl> & <chr> & <chr> & <dbl> & <dbl> & <dbl> & <chr> & <dbl> & <chr> & <chr>\\\\\n",
       "\\hline\n",
       "\t 892 & 3 & Kelly, Mr. James                             & male   & 34.5 & 0 & 0 & 330911    &  7.8292 & NA & Q\\\\\n",
       "\t 893 & 3 & Wilkes, Mrs. James (Ellen Needs)             & female & 47.0 & 1 & 0 & 363272    &  7.0000 & NA & S\\\\\n",
       "\t 894 & 2 & Myles, Mr. Thomas Francis                    & male   & 62.0 & 0 & 0 & 240276    &  9.6875 & NA & Q\\\\\n",
       "\t 895 & 3 & Wirz, Mr. Albert                             & male   & 27.0 & 0 & 0 & 315154    &  8.6625 & NA & S\\\\\n",
       "\t 896 & 3 & Hirvonen, Mrs. Alexander (Helga E Lindqvist) & female & 22.0 & 1 & 1 & 3101298   & 12.2875 & NA & S\\\\\n",
       "\t 897 & 3 & Svensson, Mr. Johan Cervin                   & male   & 14.0 & 0 & 0 & 7538      &  9.2250 & NA & S\\\\\n",
       "\t 898 & 3 & Connolly, Miss. Kate                         & female & 30.0 & 0 & 0 & 330972    &  7.6292 & NA & Q\\\\\n",
       "\t 899 & 2 & Caldwell, Mr. Albert Francis                 & male   & 26.0 & 1 & 1 & 248738    & 29.0000 & NA & S\\\\\n",
       "\t 900 & 3 & Abrahim, Mrs. Joseph (Sophie Halaut Easu)    & female & 18.0 & 0 & 0 & 2657      &  7.2292 & NA & C\\\\\n",
       "\t 901 & 3 & Davies, Mr. John Samuel                      & male   & 21.0 & 2 & 0 & A/4 48871 & 24.1500 & NA & S\\\\\n",
       "\\end{tabular}\n"
      ],
      "text/markdown": [
       "\n",
       "A tibble: 10 × 11\n",
       "\n",
       "| PassengerId &lt;dbl&gt; | Pclass &lt;dbl&gt; | Name &lt;chr&gt; | Sex &lt;chr&gt; | Age &lt;dbl&gt; | SibSp &lt;dbl&gt; | Parch &lt;dbl&gt; | Ticket &lt;chr&gt; | Fare &lt;dbl&gt; | Cabin &lt;chr&gt; | Embarked &lt;chr&gt; |\n",
       "|---|---|---|---|---|---|---|---|---|---|---|\n",
       "| 892 | 3 | Kelly, Mr. James                             | male   | 34.5 | 0 | 0 | 330911    |  7.8292 | NA | Q |\n",
       "| 893 | 3 | Wilkes, Mrs. James (Ellen Needs)             | female | 47.0 | 1 | 0 | 363272    |  7.0000 | NA | S |\n",
       "| 894 | 2 | Myles, Mr. Thomas Francis                    | male   | 62.0 | 0 | 0 | 240276    |  9.6875 | NA | Q |\n",
       "| 895 | 3 | Wirz, Mr. Albert                             | male   | 27.0 | 0 | 0 | 315154    |  8.6625 | NA | S |\n",
       "| 896 | 3 | Hirvonen, Mrs. Alexander (Helga E Lindqvist) | female | 22.0 | 1 | 1 | 3101298   | 12.2875 | NA | S |\n",
       "| 897 | 3 | Svensson, Mr. Johan Cervin                   | male   | 14.0 | 0 | 0 | 7538      |  9.2250 | NA | S |\n",
       "| 898 | 3 | Connolly, Miss. Kate                         | female | 30.0 | 0 | 0 | 330972    |  7.6292 | NA | Q |\n",
       "| 899 | 2 | Caldwell, Mr. Albert Francis                 | male   | 26.0 | 1 | 1 | 248738    | 29.0000 | NA | S |\n",
       "| 900 | 3 | Abrahim, Mrs. Joseph (Sophie Halaut Easu)    | female | 18.0 | 0 | 0 | 2657      |  7.2292 | NA | C |\n",
       "| 901 | 3 | Davies, Mr. John Samuel                      | male   | 21.0 | 2 | 0 | A/4 48871 | 24.1500 | NA | S |\n",
       "\n"
      ],
      "text/plain": [
       "   PassengerId Pclass Name                                         Sex    Age \n",
       "1  892         3      Kelly, Mr. James                             male   34.5\n",
       "2  893         3      Wilkes, Mrs. James (Ellen Needs)             female 47.0\n",
       "3  894         2      Myles, Mr. Thomas Francis                    male   62.0\n",
       "4  895         3      Wirz, Mr. Albert                             male   27.0\n",
       "5  896         3      Hirvonen, Mrs. Alexander (Helga E Lindqvist) female 22.0\n",
       "6  897         3      Svensson, Mr. Johan Cervin                   male   14.0\n",
       "7  898         3      Connolly, Miss. Kate                         female 30.0\n",
       "8  899         2      Caldwell, Mr. Albert Francis                 male   26.0\n",
       "9  900         3      Abrahim, Mrs. Joseph (Sophie Halaut Easu)    female 18.0\n",
       "10 901         3      Davies, Mr. John Samuel                      male   21.0\n",
       "   SibSp Parch Ticket    Fare    Cabin Embarked\n",
       "1  0     0     330911     7.8292 NA    Q       \n",
       "2  1     0     363272     7.0000 NA    S       \n",
       "3  0     0     240276     9.6875 NA    Q       \n",
       "4  0     0     315154     8.6625 NA    S       \n",
       "5  1     1     3101298   12.2875 NA    S       \n",
       "6  0     0     7538       9.2250 NA    S       \n",
       "7  0     0     330972     7.6292 NA    Q       \n",
       "8  1     1     248738    29.0000 NA    S       \n",
       "9  0     0     2657       7.2292 NA    C       \n",
       "10 2     0     A/4 48871 24.1500 NA    S       "
      ]
     },
     "metadata": {},
     "output_type": "display_data"
    }
   ],
   "source": [
    "head(test_data, n=10)"
   ]
  },
  {
   "cell_type": "code",
   "execution_count": 1340,
   "id": "b2f275ed",
   "metadata": {},
   "outputs": [
    {
     "data": {
      "text/html": [
       "<ol>\n",
       "\t<li><table class=\"dataframe\">\n",
       "<caption>A spec_tbl_df: 891 × 12</caption>\n",
       "<thead>\n",
       "\t<tr><th scope=col>PassengerId</th><th scope=col>Survived</th><th scope=col>Pclass</th><th scope=col>Name</th><th scope=col>Sex</th><th scope=col>Age</th><th scope=col>SibSp</th><th scope=col>Parch</th><th scope=col>Ticket</th><th scope=col>Fare</th><th scope=col>Cabin</th><th scope=col>Embarked</th></tr>\n",
       "\t<tr><th scope=col>&lt;dbl&gt;</th><th scope=col>&lt;dbl&gt;</th><th scope=col>&lt;dbl&gt;</th><th scope=col>&lt;chr&gt;</th><th scope=col>&lt;chr&gt;</th><th scope=col>&lt;dbl&gt;</th><th scope=col>&lt;dbl&gt;</th><th scope=col>&lt;dbl&gt;</th><th scope=col>&lt;chr&gt;</th><th scope=col>&lt;dbl&gt;</th><th scope=col>&lt;chr&gt;</th><th scope=col>&lt;chr&gt;</th></tr>\n",
       "</thead>\n",
       "<tbody>\n",
       "\t<tr><td> 1</td><td>0</td><td>3</td><td>Braund, Mr. Owen Harris                                  </td><td>male  </td><td>22</td><td>1</td><td>0</td><td>A/5 21171       </td><td>  7.2500</td><td>NA         </td><td>S</td></tr>\n",
       "\t<tr><td> 2</td><td>1</td><td>1</td><td>Cumings, Mrs. John Bradley (Florence Briggs Thayer)      </td><td>female</td><td>38</td><td>1</td><td>0</td><td>PC 17599        </td><td> 71.2833</td><td>C85        </td><td>C</td></tr>\n",
       "\t<tr><td> 3</td><td>1</td><td>3</td><td>Heikkinen, Miss. Laina                                   </td><td>female</td><td>26</td><td>0</td><td>0</td><td>STON/O2. 3101282</td><td>  7.9250</td><td>NA         </td><td>S</td></tr>\n",
       "\t<tr><td> 4</td><td>1</td><td>1</td><td>Futrelle, Mrs. Jacques Heath (Lily May Peel)             </td><td>female</td><td>35</td><td>1</td><td>0</td><td>113803          </td><td> 53.1000</td><td>C123       </td><td>S</td></tr>\n",
       "\t<tr><td> 5</td><td>0</td><td>3</td><td>Allen, Mr. William Henry                                 </td><td>male  </td><td>35</td><td>0</td><td>0</td><td>373450          </td><td>  8.0500</td><td>NA         </td><td>S</td></tr>\n",
       "\t<tr><td> 6</td><td>0</td><td>3</td><td>Moran, Mr. James                                         </td><td>male  </td><td>NA</td><td>0</td><td>0</td><td>330877          </td><td>  8.4583</td><td>NA         </td><td>Q</td></tr>\n",
       "\t<tr><td> 7</td><td>0</td><td>1</td><td>McCarthy, Mr. Timothy J                                  </td><td>male  </td><td>54</td><td>0</td><td>0</td><td>17463           </td><td> 51.8625</td><td>E46        </td><td>S</td></tr>\n",
       "\t<tr><td> 8</td><td>0</td><td>3</td><td>Palsson, Master. Gosta Leonard                           </td><td>male  </td><td> 2</td><td>3</td><td>1</td><td>349909          </td><td> 21.0750</td><td>NA         </td><td>S</td></tr>\n",
       "\t<tr><td> 9</td><td>1</td><td>3</td><td>Johnson, Mrs. Oscar W (Elisabeth Vilhelmina Berg)        </td><td>female</td><td>27</td><td>0</td><td>2</td><td>347742          </td><td> 11.1333</td><td>NA         </td><td>S</td></tr>\n",
       "\t<tr><td>10</td><td>1</td><td>2</td><td>Nasser, Mrs. Nicholas (Adele Achem)                      </td><td>female</td><td>14</td><td>1</td><td>0</td><td>237736          </td><td> 30.0708</td><td>NA         </td><td>C</td></tr>\n",
       "\t<tr><td>11</td><td>1</td><td>3</td><td>Sandstrom, Miss. Marguerite Rut                          </td><td>female</td><td> 4</td><td>1</td><td>1</td><td>PP 9549         </td><td> 16.7000</td><td>G6         </td><td>S</td></tr>\n",
       "\t<tr><td>12</td><td>1</td><td>1</td><td>Bonnell, Miss. Elizabeth                                 </td><td>female</td><td>58</td><td>0</td><td>0</td><td>113783          </td><td> 26.5500</td><td>C103       </td><td>S</td></tr>\n",
       "\t<tr><td>13</td><td>0</td><td>3</td><td>Saundercock, Mr. William Henry                           </td><td>male  </td><td>20</td><td>0</td><td>0</td><td>A/5. 2151       </td><td>  8.0500</td><td>NA         </td><td>S</td></tr>\n",
       "\t<tr><td>14</td><td>0</td><td>3</td><td>Andersson, Mr. Anders Johan                              </td><td>male  </td><td>39</td><td>1</td><td>5</td><td>347082          </td><td> 31.2750</td><td>NA         </td><td>S</td></tr>\n",
       "\t<tr><td>15</td><td>0</td><td>3</td><td>Vestrom, Miss. Hulda Amanda Adolfina                     </td><td>female</td><td>14</td><td>0</td><td>0</td><td>350406          </td><td>  7.8542</td><td>NA         </td><td>S</td></tr>\n",
       "\t<tr><td>16</td><td>1</td><td>2</td><td>Hewlett, Mrs. (Mary D Kingcome)                          </td><td>female</td><td>55</td><td>0</td><td>0</td><td>248706          </td><td> 16.0000</td><td>NA         </td><td>S</td></tr>\n",
       "\t<tr><td>17</td><td>0</td><td>3</td><td>Rice, Master. Eugene                                     </td><td>male  </td><td> 2</td><td>4</td><td>1</td><td>382652          </td><td> 29.1250</td><td>NA         </td><td>Q</td></tr>\n",
       "\t<tr><td>18</td><td>1</td><td>2</td><td>Williams, Mr. Charles Eugene                             </td><td>male  </td><td>NA</td><td>0</td><td>0</td><td>244373          </td><td> 13.0000</td><td>NA         </td><td>S</td></tr>\n",
       "\t<tr><td>19</td><td>0</td><td>3</td><td>Vander Planke, Mrs. Julius (Emelia Maria Vandemoortele)  </td><td>female</td><td>31</td><td>1</td><td>0</td><td>345763          </td><td> 18.0000</td><td>NA         </td><td>S</td></tr>\n",
       "\t<tr><td>20</td><td>1</td><td>3</td><td>Masselmani, Mrs. Fatima                                  </td><td>female</td><td>NA</td><td>0</td><td>0</td><td>2649            </td><td>  7.2250</td><td>NA         </td><td>C</td></tr>\n",
       "\t<tr><td>21</td><td>0</td><td>2</td><td>Fynney, Mr. Joseph J                                     </td><td>male  </td><td>35</td><td>0</td><td>0</td><td>239865          </td><td> 26.0000</td><td>NA         </td><td>S</td></tr>\n",
       "\t<tr><td>22</td><td>1</td><td>2</td><td>Beesley, Mr. Lawrence                                    </td><td>male  </td><td>34</td><td>0</td><td>0</td><td>248698          </td><td> 13.0000</td><td>D56        </td><td>S</td></tr>\n",
       "\t<tr><td>23</td><td>1</td><td>3</td><td>McGowan, Miss. Anna \"Annie\"                              </td><td>female</td><td>15</td><td>0</td><td>0</td><td>330923          </td><td>  8.0292</td><td>NA         </td><td>Q</td></tr>\n",
       "\t<tr><td>24</td><td>1</td><td>1</td><td>Sloper, Mr. William Thompson                             </td><td>male  </td><td>28</td><td>0</td><td>0</td><td>113788          </td><td> 35.5000</td><td>A6         </td><td>S</td></tr>\n",
       "\t<tr><td>25</td><td>0</td><td>3</td><td>Palsson, Miss. Torborg Danira                            </td><td>female</td><td> 8</td><td>3</td><td>1</td><td>349909          </td><td> 21.0750</td><td>NA         </td><td>S</td></tr>\n",
       "\t<tr><td>26</td><td>1</td><td>3</td><td>Asplund, Mrs. Carl Oscar (Selma Augusta Emilia Johansson)</td><td>female</td><td>38</td><td>1</td><td>5</td><td>347077          </td><td> 31.3875</td><td>NA         </td><td>S</td></tr>\n",
       "\t<tr><td>27</td><td>0</td><td>3</td><td>Emir, Mr. Farred Chehab                                  </td><td>male  </td><td>NA</td><td>0</td><td>0</td><td>2631            </td><td>  7.2250</td><td>NA         </td><td>C</td></tr>\n",
       "\t<tr><td>28</td><td>0</td><td>1</td><td>Fortune, Mr. Charles Alexander                           </td><td>male  </td><td>19</td><td>3</td><td>2</td><td>19950           </td><td>263.0000</td><td>C23 C25 C27</td><td>S</td></tr>\n",
       "\t<tr><td>29</td><td>1</td><td>3</td><td>O'Dwyer, Miss. Ellen \"Nellie\"                            </td><td>female</td><td>NA</td><td>0</td><td>0</td><td>330959          </td><td>  7.8792</td><td>NA         </td><td>Q</td></tr>\n",
       "\t<tr><td>30</td><td>0</td><td>3</td><td>Todoroff, Mr. Lalio                                      </td><td>male  </td><td>NA</td><td>0</td><td>0</td><td>349216          </td><td>  7.8958</td><td>NA         </td><td>S</td></tr>\n",
       "\t<tr><td>⋮</td><td>⋮</td><td>⋮</td><td>⋮</td><td>⋮</td><td>⋮</td><td>⋮</td><td>⋮</td><td>⋮</td><td>⋮</td><td>⋮</td><td>⋮</td></tr>\n",
       "\t<tr><td>862</td><td>0</td><td>2</td><td>Giles, Mr. Frederick Edward                        </td><td>male  </td><td>21</td><td>1</td><td>0</td><td>28134           </td><td>11.5000</td><td>NA         </td><td>S</td></tr>\n",
       "\t<tr><td>863</td><td>1</td><td>1</td><td>Swift, Mrs. Frederick Joel (Margaret Welles Barron)</td><td>female</td><td>48</td><td>0</td><td>0</td><td>17466           </td><td>25.9292</td><td>D17        </td><td>S</td></tr>\n",
       "\t<tr><td>864</td><td>0</td><td>3</td><td>Sage, Miss. Dorothy Edith \"Dolly\"                  </td><td>female</td><td>NA</td><td>8</td><td>2</td><td>CA. 2343        </td><td>69.5500</td><td>NA         </td><td>S</td></tr>\n",
       "\t<tr><td>865</td><td>0</td><td>2</td><td>Gill, Mr. John William                             </td><td>male  </td><td>24</td><td>0</td><td>0</td><td>233866          </td><td>13.0000</td><td>NA         </td><td>S</td></tr>\n",
       "\t<tr><td>866</td><td>1</td><td>2</td><td>Bystrom, Mrs. (Karolina)                           </td><td>female</td><td>42</td><td>0</td><td>0</td><td>236852          </td><td>13.0000</td><td>NA         </td><td>S</td></tr>\n",
       "\t<tr><td>867</td><td>1</td><td>2</td><td>Duran y More, Miss. Asuncion                       </td><td>female</td><td>27</td><td>1</td><td>0</td><td>SC/PARIS 2149   </td><td>13.8583</td><td>NA         </td><td>C</td></tr>\n",
       "\t<tr><td>868</td><td>0</td><td>1</td><td>Roebling, Mr. Washington Augustus II               </td><td>male  </td><td>31</td><td>0</td><td>0</td><td>PC 17590        </td><td>50.4958</td><td>A24        </td><td>S</td></tr>\n",
       "\t<tr><td>869</td><td>0</td><td>3</td><td>van Melkebeke, Mr. Philemon                        </td><td>male  </td><td>NA</td><td>0</td><td>0</td><td>345777          </td><td> 9.5000</td><td>NA         </td><td>S</td></tr>\n",
       "\t<tr><td>870</td><td>1</td><td>3</td><td>Johnson, Master. Harold Theodor                    </td><td>male  </td><td> 4</td><td>1</td><td>1</td><td>347742          </td><td>11.1333</td><td>NA         </td><td>S</td></tr>\n",
       "\t<tr><td>871</td><td>0</td><td>3</td><td>Balkic, Mr. Cerin                                  </td><td>male  </td><td>26</td><td>0</td><td>0</td><td>349248          </td><td> 7.8958</td><td>NA         </td><td>S</td></tr>\n",
       "\t<tr><td>872</td><td>1</td><td>1</td><td>Beckwith, Mrs. Richard Leonard (Sallie Monypeny)   </td><td>female</td><td>47</td><td>1</td><td>1</td><td>11751           </td><td>52.5542</td><td>D35        </td><td>S</td></tr>\n",
       "\t<tr><td>873</td><td>0</td><td>1</td><td>Carlsson, Mr. Frans Olof                           </td><td>male  </td><td>33</td><td>0</td><td>0</td><td>695             </td><td> 5.0000</td><td>B51 B53 B55</td><td>S</td></tr>\n",
       "\t<tr><td>874</td><td>0</td><td>3</td><td>Vander Cruyssen, Mr. Victor                        </td><td>male  </td><td>47</td><td>0</td><td>0</td><td>345765          </td><td> 9.0000</td><td>NA         </td><td>S</td></tr>\n",
       "\t<tr><td>875</td><td>1</td><td>2</td><td>Abelson, Mrs. Samuel (Hannah Wizosky)              </td><td>female</td><td>28</td><td>1</td><td>0</td><td>P/PP 3381       </td><td>24.0000</td><td>NA         </td><td>C</td></tr>\n",
       "\t<tr><td>876</td><td>1</td><td>3</td><td>Najib, Miss. Adele Kiamie \"Jane\"                   </td><td>female</td><td>15</td><td>0</td><td>0</td><td>2667            </td><td> 7.2250</td><td>NA         </td><td>C</td></tr>\n",
       "\t<tr><td>877</td><td>0</td><td>3</td><td>Gustafsson, Mr. Alfred Ossian                      </td><td>male  </td><td>20</td><td>0</td><td>0</td><td>7534            </td><td> 9.8458</td><td>NA         </td><td>S</td></tr>\n",
       "\t<tr><td>878</td><td>0</td><td>3</td><td>Petroff, Mr. Nedelio                               </td><td>male  </td><td>19</td><td>0</td><td>0</td><td>349212          </td><td> 7.8958</td><td>NA         </td><td>S</td></tr>\n",
       "\t<tr><td>879</td><td>0</td><td>3</td><td>Laleff, Mr. Kristo                                 </td><td>male  </td><td>NA</td><td>0</td><td>0</td><td>349217          </td><td> 7.8958</td><td>NA         </td><td>S</td></tr>\n",
       "\t<tr><td>880</td><td>1</td><td>1</td><td>Potter, Mrs. Thomas Jr (Lily Alexenia Wilson)      </td><td>female</td><td>56</td><td>0</td><td>1</td><td>11767           </td><td>83.1583</td><td>C50        </td><td>C</td></tr>\n",
       "\t<tr><td>881</td><td>1</td><td>2</td><td>Shelley, Mrs. William (Imanita Parrish Hall)       </td><td>female</td><td>25</td><td>0</td><td>1</td><td>230433          </td><td>26.0000</td><td>NA         </td><td>S</td></tr>\n",
       "\t<tr><td>882</td><td>0</td><td>3</td><td>Markun, Mr. Johann                                 </td><td>male  </td><td>33</td><td>0</td><td>0</td><td>349257          </td><td> 7.8958</td><td>NA         </td><td>S</td></tr>\n",
       "\t<tr><td>883</td><td>0</td><td>3</td><td>Dahlberg, Miss. Gerda Ulrika                       </td><td>female</td><td>22</td><td>0</td><td>0</td><td>7552            </td><td>10.5167</td><td>NA         </td><td>S</td></tr>\n",
       "\t<tr><td>884</td><td>0</td><td>2</td><td>Banfield, Mr. Frederick James                      </td><td>male  </td><td>28</td><td>0</td><td>0</td><td>C.A./SOTON 34068</td><td>10.5000</td><td>NA         </td><td>S</td></tr>\n",
       "\t<tr><td>885</td><td>0</td><td>3</td><td>Sutehall, Mr. Henry Jr                             </td><td>male  </td><td>25</td><td>0</td><td>0</td><td>SOTON/OQ 392076 </td><td> 7.0500</td><td>NA         </td><td>S</td></tr>\n",
       "\t<tr><td>886</td><td>0</td><td>3</td><td>Rice, Mrs. William (Margaret Norton)               </td><td>female</td><td>39</td><td>0</td><td>5</td><td>382652          </td><td>29.1250</td><td>NA         </td><td>Q</td></tr>\n",
       "\t<tr><td>887</td><td>0</td><td>2</td><td>Montvila, Rev. Juozas                              </td><td>male  </td><td>27</td><td>0</td><td>0</td><td>211536          </td><td>13.0000</td><td>NA         </td><td>S</td></tr>\n",
       "\t<tr><td>888</td><td>1</td><td>1</td><td>Graham, Miss. Margaret Edith                       </td><td>female</td><td>19</td><td>0</td><td>0</td><td>112053          </td><td>30.0000</td><td>B42        </td><td>S</td></tr>\n",
       "\t<tr><td>889</td><td>0</td><td>3</td><td>Johnston, Miss. Catherine Helen \"Carrie\"           </td><td>female</td><td>NA</td><td>1</td><td>2</td><td>W./C. 6607      </td><td>23.4500</td><td>NA         </td><td>S</td></tr>\n",
       "\t<tr><td>890</td><td>1</td><td>1</td><td>Behr, Mr. Karl Howell                              </td><td>male  </td><td>26</td><td>0</td><td>0</td><td>111369          </td><td>30.0000</td><td>C148       </td><td>C</td></tr>\n",
       "\t<tr><td>891</td><td>0</td><td>3</td><td>Dooley, Mr. Patrick                                </td><td>male  </td><td>32</td><td>0</td><td>0</td><td>370376          </td><td> 7.7500</td><td>NA         </td><td>Q</td></tr>\n",
       "</tbody>\n",
       "</table>\n",
       "</li>\n",
       "\t<li><table class=\"dataframe\">\n",
       "<caption>A spec_tbl_df: 418 × 11</caption>\n",
       "<thead>\n",
       "\t<tr><th scope=col>PassengerId</th><th scope=col>Pclass</th><th scope=col>Name</th><th scope=col>Sex</th><th scope=col>Age</th><th scope=col>SibSp</th><th scope=col>Parch</th><th scope=col>Ticket</th><th scope=col>Fare</th><th scope=col>Cabin</th><th scope=col>Embarked</th></tr>\n",
       "\t<tr><th scope=col>&lt;dbl&gt;</th><th scope=col>&lt;dbl&gt;</th><th scope=col>&lt;chr&gt;</th><th scope=col>&lt;chr&gt;</th><th scope=col>&lt;dbl&gt;</th><th scope=col>&lt;dbl&gt;</th><th scope=col>&lt;dbl&gt;</th><th scope=col>&lt;chr&gt;</th><th scope=col>&lt;dbl&gt;</th><th scope=col>&lt;chr&gt;</th><th scope=col>&lt;chr&gt;</th></tr>\n",
       "</thead>\n",
       "<tbody>\n",
       "\t<tr><td>892</td><td>3</td><td>Kelly, Mr. James                                       </td><td>male  </td><td>34.5</td><td>0</td><td>0</td><td>330911          </td><td>  7.8292</td><td>NA             </td><td>Q</td></tr>\n",
       "\t<tr><td>893</td><td>3</td><td>Wilkes, Mrs. James (Ellen Needs)                       </td><td>female</td><td>47.0</td><td>1</td><td>0</td><td>363272          </td><td>  7.0000</td><td>NA             </td><td>S</td></tr>\n",
       "\t<tr><td>894</td><td>2</td><td>Myles, Mr. Thomas Francis                              </td><td>male  </td><td>62.0</td><td>0</td><td>0</td><td>240276          </td><td>  9.6875</td><td>NA             </td><td>Q</td></tr>\n",
       "\t<tr><td>895</td><td>3</td><td>Wirz, Mr. Albert                                       </td><td>male  </td><td>27.0</td><td>0</td><td>0</td><td>315154          </td><td>  8.6625</td><td>NA             </td><td>S</td></tr>\n",
       "\t<tr><td>896</td><td>3</td><td>Hirvonen, Mrs. Alexander (Helga E Lindqvist)           </td><td>female</td><td>22.0</td><td>1</td><td>1</td><td>3101298         </td><td> 12.2875</td><td>NA             </td><td>S</td></tr>\n",
       "\t<tr><td>897</td><td>3</td><td>Svensson, Mr. Johan Cervin                             </td><td>male  </td><td>14.0</td><td>0</td><td>0</td><td>7538            </td><td>  9.2250</td><td>NA             </td><td>S</td></tr>\n",
       "\t<tr><td>898</td><td>3</td><td>Connolly, Miss. Kate                                   </td><td>female</td><td>30.0</td><td>0</td><td>0</td><td>330972          </td><td>  7.6292</td><td>NA             </td><td>Q</td></tr>\n",
       "\t<tr><td>899</td><td>2</td><td>Caldwell, Mr. Albert Francis                           </td><td>male  </td><td>26.0</td><td>1</td><td>1</td><td>248738          </td><td> 29.0000</td><td>NA             </td><td>S</td></tr>\n",
       "\t<tr><td>900</td><td>3</td><td>Abrahim, Mrs. Joseph (Sophie Halaut Easu)              </td><td>female</td><td>18.0</td><td>0</td><td>0</td><td>2657            </td><td>  7.2292</td><td>NA             </td><td>C</td></tr>\n",
       "\t<tr><td>901</td><td>3</td><td>Davies, Mr. John Samuel                                </td><td>male  </td><td>21.0</td><td>2</td><td>0</td><td>A/4 48871       </td><td> 24.1500</td><td>NA             </td><td>S</td></tr>\n",
       "\t<tr><td>902</td><td>3</td><td>Ilieff, Mr. Ylio                                       </td><td>male  </td><td>  NA</td><td>0</td><td>0</td><td>349220          </td><td>  7.8958</td><td>NA             </td><td>S</td></tr>\n",
       "\t<tr><td>903</td><td>1</td><td>Jones, Mr. Charles Cresson                             </td><td>male  </td><td>46.0</td><td>0</td><td>0</td><td>694             </td><td> 26.0000</td><td>NA             </td><td>S</td></tr>\n",
       "\t<tr><td>904</td><td>1</td><td>Snyder, Mrs. John Pillsbury (Nelle Stevenson)          </td><td>female</td><td>23.0</td><td>1</td><td>0</td><td>21228           </td><td> 82.2667</td><td>B45            </td><td>S</td></tr>\n",
       "\t<tr><td>905</td><td>2</td><td>Howard, Mr. Benjamin                                   </td><td>male  </td><td>63.0</td><td>1</td><td>0</td><td>24065           </td><td> 26.0000</td><td>NA             </td><td>S</td></tr>\n",
       "\t<tr><td>906</td><td>1</td><td>Chaffee, Mrs. Herbert Fuller (Carrie Constance Toogood)</td><td>female</td><td>47.0</td><td>1</td><td>0</td><td>W.E.P. 5734     </td><td> 61.1750</td><td>E31            </td><td>S</td></tr>\n",
       "\t<tr><td>907</td><td>2</td><td>del Carlo, Mrs. Sebastiano (Argenia Genovesi)          </td><td>female</td><td>24.0</td><td>1</td><td>0</td><td>SC/PARIS 2167   </td><td> 27.7208</td><td>NA             </td><td>C</td></tr>\n",
       "\t<tr><td>908</td><td>2</td><td>Keane, Mr. Daniel                                      </td><td>male  </td><td>35.0</td><td>0</td><td>0</td><td>233734          </td><td> 12.3500</td><td>NA             </td><td>Q</td></tr>\n",
       "\t<tr><td>909</td><td>3</td><td>Assaf, Mr. Gerios                                      </td><td>male  </td><td>21.0</td><td>0</td><td>0</td><td>2692            </td><td>  7.2250</td><td>NA             </td><td>C</td></tr>\n",
       "\t<tr><td>910</td><td>3</td><td>Ilmakangas, Miss. Ida Livija                           </td><td>female</td><td>27.0</td><td>1</td><td>0</td><td>STON/O2. 3101270</td><td>  7.9250</td><td>NA             </td><td>S</td></tr>\n",
       "\t<tr><td>911</td><td>3</td><td>Assaf Khalil, Mrs. Mariana (Miriam\")\"                  </td><td>female</td><td>45.0</td><td>0</td><td>0</td><td>2696            </td><td>  7.2250</td><td>NA             </td><td>C</td></tr>\n",
       "\t<tr><td>912</td><td>1</td><td>Rothschild, Mr. Martin                                 </td><td>male  </td><td>55.0</td><td>1</td><td>0</td><td>PC 17603        </td><td> 59.4000</td><td>NA             </td><td>C</td></tr>\n",
       "\t<tr><td>913</td><td>3</td><td>Olsen, Master. Artur Karl                              </td><td>male  </td><td> 9.0</td><td>0</td><td>1</td><td>C 17368         </td><td>  3.1708</td><td>NA             </td><td>S</td></tr>\n",
       "\t<tr><td>914</td><td>1</td><td>Flegenheim, Mrs. Alfred (Antoinette)                   </td><td>female</td><td>  NA</td><td>0</td><td>0</td><td>PC 17598        </td><td> 31.6833</td><td>NA             </td><td>S</td></tr>\n",
       "\t<tr><td>915</td><td>1</td><td>Williams, Mr. Richard Norris II                        </td><td>male  </td><td>21.0</td><td>0</td><td>1</td><td>PC 17597        </td><td> 61.3792</td><td>NA             </td><td>C</td></tr>\n",
       "\t<tr><td>916</td><td>1</td><td>Ryerson, Mrs. Arthur Larned (Emily Maria Borie)        </td><td>female</td><td>48.0</td><td>1</td><td>3</td><td>PC 17608        </td><td>262.3750</td><td>B57 B59 B63 B66</td><td>C</td></tr>\n",
       "\t<tr><td>917</td><td>3</td><td>Robins, Mr. Alexander A                                </td><td>male  </td><td>50.0</td><td>1</td><td>0</td><td>A/5. 3337       </td><td> 14.5000</td><td>NA             </td><td>S</td></tr>\n",
       "\t<tr><td>918</td><td>1</td><td>Ostby, Miss. Helene Ragnhild                           </td><td>female</td><td>22.0</td><td>0</td><td>1</td><td>113509          </td><td> 61.9792</td><td>B36            </td><td>C</td></tr>\n",
       "\t<tr><td>919</td><td>3</td><td>Daher, Mr. Shedid                                      </td><td>male  </td><td>22.5</td><td>0</td><td>0</td><td>2698            </td><td>  7.2250</td><td>NA             </td><td>C</td></tr>\n",
       "\t<tr><td>920</td><td>1</td><td>Brady, Mr. John Bertram                                </td><td>male  </td><td>41.0</td><td>0</td><td>0</td><td>113054          </td><td> 30.5000</td><td>A21            </td><td>S</td></tr>\n",
       "\t<tr><td>921</td><td>3</td><td>Samaan, Mr. Elias                                      </td><td>male  </td><td>  NA</td><td>2</td><td>0</td><td>2662            </td><td> 21.6792</td><td>NA             </td><td>C</td></tr>\n",
       "\t<tr><td>⋮</td><td>⋮</td><td>⋮</td><td>⋮</td><td>⋮</td><td>⋮</td><td>⋮</td><td>⋮</td><td>⋮</td><td>⋮</td><td>⋮</td></tr>\n",
       "\t<tr><td>1280</td><td>3</td><td>Canavan, Mr. Patrick                                           </td><td>male  </td><td>21.0</td><td>0</td><td>0</td><td>364858            </td><td>  7.7500</td><td>NA  </td><td>Q</td></tr>\n",
       "\t<tr><td>1281</td><td>3</td><td>Palsson, Master. Paul Folke                                    </td><td>male  </td><td> 6.0</td><td>3</td><td>1</td><td>349909            </td><td> 21.0750</td><td>NA  </td><td>S</td></tr>\n",
       "\t<tr><td>1282</td><td>1</td><td>Payne, Mr. Vivian Ponsonby                                     </td><td>male  </td><td>23.0</td><td>0</td><td>0</td><td>12749             </td><td> 93.5000</td><td>B24 </td><td>S</td></tr>\n",
       "\t<tr><td>1283</td><td>1</td><td>Lines, Mrs. Ernest H (Elizabeth Lindsey James)                 </td><td>female</td><td>51.0</td><td>0</td><td>1</td><td>PC 17592          </td><td> 39.4000</td><td>D28 </td><td>S</td></tr>\n",
       "\t<tr><td>1284</td><td>3</td><td>Abbott, Master. Eugene Joseph                                  </td><td>male  </td><td>13.0</td><td>0</td><td>2</td><td>C.A. 2673         </td><td> 20.2500</td><td>NA  </td><td>S</td></tr>\n",
       "\t<tr><td>1285</td><td>2</td><td>Gilbert, Mr. William                                           </td><td>male  </td><td>47.0</td><td>0</td><td>0</td><td>C.A. 30769        </td><td> 10.5000</td><td>NA  </td><td>S</td></tr>\n",
       "\t<tr><td>1286</td><td>3</td><td>Kink-Heilmann, Mr. Anton                                       </td><td>male  </td><td>29.0</td><td>3</td><td>1</td><td>315153            </td><td> 22.0250</td><td>NA  </td><td>S</td></tr>\n",
       "\t<tr><td>1287</td><td>1</td><td>Smith, Mrs. Lucien Philip (Mary Eloise Hughes)                 </td><td>female</td><td>18.0</td><td>1</td><td>0</td><td>13695             </td><td> 60.0000</td><td>C31 </td><td>S</td></tr>\n",
       "\t<tr><td>1288</td><td>3</td><td>Colbert, Mr. Patrick                                           </td><td>male  </td><td>24.0</td><td>0</td><td>0</td><td>371109            </td><td>  7.2500</td><td>NA  </td><td>Q</td></tr>\n",
       "\t<tr><td>1289</td><td>1</td><td>Frolicher-Stehli, Mrs. Maxmillian (Margaretha Emerentia Stehli)</td><td>female</td><td>48.0</td><td>1</td><td>1</td><td>13567             </td><td> 79.2000</td><td>B41 </td><td>C</td></tr>\n",
       "\t<tr><td>1290</td><td>3</td><td>Larsson-Rondberg, Mr. Edvard A                                 </td><td>male  </td><td>22.0</td><td>0</td><td>0</td><td>347065            </td><td>  7.7750</td><td>NA  </td><td>S</td></tr>\n",
       "\t<tr><td>1291</td><td>3</td><td>Conlon, Mr. Thomas Henry                                       </td><td>male  </td><td>31.0</td><td>0</td><td>0</td><td>21332             </td><td>  7.7333</td><td>NA  </td><td>Q</td></tr>\n",
       "\t<tr><td>1292</td><td>1</td><td>Bonnell, Miss. Caroline                                        </td><td>female</td><td>30.0</td><td>0</td><td>0</td><td>36928             </td><td>164.8667</td><td>C7  </td><td>S</td></tr>\n",
       "\t<tr><td>1293</td><td>2</td><td>Gale, Mr. Harry                                                </td><td>male  </td><td>38.0</td><td>1</td><td>0</td><td>28664             </td><td> 21.0000</td><td>NA  </td><td>S</td></tr>\n",
       "\t<tr><td>1294</td><td>1</td><td>Gibson, Miss. Dorothy Winifred                                 </td><td>female</td><td>22.0</td><td>0</td><td>1</td><td>112378            </td><td> 59.4000</td><td>NA  </td><td>C</td></tr>\n",
       "\t<tr><td>1295</td><td>1</td><td>Carrau, Mr. Jose Pedro                                         </td><td>male  </td><td>17.0</td><td>0</td><td>0</td><td>113059            </td><td> 47.1000</td><td>NA  </td><td>S</td></tr>\n",
       "\t<tr><td>1296</td><td>1</td><td>Frauenthal, Mr. Isaac Gerald                                   </td><td>male  </td><td>43.0</td><td>1</td><td>0</td><td>17765             </td><td> 27.7208</td><td>D40 </td><td>C</td></tr>\n",
       "\t<tr><td>1297</td><td>2</td><td>Nourney, Mr. Alfred (Baron von Drachstedt\")\"                   </td><td>male  </td><td>20.0</td><td>0</td><td>0</td><td>SC/PARIS 2166     </td><td> 13.8625</td><td>D38 </td><td>C</td></tr>\n",
       "\t<tr><td>1298</td><td>2</td><td>Ware, Mr. William Jeffery                                      </td><td>male  </td><td>23.0</td><td>1</td><td>0</td><td>28666             </td><td> 10.5000</td><td>NA  </td><td>S</td></tr>\n",
       "\t<tr><td>1299</td><td>1</td><td>Widener, Mr. George Dunton                                     </td><td>male  </td><td>50.0</td><td>1</td><td>1</td><td>113503            </td><td>211.5000</td><td>C80 </td><td>C</td></tr>\n",
       "\t<tr><td>1300</td><td>3</td><td>Riordan, Miss. Johanna Hannah\"\"                                </td><td>female</td><td>  NA</td><td>0</td><td>0</td><td>334915            </td><td>  7.7208</td><td>NA  </td><td>Q</td></tr>\n",
       "\t<tr><td>1301</td><td>3</td><td>Peacock, Miss. Treasteall                                      </td><td>female</td><td> 3.0</td><td>1</td><td>1</td><td>SOTON/O.Q. 3101315</td><td> 13.7750</td><td>NA  </td><td>S</td></tr>\n",
       "\t<tr><td>1302</td><td>3</td><td>Naughton, Miss. Hannah                                         </td><td>female</td><td>  NA</td><td>0</td><td>0</td><td>365237            </td><td>  7.7500</td><td>NA  </td><td>Q</td></tr>\n",
       "\t<tr><td>1303</td><td>1</td><td>Minahan, Mrs. William Edward (Lillian E Thorpe)                </td><td>female</td><td>37.0</td><td>1</td><td>0</td><td>19928             </td><td> 90.0000</td><td>C78 </td><td>Q</td></tr>\n",
       "\t<tr><td>1304</td><td>3</td><td>Henriksson, Miss. Jenny Lovisa                                 </td><td>female</td><td>28.0</td><td>0</td><td>0</td><td>347086            </td><td>  7.7750</td><td>NA  </td><td>S</td></tr>\n",
       "\t<tr><td>1305</td><td>3</td><td>Spector, Mr. Woolf                                             </td><td>male  </td><td>  NA</td><td>0</td><td>0</td><td>A.5. 3236         </td><td>  8.0500</td><td>NA  </td><td>S</td></tr>\n",
       "\t<tr><td>1306</td><td>1</td><td>Oliva y Ocana, Dona. Fermina                                   </td><td>female</td><td>39.0</td><td>0</td><td>0</td><td>PC 17758          </td><td>108.9000</td><td>C105</td><td>C</td></tr>\n",
       "\t<tr><td>1307</td><td>3</td><td>Saether, Mr. Simon Sivertsen                                   </td><td>male  </td><td>38.5</td><td>0</td><td>0</td><td>SOTON/O.Q. 3101262</td><td>  7.2500</td><td>NA  </td><td>S</td></tr>\n",
       "\t<tr><td>1308</td><td>3</td><td>Ware, Mr. Frederick                                            </td><td>male  </td><td>  NA</td><td>0</td><td>0</td><td>359309            </td><td>  8.0500</td><td>NA  </td><td>S</td></tr>\n",
       "\t<tr><td>1309</td><td>3</td><td>Peter, Master. Michael J                                       </td><td>male  </td><td>  NA</td><td>1</td><td>1</td><td>2668              </td><td> 22.3583</td><td>NA  </td><td>C</td></tr>\n",
       "</tbody>\n",
       "</table>\n",
       "</li>\n",
       "</ol>\n"
      ],
      "text/latex": [
       "\\begin{enumerate}\n",
       "\\item A spec\\_tbl\\_df: 891 × 12\n",
       "\\begin{tabular}{llllllllllll}\n",
       " PassengerId & Survived & Pclass & Name & Sex & Age & SibSp & Parch & Ticket & Fare & Cabin & Embarked\\\\\n",
       " <dbl> & <dbl> & <dbl> & <chr> & <chr> & <dbl> & <dbl> & <dbl> & <chr> & <dbl> & <chr> & <chr>\\\\\n",
       "\\hline\n",
       "\t  1 & 0 & 3 & Braund, Mr. Owen Harris                                   & male   & 22 & 1 & 0 & A/5 21171        &   7.2500 & NA          & S\\\\\n",
       "\t  2 & 1 & 1 & Cumings, Mrs. John Bradley (Florence Briggs Thayer)       & female & 38 & 1 & 0 & PC 17599         &  71.2833 & C85         & C\\\\\n",
       "\t  3 & 1 & 3 & Heikkinen, Miss. Laina                                    & female & 26 & 0 & 0 & STON/O2. 3101282 &   7.9250 & NA          & S\\\\\n",
       "\t  4 & 1 & 1 & Futrelle, Mrs. Jacques Heath (Lily May Peel)              & female & 35 & 1 & 0 & 113803           &  53.1000 & C123        & S\\\\\n",
       "\t  5 & 0 & 3 & Allen, Mr. William Henry                                  & male   & 35 & 0 & 0 & 373450           &   8.0500 & NA          & S\\\\\n",
       "\t  6 & 0 & 3 & Moran, Mr. James                                          & male   & NA & 0 & 0 & 330877           &   8.4583 & NA          & Q\\\\\n",
       "\t  7 & 0 & 1 & McCarthy, Mr. Timothy J                                   & male   & 54 & 0 & 0 & 17463            &  51.8625 & E46         & S\\\\\n",
       "\t  8 & 0 & 3 & Palsson, Master. Gosta Leonard                            & male   &  2 & 3 & 1 & 349909           &  21.0750 & NA          & S\\\\\n",
       "\t  9 & 1 & 3 & Johnson, Mrs. Oscar W (Elisabeth Vilhelmina Berg)         & female & 27 & 0 & 2 & 347742           &  11.1333 & NA          & S\\\\\n",
       "\t 10 & 1 & 2 & Nasser, Mrs. Nicholas (Adele Achem)                       & female & 14 & 1 & 0 & 237736           &  30.0708 & NA          & C\\\\\n",
       "\t 11 & 1 & 3 & Sandstrom, Miss. Marguerite Rut                           & female &  4 & 1 & 1 & PP 9549          &  16.7000 & G6          & S\\\\\n",
       "\t 12 & 1 & 1 & Bonnell, Miss. Elizabeth                                  & female & 58 & 0 & 0 & 113783           &  26.5500 & C103        & S\\\\\n",
       "\t 13 & 0 & 3 & Saundercock, Mr. William Henry                            & male   & 20 & 0 & 0 & A/5. 2151        &   8.0500 & NA          & S\\\\\n",
       "\t 14 & 0 & 3 & Andersson, Mr. Anders Johan                               & male   & 39 & 1 & 5 & 347082           &  31.2750 & NA          & S\\\\\n",
       "\t 15 & 0 & 3 & Vestrom, Miss. Hulda Amanda Adolfina                      & female & 14 & 0 & 0 & 350406           &   7.8542 & NA          & S\\\\\n",
       "\t 16 & 1 & 2 & Hewlett, Mrs. (Mary D Kingcome)                           & female & 55 & 0 & 0 & 248706           &  16.0000 & NA          & S\\\\\n",
       "\t 17 & 0 & 3 & Rice, Master. Eugene                                      & male   &  2 & 4 & 1 & 382652           &  29.1250 & NA          & Q\\\\\n",
       "\t 18 & 1 & 2 & Williams, Mr. Charles Eugene                              & male   & NA & 0 & 0 & 244373           &  13.0000 & NA          & S\\\\\n",
       "\t 19 & 0 & 3 & Vander Planke, Mrs. Julius (Emelia Maria Vandemoortele)   & female & 31 & 1 & 0 & 345763           &  18.0000 & NA          & S\\\\\n",
       "\t 20 & 1 & 3 & Masselmani, Mrs. Fatima                                   & female & NA & 0 & 0 & 2649             &   7.2250 & NA          & C\\\\\n",
       "\t 21 & 0 & 2 & Fynney, Mr. Joseph J                                      & male   & 35 & 0 & 0 & 239865           &  26.0000 & NA          & S\\\\\n",
       "\t 22 & 1 & 2 & Beesley, Mr. Lawrence                                     & male   & 34 & 0 & 0 & 248698           &  13.0000 & D56         & S\\\\\n",
       "\t 23 & 1 & 3 & McGowan, Miss. Anna \"Annie\"                               & female & 15 & 0 & 0 & 330923           &   8.0292 & NA          & Q\\\\\n",
       "\t 24 & 1 & 1 & Sloper, Mr. William Thompson                              & male   & 28 & 0 & 0 & 113788           &  35.5000 & A6          & S\\\\\n",
       "\t 25 & 0 & 3 & Palsson, Miss. Torborg Danira                             & female &  8 & 3 & 1 & 349909           &  21.0750 & NA          & S\\\\\n",
       "\t 26 & 1 & 3 & Asplund, Mrs. Carl Oscar (Selma Augusta Emilia Johansson) & female & 38 & 1 & 5 & 347077           &  31.3875 & NA          & S\\\\\n",
       "\t 27 & 0 & 3 & Emir, Mr. Farred Chehab                                   & male   & NA & 0 & 0 & 2631             &   7.2250 & NA          & C\\\\\n",
       "\t 28 & 0 & 1 & Fortune, Mr. Charles Alexander                            & male   & 19 & 3 & 2 & 19950            & 263.0000 & C23 C25 C27 & S\\\\\n",
       "\t 29 & 1 & 3 & O'Dwyer, Miss. Ellen \"Nellie\"                             & female & NA & 0 & 0 & 330959           &   7.8792 & NA          & Q\\\\\n",
       "\t 30 & 0 & 3 & Todoroff, Mr. Lalio                                       & male   & NA & 0 & 0 & 349216           &   7.8958 & NA          & S\\\\\n",
       "\t ⋮ & ⋮ & ⋮ & ⋮ & ⋮ & ⋮ & ⋮ & ⋮ & ⋮ & ⋮ & ⋮ & ⋮\\\\\n",
       "\t 862 & 0 & 2 & Giles, Mr. Frederick Edward                         & male   & 21 & 1 & 0 & 28134            & 11.5000 & NA          & S\\\\\n",
       "\t 863 & 1 & 1 & Swift, Mrs. Frederick Joel (Margaret Welles Barron) & female & 48 & 0 & 0 & 17466            & 25.9292 & D17         & S\\\\\n",
       "\t 864 & 0 & 3 & Sage, Miss. Dorothy Edith \"Dolly\"                   & female & NA & 8 & 2 & CA. 2343         & 69.5500 & NA          & S\\\\\n",
       "\t 865 & 0 & 2 & Gill, Mr. John William                              & male   & 24 & 0 & 0 & 233866           & 13.0000 & NA          & S\\\\\n",
       "\t 866 & 1 & 2 & Bystrom, Mrs. (Karolina)                            & female & 42 & 0 & 0 & 236852           & 13.0000 & NA          & S\\\\\n",
       "\t 867 & 1 & 2 & Duran y More, Miss. Asuncion                        & female & 27 & 1 & 0 & SC/PARIS 2149    & 13.8583 & NA          & C\\\\\n",
       "\t 868 & 0 & 1 & Roebling, Mr. Washington Augustus II                & male   & 31 & 0 & 0 & PC 17590         & 50.4958 & A24         & S\\\\\n",
       "\t 869 & 0 & 3 & van Melkebeke, Mr. Philemon                         & male   & NA & 0 & 0 & 345777           &  9.5000 & NA          & S\\\\\n",
       "\t 870 & 1 & 3 & Johnson, Master. Harold Theodor                     & male   &  4 & 1 & 1 & 347742           & 11.1333 & NA          & S\\\\\n",
       "\t 871 & 0 & 3 & Balkic, Mr. Cerin                                   & male   & 26 & 0 & 0 & 349248           &  7.8958 & NA          & S\\\\\n",
       "\t 872 & 1 & 1 & Beckwith, Mrs. Richard Leonard (Sallie Monypeny)    & female & 47 & 1 & 1 & 11751            & 52.5542 & D35         & S\\\\\n",
       "\t 873 & 0 & 1 & Carlsson, Mr. Frans Olof                            & male   & 33 & 0 & 0 & 695              &  5.0000 & B51 B53 B55 & S\\\\\n",
       "\t 874 & 0 & 3 & Vander Cruyssen, Mr. Victor                         & male   & 47 & 0 & 0 & 345765           &  9.0000 & NA          & S\\\\\n",
       "\t 875 & 1 & 2 & Abelson, Mrs. Samuel (Hannah Wizosky)               & female & 28 & 1 & 0 & P/PP 3381        & 24.0000 & NA          & C\\\\\n",
       "\t 876 & 1 & 3 & Najib, Miss. Adele Kiamie \"Jane\"                    & female & 15 & 0 & 0 & 2667             &  7.2250 & NA          & C\\\\\n",
       "\t 877 & 0 & 3 & Gustafsson, Mr. Alfred Ossian                       & male   & 20 & 0 & 0 & 7534             &  9.8458 & NA          & S\\\\\n",
       "\t 878 & 0 & 3 & Petroff, Mr. Nedelio                                & male   & 19 & 0 & 0 & 349212           &  7.8958 & NA          & S\\\\\n",
       "\t 879 & 0 & 3 & Laleff, Mr. Kristo                                  & male   & NA & 0 & 0 & 349217           &  7.8958 & NA          & S\\\\\n",
       "\t 880 & 1 & 1 & Potter, Mrs. Thomas Jr (Lily Alexenia Wilson)       & female & 56 & 0 & 1 & 11767            & 83.1583 & C50         & C\\\\\n",
       "\t 881 & 1 & 2 & Shelley, Mrs. William (Imanita Parrish Hall)        & female & 25 & 0 & 1 & 230433           & 26.0000 & NA          & S\\\\\n",
       "\t 882 & 0 & 3 & Markun, Mr. Johann                                  & male   & 33 & 0 & 0 & 349257           &  7.8958 & NA          & S\\\\\n",
       "\t 883 & 0 & 3 & Dahlberg, Miss. Gerda Ulrika                        & female & 22 & 0 & 0 & 7552             & 10.5167 & NA          & S\\\\\n",
       "\t 884 & 0 & 2 & Banfield, Mr. Frederick James                       & male   & 28 & 0 & 0 & C.A./SOTON 34068 & 10.5000 & NA          & S\\\\\n",
       "\t 885 & 0 & 3 & Sutehall, Mr. Henry Jr                              & male   & 25 & 0 & 0 & SOTON/OQ 392076  &  7.0500 & NA          & S\\\\\n",
       "\t 886 & 0 & 3 & Rice, Mrs. William (Margaret Norton)                & female & 39 & 0 & 5 & 382652           & 29.1250 & NA          & Q\\\\\n",
       "\t 887 & 0 & 2 & Montvila, Rev. Juozas                               & male   & 27 & 0 & 0 & 211536           & 13.0000 & NA          & S\\\\\n",
       "\t 888 & 1 & 1 & Graham, Miss. Margaret Edith                        & female & 19 & 0 & 0 & 112053           & 30.0000 & B42         & S\\\\\n",
       "\t 889 & 0 & 3 & Johnston, Miss. Catherine Helen \"Carrie\"            & female & NA & 1 & 2 & W./C. 6607       & 23.4500 & NA          & S\\\\\n",
       "\t 890 & 1 & 1 & Behr, Mr. Karl Howell                               & male   & 26 & 0 & 0 & 111369           & 30.0000 & C148        & C\\\\\n",
       "\t 891 & 0 & 3 & Dooley, Mr. Patrick                                 & male   & 32 & 0 & 0 & 370376           &  7.7500 & NA          & Q\\\\\n",
       "\\end{tabular}\n",
       "\n",
       "\\item A spec\\_tbl\\_df: 418 × 11\n",
       "\\begin{tabular}{lllllllllll}\n",
       " PassengerId & Pclass & Name & Sex & Age & SibSp & Parch & Ticket & Fare & Cabin & Embarked\\\\\n",
       " <dbl> & <dbl> & <chr> & <chr> & <dbl> & <dbl> & <dbl> & <chr> & <dbl> & <chr> & <chr>\\\\\n",
       "\\hline\n",
       "\t 892 & 3 & Kelly, Mr. James                                        & male   & 34.5 & 0 & 0 & 330911           &   7.8292 & NA              & Q\\\\\n",
       "\t 893 & 3 & Wilkes, Mrs. James (Ellen Needs)                        & female & 47.0 & 1 & 0 & 363272           &   7.0000 & NA              & S\\\\\n",
       "\t 894 & 2 & Myles, Mr. Thomas Francis                               & male   & 62.0 & 0 & 0 & 240276           &   9.6875 & NA              & Q\\\\\n",
       "\t 895 & 3 & Wirz, Mr. Albert                                        & male   & 27.0 & 0 & 0 & 315154           &   8.6625 & NA              & S\\\\\n",
       "\t 896 & 3 & Hirvonen, Mrs. Alexander (Helga E Lindqvist)            & female & 22.0 & 1 & 1 & 3101298          &  12.2875 & NA              & S\\\\\n",
       "\t 897 & 3 & Svensson, Mr. Johan Cervin                              & male   & 14.0 & 0 & 0 & 7538             &   9.2250 & NA              & S\\\\\n",
       "\t 898 & 3 & Connolly, Miss. Kate                                    & female & 30.0 & 0 & 0 & 330972           &   7.6292 & NA              & Q\\\\\n",
       "\t 899 & 2 & Caldwell, Mr. Albert Francis                            & male   & 26.0 & 1 & 1 & 248738           &  29.0000 & NA              & S\\\\\n",
       "\t 900 & 3 & Abrahim, Mrs. Joseph (Sophie Halaut Easu)               & female & 18.0 & 0 & 0 & 2657             &   7.2292 & NA              & C\\\\\n",
       "\t 901 & 3 & Davies, Mr. John Samuel                                 & male   & 21.0 & 2 & 0 & A/4 48871        &  24.1500 & NA              & S\\\\\n",
       "\t 902 & 3 & Ilieff, Mr. Ylio                                        & male   &   NA & 0 & 0 & 349220           &   7.8958 & NA              & S\\\\\n",
       "\t 903 & 1 & Jones, Mr. Charles Cresson                              & male   & 46.0 & 0 & 0 & 694              &  26.0000 & NA              & S\\\\\n",
       "\t 904 & 1 & Snyder, Mrs. John Pillsbury (Nelle Stevenson)           & female & 23.0 & 1 & 0 & 21228            &  82.2667 & B45             & S\\\\\n",
       "\t 905 & 2 & Howard, Mr. Benjamin                                    & male   & 63.0 & 1 & 0 & 24065            &  26.0000 & NA              & S\\\\\n",
       "\t 906 & 1 & Chaffee, Mrs. Herbert Fuller (Carrie Constance Toogood) & female & 47.0 & 1 & 0 & W.E.P. 5734      &  61.1750 & E31             & S\\\\\n",
       "\t 907 & 2 & del Carlo, Mrs. Sebastiano (Argenia Genovesi)           & female & 24.0 & 1 & 0 & SC/PARIS 2167    &  27.7208 & NA              & C\\\\\n",
       "\t 908 & 2 & Keane, Mr. Daniel                                       & male   & 35.0 & 0 & 0 & 233734           &  12.3500 & NA              & Q\\\\\n",
       "\t 909 & 3 & Assaf, Mr. Gerios                                       & male   & 21.0 & 0 & 0 & 2692             &   7.2250 & NA              & C\\\\\n",
       "\t 910 & 3 & Ilmakangas, Miss. Ida Livija                            & female & 27.0 & 1 & 0 & STON/O2. 3101270 &   7.9250 & NA              & S\\\\\n",
       "\t 911 & 3 & Assaf Khalil, Mrs. Mariana (Miriam\")\"                   & female & 45.0 & 0 & 0 & 2696             &   7.2250 & NA              & C\\\\\n",
       "\t 912 & 1 & Rothschild, Mr. Martin                                  & male   & 55.0 & 1 & 0 & PC 17603         &  59.4000 & NA              & C\\\\\n",
       "\t 913 & 3 & Olsen, Master. Artur Karl                               & male   &  9.0 & 0 & 1 & C 17368          &   3.1708 & NA              & S\\\\\n",
       "\t 914 & 1 & Flegenheim, Mrs. Alfred (Antoinette)                    & female &   NA & 0 & 0 & PC 17598         &  31.6833 & NA              & S\\\\\n",
       "\t 915 & 1 & Williams, Mr. Richard Norris II                         & male   & 21.0 & 0 & 1 & PC 17597         &  61.3792 & NA              & C\\\\\n",
       "\t 916 & 1 & Ryerson, Mrs. Arthur Larned (Emily Maria Borie)         & female & 48.0 & 1 & 3 & PC 17608         & 262.3750 & B57 B59 B63 B66 & C\\\\\n",
       "\t 917 & 3 & Robins, Mr. Alexander A                                 & male   & 50.0 & 1 & 0 & A/5. 3337        &  14.5000 & NA              & S\\\\\n",
       "\t 918 & 1 & Ostby, Miss. Helene Ragnhild                            & female & 22.0 & 0 & 1 & 113509           &  61.9792 & B36             & C\\\\\n",
       "\t 919 & 3 & Daher, Mr. Shedid                                       & male   & 22.5 & 0 & 0 & 2698             &   7.2250 & NA              & C\\\\\n",
       "\t 920 & 1 & Brady, Mr. John Bertram                                 & male   & 41.0 & 0 & 0 & 113054           &  30.5000 & A21             & S\\\\\n",
       "\t 921 & 3 & Samaan, Mr. Elias                                       & male   &   NA & 2 & 0 & 2662             &  21.6792 & NA              & C\\\\\n",
       "\t ⋮ & ⋮ & ⋮ & ⋮ & ⋮ & ⋮ & ⋮ & ⋮ & ⋮ & ⋮ & ⋮\\\\\n",
       "\t 1280 & 3 & Canavan, Mr. Patrick                                            & male   & 21.0 & 0 & 0 & 364858             &   7.7500 & NA   & Q\\\\\n",
       "\t 1281 & 3 & Palsson, Master. Paul Folke                                     & male   &  6.0 & 3 & 1 & 349909             &  21.0750 & NA   & S\\\\\n",
       "\t 1282 & 1 & Payne, Mr. Vivian Ponsonby                                      & male   & 23.0 & 0 & 0 & 12749              &  93.5000 & B24  & S\\\\\n",
       "\t 1283 & 1 & Lines, Mrs. Ernest H (Elizabeth Lindsey James)                  & female & 51.0 & 0 & 1 & PC 17592           &  39.4000 & D28  & S\\\\\n",
       "\t 1284 & 3 & Abbott, Master. Eugene Joseph                                   & male   & 13.0 & 0 & 2 & C.A. 2673          &  20.2500 & NA   & S\\\\\n",
       "\t 1285 & 2 & Gilbert, Mr. William                                            & male   & 47.0 & 0 & 0 & C.A. 30769         &  10.5000 & NA   & S\\\\\n",
       "\t 1286 & 3 & Kink-Heilmann, Mr. Anton                                        & male   & 29.0 & 3 & 1 & 315153             &  22.0250 & NA   & S\\\\\n",
       "\t 1287 & 1 & Smith, Mrs. Lucien Philip (Mary Eloise Hughes)                  & female & 18.0 & 1 & 0 & 13695              &  60.0000 & C31  & S\\\\\n",
       "\t 1288 & 3 & Colbert, Mr. Patrick                                            & male   & 24.0 & 0 & 0 & 371109             &   7.2500 & NA   & Q\\\\\n",
       "\t 1289 & 1 & Frolicher-Stehli, Mrs. Maxmillian (Margaretha Emerentia Stehli) & female & 48.0 & 1 & 1 & 13567              &  79.2000 & B41  & C\\\\\n",
       "\t 1290 & 3 & Larsson-Rondberg, Mr. Edvard A                                  & male   & 22.0 & 0 & 0 & 347065             &   7.7750 & NA   & S\\\\\n",
       "\t 1291 & 3 & Conlon, Mr. Thomas Henry                                        & male   & 31.0 & 0 & 0 & 21332              &   7.7333 & NA   & Q\\\\\n",
       "\t 1292 & 1 & Bonnell, Miss. Caroline                                         & female & 30.0 & 0 & 0 & 36928              & 164.8667 & C7   & S\\\\\n",
       "\t 1293 & 2 & Gale, Mr. Harry                                                 & male   & 38.0 & 1 & 0 & 28664              &  21.0000 & NA   & S\\\\\n",
       "\t 1294 & 1 & Gibson, Miss. Dorothy Winifred                                  & female & 22.0 & 0 & 1 & 112378             &  59.4000 & NA   & C\\\\\n",
       "\t 1295 & 1 & Carrau, Mr. Jose Pedro                                          & male   & 17.0 & 0 & 0 & 113059             &  47.1000 & NA   & S\\\\\n",
       "\t 1296 & 1 & Frauenthal, Mr. Isaac Gerald                                    & male   & 43.0 & 1 & 0 & 17765              &  27.7208 & D40  & C\\\\\n",
       "\t 1297 & 2 & Nourney, Mr. Alfred (Baron von Drachstedt\")\"                    & male   & 20.0 & 0 & 0 & SC/PARIS 2166      &  13.8625 & D38  & C\\\\\n",
       "\t 1298 & 2 & Ware, Mr. William Jeffery                                       & male   & 23.0 & 1 & 0 & 28666              &  10.5000 & NA   & S\\\\\n",
       "\t 1299 & 1 & Widener, Mr. George Dunton                                      & male   & 50.0 & 1 & 1 & 113503             & 211.5000 & C80  & C\\\\\n",
       "\t 1300 & 3 & Riordan, Miss. Johanna Hannah\"\"                                 & female &   NA & 0 & 0 & 334915             &   7.7208 & NA   & Q\\\\\n",
       "\t 1301 & 3 & Peacock, Miss. Treasteall                                       & female &  3.0 & 1 & 1 & SOTON/O.Q. 3101315 &  13.7750 & NA   & S\\\\\n",
       "\t 1302 & 3 & Naughton, Miss. Hannah                                          & female &   NA & 0 & 0 & 365237             &   7.7500 & NA   & Q\\\\\n",
       "\t 1303 & 1 & Minahan, Mrs. William Edward (Lillian E Thorpe)                 & female & 37.0 & 1 & 0 & 19928              &  90.0000 & C78  & Q\\\\\n",
       "\t 1304 & 3 & Henriksson, Miss. Jenny Lovisa                                  & female & 28.0 & 0 & 0 & 347086             &   7.7750 & NA   & S\\\\\n",
       "\t 1305 & 3 & Spector, Mr. Woolf                                              & male   &   NA & 0 & 0 & A.5. 3236          &   8.0500 & NA   & S\\\\\n",
       "\t 1306 & 1 & Oliva y Ocana, Dona. Fermina                                    & female & 39.0 & 0 & 0 & PC 17758           & 108.9000 & C105 & C\\\\\n",
       "\t 1307 & 3 & Saether, Mr. Simon Sivertsen                                    & male   & 38.5 & 0 & 0 & SOTON/O.Q. 3101262 &   7.2500 & NA   & S\\\\\n",
       "\t 1308 & 3 & Ware, Mr. Frederick                                             & male   &   NA & 0 & 0 & 359309             &   8.0500 & NA   & S\\\\\n",
       "\t 1309 & 3 & Peter, Master. Michael J                                        & male   &   NA & 1 & 1 & 2668               &  22.3583 & NA   & C\\\\\n",
       "\\end{tabular}\n",
       "\n",
       "\\end{enumerate}\n"
      ],
      "text/markdown": [
       "1. \n",
       "A spec_tbl_df: 891 × 12\n",
       "\n",
       "| PassengerId &lt;dbl&gt; | Survived &lt;dbl&gt; | Pclass &lt;dbl&gt; | Name &lt;chr&gt; | Sex &lt;chr&gt; | Age &lt;dbl&gt; | SibSp &lt;dbl&gt; | Parch &lt;dbl&gt; | Ticket &lt;chr&gt; | Fare &lt;dbl&gt; | Cabin &lt;chr&gt; | Embarked &lt;chr&gt; |\n",
       "|---|---|---|---|---|---|---|---|---|---|---|---|\n",
       "|  1 | 0 | 3 | Braund, Mr. Owen Harris                                   | male   | 22 | 1 | 0 | A/5 21171        |   7.2500 | NA          | S |\n",
       "|  2 | 1 | 1 | Cumings, Mrs. John Bradley (Florence Briggs Thayer)       | female | 38 | 1 | 0 | PC 17599         |  71.2833 | C85         | C |\n",
       "|  3 | 1 | 3 | Heikkinen, Miss. Laina                                    | female | 26 | 0 | 0 | STON/O2. 3101282 |   7.9250 | NA          | S |\n",
       "|  4 | 1 | 1 | Futrelle, Mrs. Jacques Heath (Lily May Peel)              | female | 35 | 1 | 0 | 113803           |  53.1000 | C123        | S |\n",
       "|  5 | 0 | 3 | Allen, Mr. William Henry                                  | male   | 35 | 0 | 0 | 373450           |   8.0500 | NA          | S |\n",
       "|  6 | 0 | 3 | Moran, Mr. James                                          | male   | NA | 0 | 0 | 330877           |   8.4583 | NA          | Q |\n",
       "|  7 | 0 | 1 | McCarthy, Mr. Timothy J                                   | male   | 54 | 0 | 0 | 17463            |  51.8625 | E46         | S |\n",
       "|  8 | 0 | 3 | Palsson, Master. Gosta Leonard                            | male   |  2 | 3 | 1 | 349909           |  21.0750 | NA          | S |\n",
       "|  9 | 1 | 3 | Johnson, Mrs. Oscar W (Elisabeth Vilhelmina Berg)         | female | 27 | 0 | 2 | 347742           |  11.1333 | NA          | S |\n",
       "| 10 | 1 | 2 | Nasser, Mrs. Nicholas (Adele Achem)                       | female | 14 | 1 | 0 | 237736           |  30.0708 | NA          | C |\n",
       "| 11 | 1 | 3 | Sandstrom, Miss. Marguerite Rut                           | female |  4 | 1 | 1 | PP 9549          |  16.7000 | G6          | S |\n",
       "| 12 | 1 | 1 | Bonnell, Miss. Elizabeth                                  | female | 58 | 0 | 0 | 113783           |  26.5500 | C103        | S |\n",
       "| 13 | 0 | 3 | Saundercock, Mr. William Henry                            | male   | 20 | 0 | 0 | A/5. 2151        |   8.0500 | NA          | S |\n",
       "| 14 | 0 | 3 | Andersson, Mr. Anders Johan                               | male   | 39 | 1 | 5 | 347082           |  31.2750 | NA          | S |\n",
       "| 15 | 0 | 3 | Vestrom, Miss. Hulda Amanda Adolfina                      | female | 14 | 0 | 0 | 350406           |   7.8542 | NA          | S |\n",
       "| 16 | 1 | 2 | Hewlett, Mrs. (Mary D Kingcome)                           | female | 55 | 0 | 0 | 248706           |  16.0000 | NA          | S |\n",
       "| 17 | 0 | 3 | Rice, Master. Eugene                                      | male   |  2 | 4 | 1 | 382652           |  29.1250 | NA          | Q |\n",
       "| 18 | 1 | 2 | Williams, Mr. Charles Eugene                              | male   | NA | 0 | 0 | 244373           |  13.0000 | NA          | S |\n",
       "| 19 | 0 | 3 | Vander Planke, Mrs. Julius (Emelia Maria Vandemoortele)   | female | 31 | 1 | 0 | 345763           |  18.0000 | NA          | S |\n",
       "| 20 | 1 | 3 | Masselmani, Mrs. Fatima                                   | female | NA | 0 | 0 | 2649             |   7.2250 | NA          | C |\n",
       "| 21 | 0 | 2 | Fynney, Mr. Joseph J                                      | male   | 35 | 0 | 0 | 239865           |  26.0000 | NA          | S |\n",
       "| 22 | 1 | 2 | Beesley, Mr. Lawrence                                     | male   | 34 | 0 | 0 | 248698           |  13.0000 | D56         | S |\n",
       "| 23 | 1 | 3 | McGowan, Miss. Anna \"Annie\"                               | female | 15 | 0 | 0 | 330923           |   8.0292 | NA          | Q |\n",
       "| 24 | 1 | 1 | Sloper, Mr. William Thompson                              | male   | 28 | 0 | 0 | 113788           |  35.5000 | A6          | S |\n",
       "| 25 | 0 | 3 | Palsson, Miss. Torborg Danira                             | female |  8 | 3 | 1 | 349909           |  21.0750 | NA          | S |\n",
       "| 26 | 1 | 3 | Asplund, Mrs. Carl Oscar (Selma Augusta Emilia Johansson) | female | 38 | 1 | 5 | 347077           |  31.3875 | NA          | S |\n",
       "| 27 | 0 | 3 | Emir, Mr. Farred Chehab                                   | male   | NA | 0 | 0 | 2631             |   7.2250 | NA          | C |\n",
       "| 28 | 0 | 1 | Fortune, Mr. Charles Alexander                            | male   | 19 | 3 | 2 | 19950            | 263.0000 | C23 C25 C27 | S |\n",
       "| 29 | 1 | 3 | O'Dwyer, Miss. Ellen \"Nellie\"                             | female | NA | 0 | 0 | 330959           |   7.8792 | NA          | Q |\n",
       "| 30 | 0 | 3 | Todoroff, Mr. Lalio                                       | male   | NA | 0 | 0 | 349216           |   7.8958 | NA          | S |\n",
       "| ⋮ | ⋮ | ⋮ | ⋮ | ⋮ | ⋮ | ⋮ | ⋮ | ⋮ | ⋮ | ⋮ | ⋮ |\n",
       "| 862 | 0 | 2 | Giles, Mr. Frederick Edward                         | male   | 21 | 1 | 0 | 28134            | 11.5000 | NA          | S |\n",
       "| 863 | 1 | 1 | Swift, Mrs. Frederick Joel (Margaret Welles Barron) | female | 48 | 0 | 0 | 17466            | 25.9292 | D17         | S |\n",
       "| 864 | 0 | 3 | Sage, Miss. Dorothy Edith \"Dolly\"                   | female | NA | 8 | 2 | CA. 2343         | 69.5500 | NA          | S |\n",
       "| 865 | 0 | 2 | Gill, Mr. John William                              | male   | 24 | 0 | 0 | 233866           | 13.0000 | NA          | S |\n",
       "| 866 | 1 | 2 | Bystrom, Mrs. (Karolina)                            | female | 42 | 0 | 0 | 236852           | 13.0000 | NA          | S |\n",
       "| 867 | 1 | 2 | Duran y More, Miss. Asuncion                        | female | 27 | 1 | 0 | SC/PARIS 2149    | 13.8583 | NA          | C |\n",
       "| 868 | 0 | 1 | Roebling, Mr. Washington Augustus II                | male   | 31 | 0 | 0 | PC 17590         | 50.4958 | A24         | S |\n",
       "| 869 | 0 | 3 | van Melkebeke, Mr. Philemon                         | male   | NA | 0 | 0 | 345777           |  9.5000 | NA          | S |\n",
       "| 870 | 1 | 3 | Johnson, Master. Harold Theodor                     | male   |  4 | 1 | 1 | 347742           | 11.1333 | NA          | S |\n",
       "| 871 | 0 | 3 | Balkic, Mr. Cerin                                   | male   | 26 | 0 | 0 | 349248           |  7.8958 | NA          | S |\n",
       "| 872 | 1 | 1 | Beckwith, Mrs. Richard Leonard (Sallie Monypeny)    | female | 47 | 1 | 1 | 11751            | 52.5542 | D35         | S |\n",
       "| 873 | 0 | 1 | Carlsson, Mr. Frans Olof                            | male   | 33 | 0 | 0 | 695              |  5.0000 | B51 B53 B55 | S |\n",
       "| 874 | 0 | 3 | Vander Cruyssen, Mr. Victor                         | male   | 47 | 0 | 0 | 345765           |  9.0000 | NA          | S |\n",
       "| 875 | 1 | 2 | Abelson, Mrs. Samuel (Hannah Wizosky)               | female | 28 | 1 | 0 | P/PP 3381        | 24.0000 | NA          | C |\n",
       "| 876 | 1 | 3 | Najib, Miss. Adele Kiamie \"Jane\"                    | female | 15 | 0 | 0 | 2667             |  7.2250 | NA          | C |\n",
       "| 877 | 0 | 3 | Gustafsson, Mr. Alfred Ossian                       | male   | 20 | 0 | 0 | 7534             |  9.8458 | NA          | S |\n",
       "| 878 | 0 | 3 | Petroff, Mr. Nedelio                                | male   | 19 | 0 | 0 | 349212           |  7.8958 | NA          | S |\n",
       "| 879 | 0 | 3 | Laleff, Mr. Kristo                                  | male   | NA | 0 | 0 | 349217           |  7.8958 | NA          | S |\n",
       "| 880 | 1 | 1 | Potter, Mrs. Thomas Jr (Lily Alexenia Wilson)       | female | 56 | 0 | 1 | 11767            | 83.1583 | C50         | C |\n",
       "| 881 | 1 | 2 | Shelley, Mrs. William (Imanita Parrish Hall)        | female | 25 | 0 | 1 | 230433           | 26.0000 | NA          | S |\n",
       "| 882 | 0 | 3 | Markun, Mr. Johann                                  | male   | 33 | 0 | 0 | 349257           |  7.8958 | NA          | S |\n",
       "| 883 | 0 | 3 | Dahlberg, Miss. Gerda Ulrika                        | female | 22 | 0 | 0 | 7552             | 10.5167 | NA          | S |\n",
       "| 884 | 0 | 2 | Banfield, Mr. Frederick James                       | male   | 28 | 0 | 0 | C.A./SOTON 34068 | 10.5000 | NA          | S |\n",
       "| 885 | 0 | 3 | Sutehall, Mr. Henry Jr                              | male   | 25 | 0 | 0 | SOTON/OQ 392076  |  7.0500 | NA          | S |\n",
       "| 886 | 0 | 3 | Rice, Mrs. William (Margaret Norton)                | female | 39 | 0 | 5 | 382652           | 29.1250 | NA          | Q |\n",
       "| 887 | 0 | 2 | Montvila, Rev. Juozas                               | male   | 27 | 0 | 0 | 211536           | 13.0000 | NA          | S |\n",
       "| 888 | 1 | 1 | Graham, Miss. Margaret Edith                        | female | 19 | 0 | 0 | 112053           | 30.0000 | B42         | S |\n",
       "| 889 | 0 | 3 | Johnston, Miss. Catherine Helen \"Carrie\"            | female | NA | 1 | 2 | W./C. 6607       | 23.4500 | NA          | S |\n",
       "| 890 | 1 | 1 | Behr, Mr. Karl Howell                               | male   | 26 | 0 | 0 | 111369           | 30.0000 | C148        | C |\n",
       "| 891 | 0 | 3 | Dooley, Mr. Patrick                                 | male   | 32 | 0 | 0 | 370376           |  7.7500 | NA          | Q |\n",
       "\n",
       "\n",
       "2. \n",
       "A spec_tbl_df: 418 × 11\n",
       "\n",
       "| PassengerId &lt;dbl&gt; | Pclass &lt;dbl&gt; | Name &lt;chr&gt; | Sex &lt;chr&gt; | Age &lt;dbl&gt; | SibSp &lt;dbl&gt; | Parch &lt;dbl&gt; | Ticket &lt;chr&gt; | Fare &lt;dbl&gt; | Cabin &lt;chr&gt; | Embarked &lt;chr&gt; |\n",
       "|---|---|---|---|---|---|---|---|---|---|---|\n",
       "| 892 | 3 | Kelly, Mr. James                                        | male   | 34.5 | 0 | 0 | 330911           |   7.8292 | NA              | Q |\n",
       "| 893 | 3 | Wilkes, Mrs. James (Ellen Needs)                        | female | 47.0 | 1 | 0 | 363272           |   7.0000 | NA              | S |\n",
       "| 894 | 2 | Myles, Mr. Thomas Francis                               | male   | 62.0 | 0 | 0 | 240276           |   9.6875 | NA              | Q |\n",
       "| 895 | 3 | Wirz, Mr. Albert                                        | male   | 27.0 | 0 | 0 | 315154           |   8.6625 | NA              | S |\n",
       "| 896 | 3 | Hirvonen, Mrs. Alexander (Helga E Lindqvist)            | female | 22.0 | 1 | 1 | 3101298          |  12.2875 | NA              | S |\n",
       "| 897 | 3 | Svensson, Mr. Johan Cervin                              | male   | 14.0 | 0 | 0 | 7538             |   9.2250 | NA              | S |\n",
       "| 898 | 3 | Connolly, Miss. Kate                                    | female | 30.0 | 0 | 0 | 330972           |   7.6292 | NA              | Q |\n",
       "| 899 | 2 | Caldwell, Mr. Albert Francis                            | male   | 26.0 | 1 | 1 | 248738           |  29.0000 | NA              | S |\n",
       "| 900 | 3 | Abrahim, Mrs. Joseph (Sophie Halaut Easu)               | female | 18.0 | 0 | 0 | 2657             |   7.2292 | NA              | C |\n",
       "| 901 | 3 | Davies, Mr. John Samuel                                 | male   | 21.0 | 2 | 0 | A/4 48871        |  24.1500 | NA              | S |\n",
       "| 902 | 3 | Ilieff, Mr. Ylio                                        | male   |   NA | 0 | 0 | 349220           |   7.8958 | NA              | S |\n",
       "| 903 | 1 | Jones, Mr. Charles Cresson                              | male   | 46.0 | 0 | 0 | 694              |  26.0000 | NA              | S |\n",
       "| 904 | 1 | Snyder, Mrs. John Pillsbury (Nelle Stevenson)           | female | 23.0 | 1 | 0 | 21228            |  82.2667 | B45             | S |\n",
       "| 905 | 2 | Howard, Mr. Benjamin                                    | male   | 63.0 | 1 | 0 | 24065            |  26.0000 | NA              | S |\n",
       "| 906 | 1 | Chaffee, Mrs. Herbert Fuller (Carrie Constance Toogood) | female | 47.0 | 1 | 0 | W.E.P. 5734      |  61.1750 | E31             | S |\n",
       "| 907 | 2 | del Carlo, Mrs. Sebastiano (Argenia Genovesi)           | female | 24.0 | 1 | 0 | SC/PARIS 2167    |  27.7208 | NA              | C |\n",
       "| 908 | 2 | Keane, Mr. Daniel                                       | male   | 35.0 | 0 | 0 | 233734           |  12.3500 | NA              | Q |\n",
       "| 909 | 3 | Assaf, Mr. Gerios                                       | male   | 21.0 | 0 | 0 | 2692             |   7.2250 | NA              | C |\n",
       "| 910 | 3 | Ilmakangas, Miss. Ida Livija                            | female | 27.0 | 1 | 0 | STON/O2. 3101270 |   7.9250 | NA              | S |\n",
       "| 911 | 3 | Assaf Khalil, Mrs. Mariana (Miriam\")\"                   | female | 45.0 | 0 | 0 | 2696             |   7.2250 | NA              | C |\n",
       "| 912 | 1 | Rothschild, Mr. Martin                                  | male   | 55.0 | 1 | 0 | PC 17603         |  59.4000 | NA              | C |\n",
       "| 913 | 3 | Olsen, Master. Artur Karl                               | male   |  9.0 | 0 | 1 | C 17368          |   3.1708 | NA              | S |\n",
       "| 914 | 1 | Flegenheim, Mrs. Alfred (Antoinette)                    | female |   NA | 0 | 0 | PC 17598         |  31.6833 | NA              | S |\n",
       "| 915 | 1 | Williams, Mr. Richard Norris II                         | male   | 21.0 | 0 | 1 | PC 17597         |  61.3792 | NA              | C |\n",
       "| 916 | 1 | Ryerson, Mrs. Arthur Larned (Emily Maria Borie)         | female | 48.0 | 1 | 3 | PC 17608         | 262.3750 | B57 B59 B63 B66 | C |\n",
       "| 917 | 3 | Robins, Mr. Alexander A                                 | male   | 50.0 | 1 | 0 | A/5. 3337        |  14.5000 | NA              | S |\n",
       "| 918 | 1 | Ostby, Miss. Helene Ragnhild                            | female | 22.0 | 0 | 1 | 113509           |  61.9792 | B36             | C |\n",
       "| 919 | 3 | Daher, Mr. Shedid                                       | male   | 22.5 | 0 | 0 | 2698             |   7.2250 | NA              | C |\n",
       "| 920 | 1 | Brady, Mr. John Bertram                                 | male   | 41.0 | 0 | 0 | 113054           |  30.5000 | A21             | S |\n",
       "| 921 | 3 | Samaan, Mr. Elias                                       | male   |   NA | 2 | 0 | 2662             |  21.6792 | NA              | C |\n",
       "| ⋮ | ⋮ | ⋮ | ⋮ | ⋮ | ⋮ | ⋮ | ⋮ | ⋮ | ⋮ | ⋮ |\n",
       "| 1280 | 3 | Canavan, Mr. Patrick                                            | male   | 21.0 | 0 | 0 | 364858             |   7.7500 | NA   | Q |\n",
       "| 1281 | 3 | Palsson, Master. Paul Folke                                     | male   |  6.0 | 3 | 1 | 349909             |  21.0750 | NA   | S |\n",
       "| 1282 | 1 | Payne, Mr. Vivian Ponsonby                                      | male   | 23.0 | 0 | 0 | 12749              |  93.5000 | B24  | S |\n",
       "| 1283 | 1 | Lines, Mrs. Ernest H (Elizabeth Lindsey James)                  | female | 51.0 | 0 | 1 | PC 17592           |  39.4000 | D28  | S |\n",
       "| 1284 | 3 | Abbott, Master. Eugene Joseph                                   | male   | 13.0 | 0 | 2 | C.A. 2673          |  20.2500 | NA   | S |\n",
       "| 1285 | 2 | Gilbert, Mr. William                                            | male   | 47.0 | 0 | 0 | C.A. 30769         |  10.5000 | NA   | S |\n",
       "| 1286 | 3 | Kink-Heilmann, Mr. Anton                                        | male   | 29.0 | 3 | 1 | 315153             |  22.0250 | NA   | S |\n",
       "| 1287 | 1 | Smith, Mrs. Lucien Philip (Mary Eloise Hughes)                  | female | 18.0 | 1 | 0 | 13695              |  60.0000 | C31  | S |\n",
       "| 1288 | 3 | Colbert, Mr. Patrick                                            | male   | 24.0 | 0 | 0 | 371109             |   7.2500 | NA   | Q |\n",
       "| 1289 | 1 | Frolicher-Stehli, Mrs. Maxmillian (Margaretha Emerentia Stehli) | female | 48.0 | 1 | 1 | 13567              |  79.2000 | B41  | C |\n",
       "| 1290 | 3 | Larsson-Rondberg, Mr. Edvard A                                  | male   | 22.0 | 0 | 0 | 347065             |   7.7750 | NA   | S |\n",
       "| 1291 | 3 | Conlon, Mr. Thomas Henry                                        | male   | 31.0 | 0 | 0 | 21332              |   7.7333 | NA   | Q |\n",
       "| 1292 | 1 | Bonnell, Miss. Caroline                                         | female | 30.0 | 0 | 0 | 36928              | 164.8667 | C7   | S |\n",
       "| 1293 | 2 | Gale, Mr. Harry                                                 | male   | 38.0 | 1 | 0 | 28664              |  21.0000 | NA   | S |\n",
       "| 1294 | 1 | Gibson, Miss. Dorothy Winifred                                  | female | 22.0 | 0 | 1 | 112378             |  59.4000 | NA   | C |\n",
       "| 1295 | 1 | Carrau, Mr. Jose Pedro                                          | male   | 17.0 | 0 | 0 | 113059             |  47.1000 | NA   | S |\n",
       "| 1296 | 1 | Frauenthal, Mr. Isaac Gerald                                    | male   | 43.0 | 1 | 0 | 17765              |  27.7208 | D40  | C |\n",
       "| 1297 | 2 | Nourney, Mr. Alfred (Baron von Drachstedt\")\"                    | male   | 20.0 | 0 | 0 | SC/PARIS 2166      |  13.8625 | D38  | C |\n",
       "| 1298 | 2 | Ware, Mr. William Jeffery                                       | male   | 23.0 | 1 | 0 | 28666              |  10.5000 | NA   | S |\n",
       "| 1299 | 1 | Widener, Mr. George Dunton                                      | male   | 50.0 | 1 | 1 | 113503             | 211.5000 | C80  | C |\n",
       "| 1300 | 3 | Riordan, Miss. Johanna Hannah\"\"                                 | female |   NA | 0 | 0 | 334915             |   7.7208 | NA   | Q |\n",
       "| 1301 | 3 | Peacock, Miss. Treasteall                                       | female |  3.0 | 1 | 1 | SOTON/O.Q. 3101315 |  13.7750 | NA   | S |\n",
       "| 1302 | 3 | Naughton, Miss. Hannah                                          | female |   NA | 0 | 0 | 365237             |   7.7500 | NA   | Q |\n",
       "| 1303 | 1 | Minahan, Mrs. William Edward (Lillian E Thorpe)                 | female | 37.0 | 1 | 0 | 19928              |  90.0000 | C78  | Q |\n",
       "| 1304 | 3 | Henriksson, Miss. Jenny Lovisa                                  | female | 28.0 | 0 | 0 | 347086             |   7.7750 | NA   | S |\n",
       "| 1305 | 3 | Spector, Mr. Woolf                                              | male   |   NA | 0 | 0 | A.5. 3236          |   8.0500 | NA   | S |\n",
       "| 1306 | 1 | Oliva y Ocana, Dona. Fermina                                    | female | 39.0 | 0 | 0 | PC 17758           | 108.9000 | C105 | C |\n",
       "| 1307 | 3 | Saether, Mr. Simon Sivertsen                                    | male   | 38.5 | 0 | 0 | SOTON/O.Q. 3101262 |   7.2500 | NA   | S |\n",
       "| 1308 | 3 | Ware, Mr. Frederick                                             | male   |   NA | 0 | 0 | 359309             |   8.0500 | NA   | S |\n",
       "| 1309 | 3 | Peter, Master. Michael J                                        | male   |   NA | 1 | 1 | 2668               |  22.3583 | NA   | C |\n",
       "\n",
       "\n",
       "\n",
       "\n"
      ],
      "text/plain": [
       "[[1]]\n",
       "\u001b[90m# A tibble: 891 × 12\u001b[39m\n",
       "   PassengerId Survived Pclass Name   Sex     Age SibSp Parch Ticket  Fare Cabin\n",
       "         \u001b[3m\u001b[90m<dbl>\u001b[39m\u001b[23m    \u001b[3m\u001b[90m<dbl>\u001b[39m\u001b[23m  \u001b[3m\u001b[90m<dbl>\u001b[39m\u001b[23m \u001b[3m\u001b[90m<chr>\u001b[39m\u001b[23m  \u001b[3m\u001b[90m<chr>\u001b[39m\u001b[23m \u001b[3m\u001b[90m<dbl>\u001b[39m\u001b[23m \u001b[3m\u001b[90m<dbl>\u001b[39m\u001b[23m \u001b[3m\u001b[90m<dbl>\u001b[39m\u001b[23m \u001b[3m\u001b[90m<chr>\u001b[39m\u001b[23m  \u001b[3m\u001b[90m<dbl>\u001b[39m\u001b[23m \u001b[3m\u001b[90m<chr>\u001b[39m\u001b[23m\n",
       "\u001b[90m 1\u001b[39m           1        0      3 Braun… male     22     1     0 A/5 2…  7.25 \u001b[31mNA\u001b[39m   \n",
       "\u001b[90m 2\u001b[39m           2        1      1 Cumin… fema…    38     1     0 PC 17… 71.3  C85  \n",
       "\u001b[90m 3\u001b[39m           3        1      3 Heikk… fema…    26     0     0 STON/…  7.92 \u001b[31mNA\u001b[39m   \n",
       "\u001b[90m 4\u001b[39m           4        1      1 Futre… fema…    35     1     0 113803 53.1  C123 \n",
       "\u001b[90m 5\u001b[39m           5        0      3 Allen… male     35     0     0 373450  8.05 \u001b[31mNA\u001b[39m   \n",
       "\u001b[90m 6\u001b[39m           6        0      3 Moran… male     \u001b[31mNA\u001b[39m     0     0 330877  8.46 \u001b[31mNA\u001b[39m   \n",
       "\u001b[90m 7\u001b[39m           7        0      1 McCar… male     54     0     0 17463  51.9  E46  \n",
       "\u001b[90m 8\u001b[39m           8        0      3 Palss… male      2     3     1 349909 21.1  \u001b[31mNA\u001b[39m   \n",
       "\u001b[90m 9\u001b[39m           9        1      3 Johns… fema…    27     0     2 347742 11.1  \u001b[31mNA\u001b[39m   \n",
       "\u001b[90m10\u001b[39m          10        1      2 Nasse… fema…    14     1     0 237736 30.1  \u001b[31mNA\u001b[39m   \n",
       "\u001b[90m# … with 881 more rows, and 1 more variable: Embarked <chr>\u001b[39m\n",
       "\n",
       "[[2]]\n",
       "\u001b[90m# A tibble: 418 × 11\u001b[39m\n",
       "   PassengerId Pclass Name    Sex     Age SibSp Parch Ticket  Fare Cabin Embar…¹\n",
       "         \u001b[3m\u001b[90m<dbl>\u001b[39m\u001b[23m  \u001b[3m\u001b[90m<dbl>\u001b[39m\u001b[23m \u001b[3m\u001b[90m<chr>\u001b[39m\u001b[23m   \u001b[3m\u001b[90m<chr>\u001b[39m\u001b[23m \u001b[3m\u001b[90m<dbl>\u001b[39m\u001b[23m \u001b[3m\u001b[90m<dbl>\u001b[39m\u001b[23m \u001b[3m\u001b[90m<dbl>\u001b[39m\u001b[23m \u001b[3m\u001b[90m<chr>\u001b[39m\u001b[23m  \u001b[3m\u001b[90m<dbl>\u001b[39m\u001b[23m \u001b[3m\u001b[90m<chr>\u001b[39m\u001b[23m \u001b[3m\u001b[90m<chr>\u001b[39m\u001b[23m  \n",
       "\u001b[90m 1\u001b[39m         892      3 Kelly,… male   34.5     0     0 330911  7.83 \u001b[31mNA\u001b[39m    Q      \n",
       "\u001b[90m 2\u001b[39m         893      3 Wilkes… fema…  47       1     0 363272  7    \u001b[31mNA\u001b[39m    S      \n",
       "\u001b[90m 3\u001b[39m         894      2 Myles,… male   62       0     0 240276  9.69 \u001b[31mNA\u001b[39m    Q      \n",
       "\u001b[90m 4\u001b[39m         895      3 Wirz, … male   27       0     0 315154  8.66 \u001b[31mNA\u001b[39m    S      \n",
       "\u001b[90m 5\u001b[39m         896      3 Hirvon… fema…  22       1     1 31012… 12.3  \u001b[31mNA\u001b[39m    S      \n",
       "\u001b[90m 6\u001b[39m         897      3 Svenss… male   14       0     0 7538    9.22 \u001b[31mNA\u001b[39m    S      \n",
       "\u001b[90m 7\u001b[39m         898      3 Connol… fema…  30       0     0 330972  7.63 \u001b[31mNA\u001b[39m    Q      \n",
       "\u001b[90m 8\u001b[39m         899      2 Caldwe… male   26       1     1 248738 29    \u001b[31mNA\u001b[39m    S      \n",
       "\u001b[90m 9\u001b[39m         900      3 Abrahi… fema…  18       0     0 2657    7.23 \u001b[31mNA\u001b[39m    C      \n",
       "\u001b[90m10\u001b[39m         901      3 Davies… male   21       2     0 A/4 4… 24.2  \u001b[31mNA\u001b[39m    S      \n",
       "\u001b[90m# … with 408 more rows, and abbreviated variable name ¹​Embarked\u001b[39m\n"
      ]
     },
     "metadata": {},
     "output_type": "display_data"
    }
   ],
   "source": [
    "combined <- list(train_data, test_data)\n",
    "combined"
   ]
  },
  {
   "cell_type": "code",
   "execution_count": 1341,
   "id": "9f5d2d7b",
   "metadata": {},
   "outputs": [
    {
     "data": {
      "text/html": [
       "<table class=\"dataframe\">\n",
       "<caption>A tibble: 1 × 12</caption>\n",
       "<thead>\n",
       "\t<tr><th scope=col>PassengerId</th><th scope=col>Survived</th><th scope=col>Pclass</th><th scope=col>Name</th><th scope=col>Sex</th><th scope=col>Age</th><th scope=col>SibSp</th><th scope=col>Parch</th><th scope=col>Ticket</th><th scope=col>Fare</th><th scope=col>Cabin</th><th scope=col>Embarked</th></tr>\n",
       "\t<tr><th scope=col>&lt;int&gt;</th><th scope=col>&lt;int&gt;</th><th scope=col>&lt;int&gt;</th><th scope=col>&lt;int&gt;</th><th scope=col>&lt;int&gt;</th><th scope=col>&lt;int&gt;</th><th scope=col>&lt;int&gt;</th><th scope=col>&lt;int&gt;</th><th scope=col>&lt;int&gt;</th><th scope=col>&lt;int&gt;</th><th scope=col>&lt;int&gt;</th><th scope=col>&lt;int&gt;</th></tr>\n",
       "</thead>\n",
       "<tbody>\n",
       "\t<tr><td>0</td><td>0</td><td>0</td><td>0</td><td>0</td><td>177</td><td>0</td><td>0</td><td>0</td><td>0</td><td>687</td><td>2</td></tr>\n",
       "</tbody>\n",
       "</table>\n"
      ],
      "text/latex": [
       "A tibble: 1 × 12\n",
       "\\begin{tabular}{llllllllllll}\n",
       " PassengerId & Survived & Pclass & Name & Sex & Age & SibSp & Parch & Ticket & Fare & Cabin & Embarked\\\\\n",
       " <int> & <int> & <int> & <int> & <int> & <int> & <int> & <int> & <int> & <int> & <int> & <int>\\\\\n",
       "\\hline\n",
       "\t 0 & 0 & 0 & 0 & 0 & 177 & 0 & 0 & 0 & 0 & 687 & 2\\\\\n",
       "\\end{tabular}\n"
      ],
      "text/markdown": [
       "\n",
       "A tibble: 1 × 12\n",
       "\n",
       "| PassengerId &lt;int&gt; | Survived &lt;int&gt; | Pclass &lt;int&gt; | Name &lt;int&gt; | Sex &lt;int&gt; | Age &lt;int&gt; | SibSp &lt;int&gt; | Parch &lt;int&gt; | Ticket &lt;int&gt; | Fare &lt;int&gt; | Cabin &lt;int&gt; | Embarked &lt;int&gt; |\n",
       "|---|---|---|---|---|---|---|---|---|---|---|---|\n",
       "| 0 | 0 | 0 | 0 | 0 | 177 | 0 | 0 | 0 | 0 | 687 | 2 |\n",
       "\n"
      ],
      "text/plain": [
       "  PassengerId Survived Pclass Name Sex Age SibSp Parch Ticket Fare Cabin\n",
       "1 0           0        0      0    0   177 0     0     0      0    687  \n",
       "  Embarked\n",
       "1 2       "
      ]
     },
     "metadata": {},
     "output_type": "display_data"
    }
   ],
   "source": [
    "# train_data%>%\n",
    "#     summarize_all(~sum(is.na(.)))\n",
    "summarize_all(train_data, ~sum(is.na(.)))\n",
    "## 很难相信r里的lambda是用~，不用lambda怎么传func捏"
   ]
  },
  {
   "cell_type": "markdown",
   "id": "36f52e87",
   "metadata": {},
   "source": [
    "## DESCRIBE DATA DESTRIBUTION"
   ]
  },
  {
   "cell_type": "code",
   "execution_count": 1342,
   "id": "68def723",
   "metadata": {},
   "outputs": [
    {
     "data": {
      "text/plain": [
       "  PassengerId       Survived          Pclass          Name          \n",
       " Min.   :  1.0   Min.   :0.0000   Min.   :1.000   Length:891        \n",
       " 1st Qu.:223.5   1st Qu.:0.0000   1st Qu.:2.000   Class :character  \n",
       " Median :446.0   Median :0.0000   Median :3.000   Mode  :character  \n",
       " Mean   :446.0   Mean   :0.3838   Mean   :2.309                     \n",
       " 3rd Qu.:668.5   3rd Qu.:1.0000   3rd Qu.:3.000                     \n",
       " Max.   :891.0   Max.   :1.0000   Max.   :3.000                     \n",
       "                                                                    \n",
       "     Sex                 Age            SibSp           Parch       \n",
       " Length:891         Min.   : 0.42   Min.   :0.000   Min.   :0.0000  \n",
       " Class :character   1st Qu.:20.12   1st Qu.:0.000   1st Qu.:0.0000  \n",
       " Mode  :character   Median :28.00   Median :0.000   Median :0.0000  \n",
       "                    Mean   :29.70   Mean   :0.523   Mean   :0.3816  \n",
       "                    3rd Qu.:38.00   3rd Qu.:1.000   3rd Qu.:0.0000  \n",
       "                    Max.   :80.00   Max.   :8.000   Max.   :6.0000  \n",
       "                    NA's   :177                                     \n",
       "    Ticket               Fare           Cabin             Embarked        \n",
       " Length:891         Min.   :  0.00   Length:891         Length:891        \n",
       " Class :character   1st Qu.:  7.91   Class :character   Class :character  \n",
       " Mode  :character   Median : 14.45   Mode  :character   Mode  :character  \n",
       "                    Mean   : 32.20                                        \n",
       "                    3rd Qu.: 31.00                                        \n",
       "                    Max.   :512.33                                        \n",
       "                                                                          "
      ]
     },
     "metadata": {},
     "output_type": "display_data"
    }
   ],
   "source": [
    "summary(train_data)"
   ]
  },
  {
   "cell_type": "markdown",
   "id": "5ad5c198",
   "metadata": {},
   "source": [
    "## SOME ASSUMPTIONS PROVIDED WITH THE DATASET\n",
    "- Women (`Sex=female`) were more likely to have survived\n",
    "- Children (`Age < ?`) were more likely to have survived\n",
    "- The upper-class passengers (`Pclass=1`) were more likely to have survived"
   ]
  },
  {
   "cell_type": "code",
   "execution_count": 1343,
   "id": "e8e6ec08",
   "metadata": {},
   "outputs": [
    {
     "data": {
      "text/html": [
       "<table class=\"dataframe\">\n",
       "<caption>A tibble: 3 × 2</caption>\n",
       "<thead>\n",
       "\t<tr><th scope=col>Pclass</th><th scope=col>Survived</th></tr>\n",
       "\t<tr><th scope=col>&lt;dbl&gt;</th><th scope=col>&lt;dbl&gt;</th></tr>\n",
       "</thead>\n",
       "<tbody>\n",
       "\t<tr><td>1</td><td>0.6296296</td></tr>\n",
       "\t<tr><td>2</td><td>0.4728261</td></tr>\n",
       "\t<tr><td>3</td><td>0.2423625</td></tr>\n",
       "</tbody>\n",
       "</table>\n"
      ],
      "text/latex": [
       "A tibble: 3 × 2\n",
       "\\begin{tabular}{ll}\n",
       " Pclass & Survived\\\\\n",
       " <dbl> & <dbl>\\\\\n",
       "\\hline\n",
       "\t 1 & 0.6296296\\\\\n",
       "\t 2 & 0.4728261\\\\\n",
       "\t 3 & 0.2423625\\\\\n",
       "\\end{tabular}\n"
      ],
      "text/markdown": [
       "\n",
       "A tibble: 3 × 2\n",
       "\n",
       "| Pclass &lt;dbl&gt; | Survived &lt;dbl&gt; |\n",
       "|---|---|\n",
       "| 1 | 0.6296296 |\n",
       "| 2 | 0.4728261 |\n",
       "| 3 | 0.2423625 |\n",
       "\n"
      ],
      "text/plain": [
       "  Pclass Survived \n",
       "1 1      0.6296296\n",
       "2 2      0.4728261\n",
       "3 3      0.2423625"
      ]
     },
     "metadata": {},
     "output_type": "display_data"
    }
   ],
   "source": [
    "train_data %>%\n",
    "#     select(Pclass, Survived) %>%\n",
    "    group_by(Pclass)%>%\n",
    "    summarize(Survived = mean(Survived))"
   ]
  },
  {
   "cell_type": "code",
   "execution_count": 1344,
   "id": "80eac59c",
   "metadata": {},
   "outputs": [
    {
     "data": {
      "text/html": [
       "<table class=\"dataframe\">\n",
       "<caption>A tibble: 2 × 2</caption>\n",
       "<thead>\n",
       "\t<tr><th scope=col>Sex</th><th scope=col>Survived</th></tr>\n",
       "\t<tr><th scope=col>&lt;chr&gt;</th><th scope=col>&lt;dbl&gt;</th></tr>\n",
       "</thead>\n",
       "<tbody>\n",
       "\t<tr><td>female</td><td>0.7420382</td></tr>\n",
       "\t<tr><td>male  </td><td>0.1889081</td></tr>\n",
       "</tbody>\n",
       "</table>\n"
      ],
      "text/latex": [
       "A tibble: 2 × 2\n",
       "\\begin{tabular}{ll}\n",
       " Sex & Survived\\\\\n",
       " <chr> & <dbl>\\\\\n",
       "\\hline\n",
       "\t female & 0.7420382\\\\\n",
       "\t male   & 0.1889081\\\\\n",
       "\\end{tabular}\n"
      ],
      "text/markdown": [
       "\n",
       "A tibble: 2 × 2\n",
       "\n",
       "| Sex &lt;chr&gt; | Survived &lt;dbl&gt; |\n",
       "|---|---|\n",
       "| female | 0.7420382 |\n",
       "| male   | 0.1889081 |\n",
       "\n"
      ],
      "text/plain": [
       "  Sex    Survived \n",
       "1 female 0.7420382\n",
       "2 male   0.1889081"
      ]
     },
     "metadata": {},
     "output_type": "display_data"
    }
   ],
   "source": [
    "train_data %>%\n",
    "    group_by(Sex) %>%\n",
    "    summarize(Survived = mean(Survived))"
   ]
  },
  {
   "cell_type": "code",
   "execution_count": 1345,
   "id": "d5406967",
   "metadata": {},
   "outputs": [
    {
     "data": {
      "text/html": [
       "<table class=\"dataframe\">\n",
       "<caption>A tibble: 7 × 2</caption>\n",
       "<thead>\n",
       "\t<tr><th scope=col>SibSp</th><th scope=col>Survived</th></tr>\n",
       "\t<tr><th scope=col>&lt;dbl&gt;</th><th scope=col>&lt;dbl&gt;</th></tr>\n",
       "</thead>\n",
       "<tbody>\n",
       "\t<tr><td>0</td><td>0.3453947</td></tr>\n",
       "\t<tr><td>1</td><td>0.5358852</td></tr>\n",
       "\t<tr><td>2</td><td>0.4642857</td></tr>\n",
       "\t<tr><td>3</td><td>0.2500000</td></tr>\n",
       "\t<tr><td>4</td><td>0.1666667</td></tr>\n",
       "\t<tr><td>5</td><td>0.0000000</td></tr>\n",
       "\t<tr><td>8</td><td>0.0000000</td></tr>\n",
       "</tbody>\n",
       "</table>\n"
      ],
      "text/latex": [
       "A tibble: 7 × 2\n",
       "\\begin{tabular}{ll}\n",
       " SibSp & Survived\\\\\n",
       " <dbl> & <dbl>\\\\\n",
       "\\hline\n",
       "\t 0 & 0.3453947\\\\\n",
       "\t 1 & 0.5358852\\\\\n",
       "\t 2 & 0.4642857\\\\\n",
       "\t 3 & 0.2500000\\\\\n",
       "\t 4 & 0.1666667\\\\\n",
       "\t 5 & 0.0000000\\\\\n",
       "\t 8 & 0.0000000\\\\\n",
       "\\end{tabular}\n"
      ],
      "text/markdown": [
       "\n",
       "A tibble: 7 × 2\n",
       "\n",
       "| SibSp &lt;dbl&gt; | Survived &lt;dbl&gt; |\n",
       "|---|---|\n",
       "| 0 | 0.3453947 |\n",
       "| 1 | 0.5358852 |\n",
       "| 2 | 0.4642857 |\n",
       "| 3 | 0.2500000 |\n",
       "| 4 | 0.1666667 |\n",
       "| 5 | 0.0000000 |\n",
       "| 8 | 0.0000000 |\n",
       "\n"
      ],
      "text/plain": [
       "  SibSp Survived \n",
       "1 0     0.3453947\n",
       "2 1     0.5358852\n",
       "3 2     0.4642857\n",
       "4 3     0.2500000\n",
       "5 4     0.1666667\n",
       "6 5     0.0000000\n",
       "7 8     0.0000000"
      ]
     },
     "metadata": {},
     "output_type": "display_data"
    }
   ],
   "source": [
    "train_data %>%\n",
    "    group_by(SibSp) %>%\n",
    "    summarize(Survived = mean(Survived))"
   ]
  },
  {
   "cell_type": "code",
   "execution_count": 1346,
   "id": "a280cd71",
   "metadata": {},
   "outputs": [
    {
     "data": {
      "text/html": [
       "<table class=\"dataframe\">\n",
       "<caption>A tibble: 7 × 2</caption>\n",
       "<thead>\n",
       "\t<tr><th scope=col>Parch</th><th scope=col>Survived</th></tr>\n",
       "\t<tr><th scope=col>&lt;dbl&gt;</th><th scope=col>&lt;dbl&gt;</th></tr>\n",
       "</thead>\n",
       "<tbody>\n",
       "\t<tr><td>0</td><td>0.3436578</td></tr>\n",
       "\t<tr><td>1</td><td>0.5508475</td></tr>\n",
       "\t<tr><td>2</td><td>0.5000000</td></tr>\n",
       "\t<tr><td>3</td><td>0.6000000</td></tr>\n",
       "\t<tr><td>4</td><td>0.0000000</td></tr>\n",
       "\t<tr><td>5</td><td>0.2000000</td></tr>\n",
       "\t<tr><td>6</td><td>0.0000000</td></tr>\n",
       "</tbody>\n",
       "</table>\n"
      ],
      "text/latex": [
       "A tibble: 7 × 2\n",
       "\\begin{tabular}{ll}\n",
       " Parch & Survived\\\\\n",
       " <dbl> & <dbl>\\\\\n",
       "\\hline\n",
       "\t 0 & 0.3436578\\\\\n",
       "\t 1 & 0.5508475\\\\\n",
       "\t 2 & 0.5000000\\\\\n",
       "\t 3 & 0.6000000\\\\\n",
       "\t 4 & 0.0000000\\\\\n",
       "\t 5 & 0.2000000\\\\\n",
       "\t 6 & 0.0000000\\\\\n",
       "\\end{tabular}\n"
      ],
      "text/markdown": [
       "\n",
       "A tibble: 7 × 2\n",
       "\n",
       "| Parch &lt;dbl&gt; | Survived &lt;dbl&gt; |\n",
       "|---|---|\n",
       "| 0 | 0.3436578 |\n",
       "| 1 | 0.5508475 |\n",
       "| 2 | 0.5000000 |\n",
       "| 3 | 0.6000000 |\n",
       "| 4 | 0.0000000 |\n",
       "| 5 | 0.2000000 |\n",
       "| 6 | 0.0000000 |\n",
       "\n"
      ],
      "text/plain": [
       "  Parch Survived \n",
       "1 0     0.3436578\n",
       "2 1     0.5508475\n",
       "3 2     0.5000000\n",
       "4 3     0.6000000\n",
       "5 4     0.0000000\n",
       "6 5     0.2000000\n",
       "7 6     0.0000000"
      ]
     },
     "metadata": {},
     "output_type": "display_data"
    }
   ],
   "source": [
    "train_data %>%\n",
    "    group_by(Parch) %>%\n",
    "    summarize(Survived = mean(Survived))"
   ]
  },
  {
   "cell_type": "markdown",
   "id": "03c12892",
   "metadata": {},
   "source": [
    "## SOME VISUALIZATIONS\n",
    "- to show relationships between variables\n",
    "\n",
    "### Visualizing numerical variable (`Age`)"
   ]
  },
  {
   "cell_type": "code",
   "execution_count": 1347,
   "id": "5328ef5f",
   "metadata": {},
   "outputs": [
    {
     "name": "stderr",
     "output_type": "stream",
     "text": [
      "Warning message:\n",
      "\"\u001b[1m\u001b[22mRemoved 177 rows containing non-finite values (`stat_bin()`).\"\n"
     ]
    },
    {
     "data": {
      "image/png": "[encoded data removed]",
      "text/plain": [
       "plot without title"
      ]
     },
     "metadata": {
      "image/png": {
       "height": 420,
       "width": 420
      }
     },
     "output_type": "display_data"
    }
   ],
   "source": [
    "train_data %>%\n",
    "    ggplot() +\n",
    "    geom_histogram(mapping=aes(x=Age), binwidth=3)+\n",
    "    facet_wrap(vars(Survived), nrow=2)"
   ]
  },
  {
   "cell_type": "markdown",
   "id": "47ca37df",
   "metadata": {},
   "source": [
    "### Visualizing ordinal variable (`Pclass`)"
   ]
  },
  {
   "cell_type": "code",
   "execution_count": 1348,
   "id": "02d5713d",
   "metadata": {},
   "outputs": [
    {
     "name": "stderr",
     "output_type": "stream",
     "text": [
      "Warning message:\n",
      "\"\u001b[1m\u001b[22mRemoved 177 rows containing non-finite values (`stat_bin()`).\"\n"
     ]
    },
    {
     "data": {
      "image/png": "[encoded data removed]",
      "text/plain": [
       "plot without title"
      ]
     },
     "metadata": {
      "image/png": {
       "height": 420,
       "width": 420
      }
     },
     "output_type": "display_data"
    }
   ],
   "source": [
    "train_data %>%\n",
    "    ggplot() +\n",
    "    geom_histogram(mapping=aes(x=Age), binwidth=3)+\n",
    "    facet_grid(rows=vars(Pclass), cols=vars(Survived))"
   ]
  },
  {
   "cell_type": "markdown",
   "id": "d6c2a41c",
   "metadata": {},
   "source": [
    "### Visualizing categorical variable (`Embarked`)"
   ]
  },
  {
   "cell_type": "markdown",
   "id": "3bbb05ec",
   "metadata": {},
   "source": [
    "- Plots here are accurate, plot for `Embarked == 'C'` in Py version is wrong with the color."
   ]
  },
  {
   "cell_type": "code",
   "execution_count": 1349,
   "id": "e125919f",
   "metadata": {},
   "outputs": [
    {
     "name": "stderr",
     "output_type": "stream",
     "text": [
      "\u001b[1m\u001b[22m`summarise()` has grouped output by 'Embarked', 'Pclass'. You can override using the `.groups` argument.\n"
     ]
    },
    {
     "data": {
      "image/png": "[encoded data removed]",
      "text/plain": [
       "plot without title"
      ]
     },
     "metadata": {
      "image/png": {
       "height": 420,
       "width": 420
      }
     },
     "output_type": "display_data"
    }
   ],
   "source": [
    "train_data %>%\n",
    "    filter(!is.na(Embarked))%>%\n",
    "#     filter(Embarked == 'C') %>%\n",
    "#     filter(Sex == \"male\") %>%\n",
    "#     filter(Pclass == 2)\n",
    "    group_by(Embarked, Pclass, Sex) %>%\n",
    "    summarize(Survived = mean(Survived)) %>%\n",
    "    ggplot() +\n",
    "    geom_point(mapping=aes(x=Pclass, y=Survived, color=Sex))+\n",
    "    geom_line(mapping=aes(x=Pclass, y=Survived, color=Sex))+\n",
    "    facet_wrap(vars(Embarked), nrow=3)"
   ]
  },
  {
   "cell_type": "markdown",
   "id": "4ec32616",
   "metadata": {},
   "source": [
    "### Correlate categorical features and numeric features\n",
    "- 没什么用的图，不画了"
   ]
  },
  {
   "cell_type": "markdown",
   "id": "6702da0d",
   "metadata": {},
   "source": [
    "## DROP SOME VARIABLES (`Ticket`, `Cabin`)\n",
    "- messy data, and not really useful"
   ]
  },
  {
   "cell_type": "code",
   "execution_count": 1350,
   "id": "a96d0e43",
   "metadata": {},
   "outputs": [],
   "source": [
    "train_data = train_data %>% select(-Ticket, -Cabin)\n",
    "test_data = test_data %>% select(-Ticket, -Cabin)\n",
    "combined = list(train_data, test_data)"
   ]
  },
  {
   "cell_type": "markdown",
   "id": "1789341a",
   "metadata": {},
   "source": [
    "## CREATE NEW FEATURE"
   ]
  },
  {
   "cell_type": "markdown",
   "id": "4a5cae7b",
   "metadata": {},
   "source": [
    "### Extract Title from Name"
   ]
  },
  {
   "cell_type": "code",
   "execution_count": 1351,
   "id": "b6d9e872",
   "metadata": {},
   "outputs": [],
   "source": [
    "for (i in seq_along(combined)){\n",
    "    combined[[i]] <- mutate(combined[[i]], Title = str_extract(Name, \"([A-Za-z]+)\\\\.\"))\n",
    "#     print(typeof(combined[[i]]))\n",
    "}\n",
    "\n",
    "# mutate(train_data, Title = str_extract(Name, \"([A-Za-z]+)\\\\.\"))\n",
    "# mutate(test_data, Title = str_extract(Name, \"([A-Za-z]+)\\\\.\"))\n",
    "# combined <- lst(train_data, test_data)\n",
    "train_data <- combined[[1]]\n",
    "test_data <- combined[[2]]\n",
    "# print(is_tibble(combined[[1]]))"
   ]
  },
  {
   "cell_type": "markdown",
   "id": "dfa1711f",
   "metadata": {},
   "source": [
    "- need to figure out difference between `lst()` and `list()`\n",
    "- need to figure out how to put two tibbles in one collection, and manipulate them using loops\n",
    "    - use alist[[1]] to get the first element, but why?\n",
    "    - https://stackoverflow.com/questions/21091202/how-to-index-an-element-of-a-list-object-in-r\n",
    "    - https://stackoverflow.com/questions/1169456/the-difference-between-bracket-and-double-bracket-for-accessing-the-el\n"
   ]
  },
  {
   "cell_type": "code",
   "execution_count": 1352,
   "id": "02444d91",
   "metadata": {
    "scrolled": true
   },
   "outputs": [
    {
     "data": {
      "text/html": [
       "<table class=\"dataframe\">\n",
       "<caption>A tibble: 10 × 11</caption>\n",
       "<thead>\n",
       "\t<tr><th scope=col>PassengerId</th><th scope=col>Survived</th><th scope=col>Pclass</th><th scope=col>Name</th><th scope=col>Sex</th><th scope=col>Age</th><th scope=col>SibSp</th><th scope=col>Parch</th><th scope=col>Fare</th><th scope=col>Embarked</th><th scope=col>Title</th></tr>\n",
       "\t<tr><th scope=col>&lt;dbl&gt;</th><th scope=col>&lt;dbl&gt;</th><th scope=col>&lt;dbl&gt;</th><th scope=col>&lt;chr&gt;</th><th scope=col>&lt;chr&gt;</th><th scope=col>&lt;dbl&gt;</th><th scope=col>&lt;dbl&gt;</th><th scope=col>&lt;dbl&gt;</th><th scope=col>&lt;dbl&gt;</th><th scope=col>&lt;chr&gt;</th><th scope=col>&lt;chr&gt;</th></tr>\n",
       "</thead>\n",
       "<tbody>\n",
       "\t<tr><td> 1</td><td>0</td><td>3</td><td>Braund, Mr. Owen Harris                            </td><td>male  </td><td>22</td><td>1</td><td>0</td><td> 7.2500</td><td>S</td><td>Mr.    </td></tr>\n",
       "\t<tr><td> 2</td><td>1</td><td>1</td><td>Cumings, Mrs. John Bradley (Florence Briggs Thayer)</td><td>female</td><td>38</td><td>1</td><td>0</td><td>71.2833</td><td>C</td><td>Mrs.   </td></tr>\n",
       "\t<tr><td> 3</td><td>1</td><td>3</td><td>Heikkinen, Miss. Laina                             </td><td>female</td><td>26</td><td>0</td><td>0</td><td> 7.9250</td><td>S</td><td>Miss.  </td></tr>\n",
       "\t<tr><td> 4</td><td>1</td><td>1</td><td>Futrelle, Mrs. Jacques Heath (Lily May Peel)       </td><td>female</td><td>35</td><td>1</td><td>0</td><td>53.1000</td><td>S</td><td>Mrs.   </td></tr>\n",
       "\t<tr><td> 5</td><td>0</td><td>3</td><td>Allen, Mr. William Henry                           </td><td>male  </td><td>35</td><td>0</td><td>0</td><td> 8.0500</td><td>S</td><td>Mr.    </td></tr>\n",
       "\t<tr><td> 6</td><td>0</td><td>3</td><td>Moran, Mr. James                                   </td><td>male  </td><td>NA</td><td>0</td><td>0</td><td> 8.4583</td><td>Q</td><td>Mr.    </td></tr>\n",
       "\t<tr><td> 7</td><td>0</td><td>1</td><td>McCarthy, Mr. Timothy J                            </td><td>male  </td><td>54</td><td>0</td><td>0</td><td>51.8625</td><td>S</td><td>Mr.    </td></tr>\n",
       "\t<tr><td> 8</td><td>0</td><td>3</td><td>Palsson, Master. Gosta Leonard                     </td><td>male  </td><td> 2</td><td>3</td><td>1</td><td>21.0750</td><td>S</td><td>Master.</td></tr>\n",
       "\t<tr><td> 9</td><td>1</td><td>3</td><td>Johnson, Mrs. Oscar W (Elisabeth Vilhelmina Berg)  </td><td>female</td><td>27</td><td>0</td><td>2</td><td>11.1333</td><td>S</td><td>Mrs.   </td></tr>\n",
       "\t<tr><td>10</td><td>1</td><td>2</td><td>Nasser, Mrs. Nicholas (Adele Achem)                </td><td>female</td><td>14</td><td>1</td><td>0</td><td>30.0708</td><td>C</td><td>Mrs.   </td></tr>\n",
       "</tbody>\n",
       "</table>\n"
      ],
      "text/latex": [
       "A tibble: 10 × 11\n",
       "\\begin{tabular}{lllllllllll}\n",
       " PassengerId & Survived & Pclass & Name & Sex & Age & SibSp & Parch & Fare & Embarked & Title\\\\\n",
       " <dbl> & <dbl> & <dbl> & <chr> & <chr> & <dbl> & <dbl> & <dbl> & <dbl> & <chr> & <chr>\\\\\n",
       "\\hline\n",
       "\t  1 & 0 & 3 & Braund, Mr. Owen Harris                             & male   & 22 & 1 & 0 &  7.2500 & S & Mr.    \\\\\n",
       "\t  2 & 1 & 1 & Cumings, Mrs. John Bradley (Florence Briggs Thayer) & female & 38 & 1 & 0 & 71.2833 & C & Mrs.   \\\\\n",
       "\t  3 & 1 & 3 & Heikkinen, Miss. Laina                              & female & 26 & 0 & 0 &  7.9250 & S & Miss.  \\\\\n",
       "\t  4 & 1 & 1 & Futrelle, Mrs. Jacques Heath (Lily May Peel)        & female & 35 & 1 & 0 & 53.1000 & S & Mrs.   \\\\\n",
       "\t  5 & 0 & 3 & Allen, Mr. William Henry                            & male   & 35 & 0 & 0 &  8.0500 & S & Mr.    \\\\\n",
       "\t  6 & 0 & 3 & Moran, Mr. James                                    & male   & NA & 0 & 0 &  8.4583 & Q & Mr.    \\\\\n",
       "\t  7 & 0 & 1 & McCarthy, Mr. Timothy J                             & male   & 54 & 0 & 0 & 51.8625 & S & Mr.    \\\\\n",
       "\t  8 & 0 & 3 & Palsson, Master. Gosta Leonard                      & male   &  2 & 3 & 1 & 21.0750 & S & Master.\\\\\n",
       "\t  9 & 1 & 3 & Johnson, Mrs. Oscar W (Elisabeth Vilhelmina Berg)   & female & 27 & 0 & 2 & 11.1333 & S & Mrs.   \\\\\n",
       "\t 10 & 1 & 2 & Nasser, Mrs. Nicholas (Adele Achem)                 & female & 14 & 1 & 0 & 30.0708 & C & Mrs.   \\\\\n",
       "\\end{tabular}\n"
      ],
      "text/markdown": [
       "\n",
       "A tibble: 10 × 11\n",
       "\n",
       "| PassengerId &lt;dbl&gt; | Survived &lt;dbl&gt; | Pclass &lt;dbl&gt; | Name &lt;chr&gt; | Sex &lt;chr&gt; | Age &lt;dbl&gt; | SibSp &lt;dbl&gt; | Parch &lt;dbl&gt; | Fare &lt;dbl&gt; | Embarked &lt;chr&gt; | Title &lt;chr&gt; |\n",
       "|---|---|---|---|---|---|---|---|---|---|---|\n",
       "|  1 | 0 | 3 | Braund, Mr. Owen Harris                             | male   | 22 | 1 | 0 |  7.2500 | S | Mr.     |\n",
       "|  2 | 1 | 1 | Cumings, Mrs. John Bradley (Florence Briggs Thayer) | female | 38 | 1 | 0 | 71.2833 | C | Mrs.    |\n",
       "|  3 | 1 | 3 | Heikkinen, Miss. Laina                              | female | 26 | 0 | 0 |  7.9250 | S | Miss.   |\n",
       "|  4 | 1 | 1 | Futrelle, Mrs. Jacques Heath (Lily May Peel)        | female | 35 | 1 | 0 | 53.1000 | S | Mrs.    |\n",
       "|  5 | 0 | 3 | Allen, Mr. William Henry                            | male   | 35 | 0 | 0 |  8.0500 | S | Mr.     |\n",
       "|  6 | 0 | 3 | Moran, Mr. James                                    | male   | NA | 0 | 0 |  8.4583 | Q | Mr.     |\n",
       "|  7 | 0 | 1 | McCarthy, Mr. Timothy J                             | male   | 54 | 0 | 0 | 51.8625 | S | Mr.     |\n",
       "|  8 | 0 | 3 | Palsson, Master. Gosta Leonard                      | male   |  2 | 3 | 1 | 21.0750 | S | Master. |\n",
       "|  9 | 1 | 3 | Johnson, Mrs. Oscar W (Elisabeth Vilhelmina Berg)   | female | 27 | 0 | 2 | 11.1333 | S | Mrs.    |\n",
       "| 10 | 1 | 2 | Nasser, Mrs. Nicholas (Adele Achem)                 | female | 14 | 1 | 0 | 30.0708 | C | Mrs.    |\n",
       "\n"
      ],
      "text/plain": [
       "   PassengerId Survived Pclass\n",
       "1   1          0        3     \n",
       "2   2          1        1     \n",
       "3   3          1        3     \n",
       "4   4          1        1     \n",
       "5   5          0        3     \n",
       "6   6          0        3     \n",
       "7   7          0        1     \n",
       "8   8          0        3     \n",
       "9   9          1        3     \n",
       "10 10          1        2     \n",
       "   Name                                                Sex    Age SibSp Parch\n",
       "1  Braund, Mr. Owen Harris                             male   22  1     0    \n",
       "2  Cumings, Mrs. John Bradley (Florence Briggs Thayer) female 38  1     0    \n",
       "3  Heikkinen, Miss. Laina                              female 26  0     0    \n",
       "4  Futrelle, Mrs. Jacques Heath (Lily May Peel)        female 35  1     0    \n",
       "5  Allen, Mr. William Henry                            male   35  0     0    \n",
       "6  Moran, Mr. James                                    male   NA  0     0    \n",
       "7  McCarthy, Mr. Timothy J                             male   54  0     0    \n",
       "8  Palsson, Master. Gosta Leonard                      male    2  3     1    \n",
       "9  Johnson, Mrs. Oscar W (Elisabeth Vilhelmina Berg)   female 27  0     2    \n",
       "10 Nasser, Mrs. Nicholas (Adele Achem)                 female 14  1     0    \n",
       "   Fare    Embarked Title  \n",
       "1   7.2500 S        Mr.    \n",
       "2  71.2833 C        Mrs.   \n",
       "3   7.9250 S        Miss.  \n",
       "4  53.1000 S        Mrs.   \n",
       "5   8.0500 S        Mr.    \n",
       "6   8.4583 Q        Mr.    \n",
       "7  51.8625 S        Mr.    \n",
       "8  21.0750 S        Master.\n",
       "9  11.1333 S        Mrs.   \n",
       "10 30.0708 C        Mrs.   "
      ]
     },
     "metadata": {},
     "output_type": "display_data"
    }
   ],
   "source": [
    "head(train_data, n=10)"
   ]
  },
  {
   "cell_type": "code",
   "execution_count": 1353,
   "id": "a7aead9e",
   "metadata": {
    "scrolled": true
   },
   "outputs": [
    {
     "name": "stderr",
     "output_type": "stream",
     "text": [
      "\u001b[1m\u001b[22m`summarise()` has grouped output by 'Title'. You can override using the `.groups` argument.\n"
     ]
    },
    {
     "data": {
      "text/html": [
       "<table class=\"dataframe\">\n",
       "<caption>A grouped_df: 18 × 3</caption>\n",
       "<thead>\n",
       "\t<tr><th scope=col>Title</th><th scope=col>Sex</th><th scope=col>count</th></tr>\n",
       "\t<tr><th scope=col>&lt;chr&gt;</th><th scope=col>&lt;chr&gt;</th><th scope=col>&lt;int&gt;</th></tr>\n",
       "</thead>\n",
       "<tbody>\n",
       "\t<tr><td>Capt.    </td><td>male  </td><td>  1</td></tr>\n",
       "\t<tr><td>Col.     </td><td>male  </td><td>  2</td></tr>\n",
       "\t<tr><td>Countess.</td><td>female</td><td>  1</td></tr>\n",
       "\t<tr><td>Don.     </td><td>male  </td><td>  1</td></tr>\n",
       "\t<tr><td>Dr.      </td><td>female</td><td>  1</td></tr>\n",
       "\t<tr><td>Dr.      </td><td>male  </td><td>  6</td></tr>\n",
       "\t<tr><td>Jonkheer.</td><td>male  </td><td>  1</td></tr>\n",
       "\t<tr><td>Lady.    </td><td>female</td><td>  1</td></tr>\n",
       "\t<tr><td>Major.   </td><td>male  </td><td>  2</td></tr>\n",
       "\t<tr><td>Master.  </td><td>male  </td><td> 40</td></tr>\n",
       "\t<tr><td>Miss.    </td><td>female</td><td>182</td></tr>\n",
       "\t<tr><td>Mlle.    </td><td>female</td><td>  2</td></tr>\n",
       "\t<tr><td>Mme.     </td><td>female</td><td>  1</td></tr>\n",
       "\t<tr><td>Mr.      </td><td>male  </td><td>517</td></tr>\n",
       "\t<tr><td>Mrs.     </td><td>female</td><td>125</td></tr>\n",
       "\t<tr><td>Ms.      </td><td>female</td><td>  1</td></tr>\n",
       "\t<tr><td>Rev.     </td><td>male  </td><td>  6</td></tr>\n",
       "\t<tr><td>Sir.     </td><td>male  </td><td>  1</td></tr>\n",
       "</tbody>\n",
       "</table>\n"
      ],
      "text/latex": [
       "A grouped\\_df: 18 × 3\n",
       "\\begin{tabular}{lll}\n",
       " Title & Sex & count\\\\\n",
       " <chr> & <chr> & <int>\\\\\n",
       "\\hline\n",
       "\t Capt.     & male   &   1\\\\\n",
       "\t Col.      & male   &   2\\\\\n",
       "\t Countess. & female &   1\\\\\n",
       "\t Don.      & male   &   1\\\\\n",
       "\t Dr.       & female &   1\\\\\n",
       "\t Dr.       & male   &   6\\\\\n",
       "\t Jonkheer. & male   &   1\\\\\n",
       "\t Lady.     & female &   1\\\\\n",
       "\t Major.    & male   &   2\\\\\n",
       "\t Master.   & male   &  40\\\\\n",
       "\t Miss.     & female & 182\\\\\n",
       "\t Mlle.     & female &   2\\\\\n",
       "\t Mme.      & female &   1\\\\\n",
       "\t Mr.       & male   & 517\\\\\n",
       "\t Mrs.      & female & 125\\\\\n",
       "\t Ms.       & female &   1\\\\\n",
       "\t Rev.      & male   &   6\\\\\n",
       "\t Sir.      & male   &   1\\\\\n",
       "\\end{tabular}\n"
      ],
      "text/markdown": [
       "\n",
       "A grouped_df: 18 × 3\n",
       "\n",
       "| Title &lt;chr&gt; | Sex &lt;chr&gt; | count &lt;int&gt; |\n",
       "|---|---|---|\n",
       "| Capt.     | male   |   1 |\n",
       "| Col.      | male   |   2 |\n",
       "| Countess. | female |   1 |\n",
       "| Don.      | male   |   1 |\n",
       "| Dr.       | female |   1 |\n",
       "| Dr.       | male   |   6 |\n",
       "| Jonkheer. | male   |   1 |\n",
       "| Lady.     | female |   1 |\n",
       "| Major.    | male   |   2 |\n",
       "| Master.   | male   |  40 |\n",
       "| Miss.     | female | 182 |\n",
       "| Mlle.     | female |   2 |\n",
       "| Mme.      | female |   1 |\n",
       "| Mr.       | male   | 517 |\n",
       "| Mrs.      | female | 125 |\n",
       "| Ms.       | female |   1 |\n",
       "| Rev.      | male   |   6 |\n",
       "| Sir.      | male   |   1 |\n",
       "\n"
      ],
      "text/plain": [
       "   Title     Sex    count\n",
       "1  Capt.     male     1  \n",
       "2  Col.      male     2  \n",
       "3  Countess. female   1  \n",
       "4  Don.      male     1  \n",
       "5  Dr.       female   1  \n",
       "6  Dr.       male     6  \n",
       "7  Jonkheer. male     1  \n",
       "8  Lady.     female   1  \n",
       "9  Major.    male     2  \n",
       "10 Master.   male    40  \n",
       "11 Miss.     female 182  \n",
       "12 Mlle.     female   2  \n",
       "13 Mme.      female   1  \n",
       "14 Mr.       male   517  \n",
       "15 Mrs.      female 125  \n",
       "16 Ms.       female   1  \n",
       "17 Rev.      male     6  \n",
       "18 Sir.      male     1  "
      ]
     },
     "metadata": {},
     "output_type": "display_data"
    }
   ],
   "source": [
    "train_data %>%\n",
    "    group_by(Title,Sex) %>%\n",
    "    summarize(count = n())"
   ]
  },
  {
   "cell_type": "code",
   "execution_count": 1354,
   "id": "b888abe3",
   "metadata": {},
   "outputs": [],
   "source": [
    "## used to test converting NA into factor(0)\n",
    "# train_data$Title[1] <- NA\n",
    "# train_data$Title\n",
    "# combined = list(train_data, test_data)"
   ]
  },
  {
   "cell_type": "code",
   "execution_count": 1355,
   "id": "46e9c3b1",
   "metadata": {},
   "outputs": [
    {
     "data": {
      "text/html": [
       "<table class=\"dataframe\">\n",
       "<caption>A tibble: 5 × 2</caption>\n",
       "<thead>\n",
       "\t<tr><th scope=col>Title</th><th scope=col>Survived</th></tr>\n",
       "\t<tr><th scope=col>&lt;chr&gt;</th><th scope=col>&lt;dbl&gt;</th></tr>\n",
       "</thead>\n",
       "<tbody>\n",
       "\t<tr><td>Master.</td><td>0.5750000</td></tr>\n",
       "\t<tr><td>Miss.  </td><td>0.7027027</td></tr>\n",
       "\t<tr><td>Mr.    </td><td>0.1566731</td></tr>\n",
       "\t<tr><td>Mrs.   </td><td>0.7936508</td></tr>\n",
       "\t<tr><td>Rare.  </td><td>0.3478261</td></tr>\n",
       "</tbody>\n",
       "</table>\n"
      ],
      "text/latex": [
       "A tibble: 5 × 2\n",
       "\\begin{tabular}{ll}\n",
       " Title & Survived\\\\\n",
       " <chr> & <dbl>\\\\\n",
       "\\hline\n",
       "\t Master. & 0.5750000\\\\\n",
       "\t Miss.   & 0.7027027\\\\\n",
       "\t Mr.     & 0.1566731\\\\\n",
       "\t Mrs.    & 0.7936508\\\\\n",
       "\t Rare.   & 0.3478261\\\\\n",
       "\\end{tabular}\n"
      ],
      "text/markdown": [
       "\n",
       "A tibble: 5 × 2\n",
       "\n",
       "| Title &lt;chr&gt; | Survived &lt;dbl&gt; |\n",
       "|---|---|\n",
       "| Master. | 0.5750000 |\n",
       "| Miss.   | 0.7027027 |\n",
       "| Mr.     | 0.1566731 |\n",
       "| Mrs.    | 0.7936508 |\n",
       "| Rare.   | 0.3478261 |\n",
       "\n"
      ],
      "text/plain": [
       "  Title   Survived \n",
       "1 Master. 0.5750000\n",
       "2 Miss.   0.7027027\n",
       "3 Mr.     0.1566731\n",
       "4 Mrs.    0.7936508\n",
       "5 Rare.   0.3478261"
      ]
     },
     "metadata": {},
     "output_type": "display_data"
    }
   ],
   "source": [
    "\n",
    "## put many titles with a more common name\n",
    "for (i in seq_along(combined)) {\n",
    "    combined[[i]] <- combined[[i]] %>%\n",
    "        mutate(Title = ifelse(Title %in% c('Lady.', 'Countess.', 'Capt.', 'Col.', 'Don.', 'Dr.',\n",
    "                                   'Major.', 'Rev.', 'Sir.', 'Jonkheer.', 'Dona.'), \"Rare.\", Title)) %>%\n",
    "        mutate(Title = ifelse(Title %in% c(\"Mlle.\", \"Ms.\"), \"Miss.\", Title))%>%\n",
    "        mutate(Title = ifelse(Title == \"Mme.\", \"Mrs.\", Title))\n",
    "}\n",
    "train_data <- combined[[1]]\n",
    "test_data <- combined[[2]]\n",
    "train_data %>%\n",
    "    group_by(Title) %>%\n",
    "    summarize(Survived = mean(Survived))"
   ]
  },
  {
   "cell_type": "code",
   "execution_count": 1356,
   "id": "5cab4d4c",
   "metadata": {},
   "outputs": [
    {
     "data": {
      "text/html": [
       "<table class=\"dataframe\">\n",
       "<caption>A tibble: 5 × 2</caption>\n",
       "<thead>\n",
       "\t<tr><th scope=col>Title</th><th scope=col>n</th></tr>\n",
       "\t<tr><th scope=col>&lt;fct&gt;</th><th scope=col>&lt;int&gt;</th></tr>\n",
       "</thead>\n",
       "<tbody>\n",
       "\t<tr><td>1</td><td>517</td></tr>\n",
       "\t<tr><td>2</td><td>185</td></tr>\n",
       "\t<tr><td>3</td><td>126</td></tr>\n",
       "\t<tr><td>4</td><td> 40</td></tr>\n",
       "\t<tr><td>5</td><td> 23</td></tr>\n",
       "</tbody>\n",
       "</table>\n"
      ],
      "text/latex": [
       "A tibble: 5 × 2\n",
       "\\begin{tabular}{ll}\n",
       " Title & n\\\\\n",
       " <fct> & <int>\\\\\n",
       "\\hline\n",
       "\t 1 & 517\\\\\n",
       "\t 2 & 185\\\\\n",
       "\t 3 & 126\\\\\n",
       "\t 4 &  40\\\\\n",
       "\t 5 &  23\\\\\n",
       "\\end{tabular}\n"
      ],
      "text/markdown": [
       "\n",
       "A tibble: 5 × 2\n",
       "\n",
       "| Title &lt;fct&gt; | n &lt;int&gt; |\n",
       "|---|---|\n",
       "| 1 | 517 |\n",
       "| 2 | 185 |\n",
       "| 3 | 126 |\n",
       "| 4 |  40 |\n",
       "| 5 |  23 |\n",
       "\n"
      ],
      "text/plain": [
       "  Title n  \n",
       "1 1     517\n",
       "2 2     185\n",
       "3 3     126\n",
       "4 4      40\n",
       "5 5      23"
      ]
     },
     "metadata": {},
     "output_type": "display_data"
    }
   ],
   "source": [
    "## convert categorical Title into ordinal\n",
    "for (i in seq_along(combined)) {\n",
    "    combined[[i]] <- combined[[i]] %>%\n",
    "        mutate(Title = recode(Title, \"Mr.\"=\"1\", \"Miss.\"=\"2\",\n",
    "                                     \"Mrs.\"=\"3\", \"Master.\"=\"4\",\n",
    "                                     \"Rare.\"=\"5\"))\n",
    "    combined[[i]]$Title[is.na(combined[[i]]$Title)]  <-  0\n",
    "    combined[[i]]$Title <- as.factor(combined[[i]]$Title)\n",
    "}\n",
    "train_data = combined[[1]]\n",
    "test_data = combined[[2]]\n",
    "\n",
    "train_data%>%\n",
    "    group_by(Title)%>%\n",
    "    summarize(n=n())"
   ]
  },
  {
   "cell_type": "code",
   "execution_count": 1357,
   "id": "2c07c201",
   "metadata": {},
   "outputs": [
    {
     "data": {
      "text/html": [
       "<table class=\"dataframe\">\n",
       "<caption>A tibble: 10 × 11</caption>\n",
       "<thead>\n",
       "\t<tr><th scope=col>PassengerId</th><th scope=col>Survived</th><th scope=col>Pclass</th><th scope=col>Name</th><th scope=col>Sex</th><th scope=col>Age</th><th scope=col>SibSp</th><th scope=col>Parch</th><th scope=col>Fare</th><th scope=col>Embarked</th><th scope=col>Title</th></tr>\n",
       "\t<tr><th scope=col>&lt;dbl&gt;</th><th scope=col>&lt;dbl&gt;</th><th scope=col>&lt;dbl&gt;</th><th scope=col>&lt;chr&gt;</th><th scope=col>&lt;chr&gt;</th><th scope=col>&lt;dbl&gt;</th><th scope=col>&lt;dbl&gt;</th><th scope=col>&lt;dbl&gt;</th><th scope=col>&lt;dbl&gt;</th><th scope=col>&lt;chr&gt;</th><th scope=col>&lt;fct&gt;</th></tr>\n",
       "</thead>\n",
       "<tbody>\n",
       "\t<tr><td> 1</td><td>0</td><td>3</td><td>Braund, Mr. Owen Harris                            </td><td>male  </td><td>22</td><td>1</td><td>0</td><td> 7.2500</td><td>S</td><td>1</td></tr>\n",
       "\t<tr><td> 2</td><td>1</td><td>1</td><td>Cumings, Mrs. John Bradley (Florence Briggs Thayer)</td><td>female</td><td>38</td><td>1</td><td>0</td><td>71.2833</td><td>C</td><td>3</td></tr>\n",
       "\t<tr><td> 3</td><td>1</td><td>3</td><td>Heikkinen, Miss. Laina                             </td><td>female</td><td>26</td><td>0</td><td>0</td><td> 7.9250</td><td>S</td><td>2</td></tr>\n",
       "\t<tr><td> 4</td><td>1</td><td>1</td><td>Futrelle, Mrs. Jacques Heath (Lily May Peel)       </td><td>female</td><td>35</td><td>1</td><td>0</td><td>53.1000</td><td>S</td><td>3</td></tr>\n",
       "\t<tr><td> 5</td><td>0</td><td>3</td><td>Allen, Mr. William Henry                           </td><td>male  </td><td>35</td><td>0</td><td>0</td><td> 8.0500</td><td>S</td><td>1</td></tr>\n",
       "\t<tr><td> 6</td><td>0</td><td>3</td><td>Moran, Mr. James                                   </td><td>male  </td><td>NA</td><td>0</td><td>0</td><td> 8.4583</td><td>Q</td><td>1</td></tr>\n",
       "\t<tr><td> 7</td><td>0</td><td>1</td><td>McCarthy, Mr. Timothy J                            </td><td>male  </td><td>54</td><td>0</td><td>0</td><td>51.8625</td><td>S</td><td>1</td></tr>\n",
       "\t<tr><td> 8</td><td>0</td><td>3</td><td>Palsson, Master. Gosta Leonard                     </td><td>male  </td><td> 2</td><td>3</td><td>1</td><td>21.0750</td><td>S</td><td>4</td></tr>\n",
       "\t<tr><td> 9</td><td>1</td><td>3</td><td>Johnson, Mrs. Oscar W (Elisabeth Vilhelmina Berg)  </td><td>female</td><td>27</td><td>0</td><td>2</td><td>11.1333</td><td>S</td><td>3</td></tr>\n",
       "\t<tr><td>10</td><td>1</td><td>2</td><td>Nasser, Mrs. Nicholas (Adele Achem)                </td><td>female</td><td>14</td><td>1</td><td>0</td><td>30.0708</td><td>C</td><td>3</td></tr>\n",
       "</tbody>\n",
       "</table>\n"
      ],
      "text/latex": [
       "A tibble: 10 × 11\n",
       "\\begin{tabular}{lllllllllll}\n",
       " PassengerId & Survived & Pclass & Name & Sex & Age & SibSp & Parch & Fare & Embarked & Title\\\\\n",
       " <dbl> & <dbl> & <dbl> & <chr> & <chr> & <dbl> & <dbl> & <dbl> & <dbl> & <chr> & <fct>\\\\\n",
       "\\hline\n",
       "\t  1 & 0 & 3 & Braund, Mr. Owen Harris                             & male   & 22 & 1 & 0 &  7.2500 & S & 1\\\\\n",
       "\t  2 & 1 & 1 & Cumings, Mrs. John Bradley (Florence Briggs Thayer) & female & 38 & 1 & 0 & 71.2833 & C & 3\\\\\n",
       "\t  3 & 1 & 3 & Heikkinen, Miss. Laina                              & female & 26 & 0 & 0 &  7.9250 & S & 2\\\\\n",
       "\t  4 & 1 & 1 & Futrelle, Mrs. Jacques Heath (Lily May Peel)        & female & 35 & 1 & 0 & 53.1000 & S & 3\\\\\n",
       "\t  5 & 0 & 3 & Allen, Mr. William Henry                            & male   & 35 & 0 & 0 &  8.0500 & S & 1\\\\\n",
       "\t  6 & 0 & 3 & Moran, Mr. James                                    & male   & NA & 0 & 0 &  8.4583 & Q & 1\\\\\n",
       "\t  7 & 0 & 1 & McCarthy, Mr. Timothy J                             & male   & 54 & 0 & 0 & 51.8625 & S & 1\\\\\n",
       "\t  8 & 0 & 3 & Palsson, Master. Gosta Leonard                      & male   &  2 & 3 & 1 & 21.0750 & S & 4\\\\\n",
       "\t  9 & 1 & 3 & Johnson, Mrs. Oscar W (Elisabeth Vilhelmina Berg)   & female & 27 & 0 & 2 & 11.1333 & S & 3\\\\\n",
       "\t 10 & 1 & 2 & Nasser, Mrs. Nicholas (Adele Achem)                 & female & 14 & 1 & 0 & 30.0708 & C & 3\\\\\n",
       "\\end{tabular}\n"
      ],
      "text/markdown": [
       "\n",
       "A tibble: 10 × 11\n",
       "\n",
       "| PassengerId &lt;dbl&gt; | Survived &lt;dbl&gt; | Pclass &lt;dbl&gt; | Name &lt;chr&gt; | Sex &lt;chr&gt; | Age &lt;dbl&gt; | SibSp &lt;dbl&gt; | Parch &lt;dbl&gt; | Fare &lt;dbl&gt; | Embarked &lt;chr&gt; | Title &lt;fct&gt; |\n",
       "|---|---|---|---|---|---|---|---|---|---|---|\n",
       "|  1 | 0 | 3 | Braund, Mr. Owen Harris                             | male   | 22 | 1 | 0 |  7.2500 | S | 1 |\n",
       "|  2 | 1 | 1 | Cumings, Mrs. John Bradley (Florence Briggs Thayer) | female | 38 | 1 | 0 | 71.2833 | C | 3 |\n",
       "|  3 | 1 | 3 | Heikkinen, Miss. Laina                              | female | 26 | 0 | 0 |  7.9250 | S | 2 |\n",
       "|  4 | 1 | 1 | Futrelle, Mrs. Jacques Heath (Lily May Peel)        | female | 35 | 1 | 0 | 53.1000 | S | 3 |\n",
       "|  5 | 0 | 3 | Allen, Mr. William Henry                            | male   | 35 | 0 | 0 |  8.0500 | S | 1 |\n",
       "|  6 | 0 | 3 | Moran, Mr. James                                    | male   | NA | 0 | 0 |  8.4583 | Q | 1 |\n",
       "|  7 | 0 | 1 | McCarthy, Mr. Timothy J                             | male   | 54 | 0 | 0 | 51.8625 | S | 1 |\n",
       "|  8 | 0 | 3 | Palsson, Master. Gosta Leonard                      | male   |  2 | 3 | 1 | 21.0750 | S | 4 |\n",
       "|  9 | 1 | 3 | Johnson, Mrs. Oscar W (Elisabeth Vilhelmina Berg)   | female | 27 | 0 | 2 | 11.1333 | S | 3 |\n",
       "| 10 | 1 | 2 | Nasser, Mrs. Nicholas (Adele Achem)                 | female | 14 | 1 | 0 | 30.0708 | C | 3 |\n",
       "\n"
      ],
      "text/plain": [
       "   PassengerId Survived Pclass\n",
       "1   1          0        3     \n",
       "2   2          1        1     \n",
       "3   3          1        3     \n",
       "4   4          1        1     \n",
       "5   5          0        3     \n",
       "6   6          0        3     \n",
       "7   7          0        1     \n",
       "8   8          0        3     \n",
       "9   9          1        3     \n",
       "10 10          1        2     \n",
       "   Name                                                Sex    Age SibSp Parch\n",
       "1  Braund, Mr. Owen Harris                             male   22  1     0    \n",
       "2  Cumings, Mrs. John Bradley (Florence Briggs Thayer) female 38  1     0    \n",
       "3  Heikkinen, Miss. Laina                              female 26  0     0    \n",
       "4  Futrelle, Mrs. Jacques Heath (Lily May Peel)        female 35  1     0    \n",
       "5  Allen, Mr. William Henry                            male   35  0     0    \n",
       "6  Moran, Mr. James                                    male   NA  0     0    \n",
       "7  McCarthy, Mr. Timothy J                             male   54  0     0    \n",
       "8  Palsson, Master. Gosta Leonard                      male    2  3     1    \n",
       "9  Johnson, Mrs. Oscar W (Elisabeth Vilhelmina Berg)   female 27  0     2    \n",
       "10 Nasser, Mrs. Nicholas (Adele Achem)                 female 14  1     0    \n",
       "   Fare    Embarked Title\n",
       "1   7.2500 S        1    \n",
       "2  71.2833 C        3    \n",
       "3   7.9250 S        2    \n",
       "4  53.1000 S        3    \n",
       "5   8.0500 S        1    \n",
       "6   8.4583 Q        1    \n",
       "7  51.8625 S        1    \n",
       "8  21.0750 S        4    \n",
       "9  11.1333 S        3    \n",
       "10 30.0708 C        3    "
      ]
     },
     "metadata": {},
     "output_type": "display_data"
    }
   ],
   "source": [
    "head(train_data, n=10)"
   ]
  },
  {
   "cell_type": "markdown",
   "id": "da7fb8af",
   "metadata": {},
   "source": [
    "## CONTINUE DROPPING FEATURES\n",
    "- `Name` now replaced by `Title`\n",
    "- drop `PassengerId`"
   ]
  },
  {
   "cell_type": "code",
   "execution_count": 1358,
   "id": "286e8821",
   "metadata": {},
   "outputs": [
    {
     "name": "stdout",
     "output_type": "stream",
     "text": [
      "[1] 891   9\n",
      "[1] 418   8\n"
     ]
    }
   ],
   "source": [
    "train_data <- train_data %>% select(-Name, -PassengerId)\n",
    "test_data <- test_data %>% select(-Name, -PassengerId)\n",
    "combined = list(train_data, test_data)\n",
    "print(dim(train_data))\n",
    "print(dim(test_data))"
   ]
  },
  {
   "cell_type": "markdown",
   "id": "cde1b723",
   "metadata": {},
   "source": [
    "## Represent `Sex` with 0/1"
   ]
  },
  {
   "cell_type": "code",
   "execution_count": 1359,
   "id": "f15f147c",
   "metadata": {},
   "outputs": [
    {
     "data": {
      "text/html": [
       "<table class=\"dataframe\">\n",
       "<caption>A tibble: 10 × 9</caption>\n",
       "<thead>\n",
       "\t<tr><th scope=col>Survived</th><th scope=col>Pclass</th><th scope=col>Sex</th><th scope=col>Age</th><th scope=col>SibSp</th><th scope=col>Parch</th><th scope=col>Fare</th><th scope=col>Embarked</th><th scope=col>Title</th></tr>\n",
       "\t<tr><th scope=col>&lt;dbl&gt;</th><th scope=col>&lt;dbl&gt;</th><th scope=col>&lt;chr&gt;</th><th scope=col>&lt;dbl&gt;</th><th scope=col>&lt;dbl&gt;</th><th scope=col>&lt;dbl&gt;</th><th scope=col>&lt;dbl&gt;</th><th scope=col>&lt;chr&gt;</th><th scope=col>&lt;fct&gt;</th></tr>\n",
       "</thead>\n",
       "<tbody>\n",
       "\t<tr><td>0</td><td>3</td><td>1</td><td>22</td><td>1</td><td>0</td><td> 7.2500</td><td>S</td><td>1</td></tr>\n",
       "\t<tr><td>1</td><td>1</td><td>0</td><td>38</td><td>1</td><td>0</td><td>71.2833</td><td>C</td><td>3</td></tr>\n",
       "\t<tr><td>1</td><td>3</td><td>0</td><td>26</td><td>0</td><td>0</td><td> 7.9250</td><td>S</td><td>2</td></tr>\n",
       "\t<tr><td>1</td><td>1</td><td>0</td><td>35</td><td>1</td><td>0</td><td>53.1000</td><td>S</td><td>3</td></tr>\n",
       "\t<tr><td>0</td><td>3</td><td>1</td><td>35</td><td>0</td><td>0</td><td> 8.0500</td><td>S</td><td>1</td></tr>\n",
       "\t<tr><td>0</td><td>3</td><td>1</td><td>NA</td><td>0</td><td>0</td><td> 8.4583</td><td>Q</td><td>1</td></tr>\n",
       "\t<tr><td>0</td><td>1</td><td>1</td><td>54</td><td>0</td><td>0</td><td>51.8625</td><td>S</td><td>1</td></tr>\n",
       "\t<tr><td>0</td><td>3</td><td>1</td><td> 2</td><td>3</td><td>1</td><td>21.0750</td><td>S</td><td>4</td></tr>\n",
       "\t<tr><td>1</td><td>3</td><td>0</td><td>27</td><td>0</td><td>2</td><td>11.1333</td><td>S</td><td>3</td></tr>\n",
       "\t<tr><td>1</td><td>2</td><td>0</td><td>14</td><td>1</td><td>0</td><td>30.0708</td><td>C</td><td>3</td></tr>\n",
       "</tbody>\n",
       "</table>\n"
      ],
      "text/latex": [
       "A tibble: 10 × 9\n",
       "\\begin{tabular}{lllllllll}\n",
       " Survived & Pclass & Sex & Age & SibSp & Parch & Fare & Embarked & Title\\\\\n",
       " <dbl> & <dbl> & <chr> & <dbl> & <dbl> & <dbl> & <dbl> & <chr> & <fct>\\\\\n",
       "\\hline\n",
       "\t 0 & 3 & 1 & 22 & 1 & 0 &  7.2500 & S & 1\\\\\n",
       "\t 1 & 1 & 0 & 38 & 1 & 0 & 71.2833 & C & 3\\\\\n",
       "\t 1 & 3 & 0 & 26 & 0 & 0 &  7.9250 & S & 2\\\\\n",
       "\t 1 & 1 & 0 & 35 & 1 & 0 & 53.1000 & S & 3\\\\\n",
       "\t 0 & 3 & 1 & 35 & 0 & 0 &  8.0500 & S & 1\\\\\n",
       "\t 0 & 3 & 1 & NA & 0 & 0 &  8.4583 & Q & 1\\\\\n",
       "\t 0 & 1 & 1 & 54 & 0 & 0 & 51.8625 & S & 1\\\\\n",
       "\t 0 & 3 & 1 &  2 & 3 & 1 & 21.0750 & S & 4\\\\\n",
       "\t 1 & 3 & 0 & 27 & 0 & 2 & 11.1333 & S & 3\\\\\n",
       "\t 1 & 2 & 0 & 14 & 1 & 0 & 30.0708 & C & 3\\\\\n",
       "\\end{tabular}\n"
      ],
      "text/markdown": [
       "\n",
       "A tibble: 10 × 9\n",
       "\n",
       "| Survived &lt;dbl&gt; | Pclass &lt;dbl&gt; | Sex &lt;chr&gt; | Age &lt;dbl&gt; | SibSp &lt;dbl&gt; | Parch &lt;dbl&gt; | Fare &lt;dbl&gt; | Embarked &lt;chr&gt; | Title &lt;fct&gt; |\n",
       "|---|---|---|---|---|---|---|---|---|\n",
       "| 0 | 3 | 1 | 22 | 1 | 0 |  7.2500 | S | 1 |\n",
       "| 1 | 1 | 0 | 38 | 1 | 0 | 71.2833 | C | 3 |\n",
       "| 1 | 3 | 0 | 26 | 0 | 0 |  7.9250 | S | 2 |\n",
       "| 1 | 1 | 0 | 35 | 1 | 0 | 53.1000 | S | 3 |\n",
       "| 0 | 3 | 1 | 35 | 0 | 0 |  8.0500 | S | 1 |\n",
       "| 0 | 3 | 1 | NA | 0 | 0 |  8.4583 | Q | 1 |\n",
       "| 0 | 1 | 1 | 54 | 0 | 0 | 51.8625 | S | 1 |\n",
       "| 0 | 3 | 1 |  2 | 3 | 1 | 21.0750 | S | 4 |\n",
       "| 1 | 3 | 0 | 27 | 0 | 2 | 11.1333 | S | 3 |\n",
       "| 1 | 2 | 0 | 14 | 1 | 0 | 30.0708 | C | 3 |\n",
       "\n"
      ],
      "text/plain": [
       "   Survived Pclass Sex Age SibSp Parch Fare    Embarked Title\n",
       "1  0        3      1   22  1     0      7.2500 S        1    \n",
       "2  1        1      0   38  1     0     71.2833 C        3    \n",
       "3  1        3      0   26  0     0      7.9250 S        2    \n",
       "4  1        1      0   35  1     0     53.1000 S        3    \n",
       "5  0        3      1   35  0     0      8.0500 S        1    \n",
       "6  0        3      1   NA  0     0      8.4583 Q        1    \n",
       "7  0        1      1   54  0     0     51.8625 S        1    \n",
       "8  0        3      1    2  3     1     21.0750 S        4    \n",
       "9  1        3      0   27  0     2     11.1333 S        3    \n",
       "10 1        2      0   14  1     0     30.0708 C        3    "
      ]
     },
     "metadata": {},
     "output_type": "display_data"
    }
   ],
   "source": [
    "for (i in seq_along(combined)) {\n",
    "    combined[[i]] <- combined[[i]] %>%\n",
    "        mutate(Sex = recode(Sex, female='0', male='1'))\n",
    "#         combined[[i]]$Sex[is.na(combined[[i]]$Sex)]  <-  0\n",
    "#         combined[[i]]$Sex <- as.factor(combined[[i]]$Sex)\n",
    "}\n",
    "train_data <- combined[[1]]\n",
    "test_data <- combined[[2]]\n",
    "head(train_data, n=10)"
   ]
  },
  {
   "cell_type": "markdown",
   "id": "4cbc91c6",
   "metadata": {},
   "source": [
    "## FILL `NA`s\n",
    "### Fill `NA`s in `Age`"
   ]
  },
  {
   "cell_type": "code",
   "execution_count": 1360,
   "id": "be8aa3c4",
   "metadata": {},
   "outputs": [
    {
     "data": {
      "text/html": [
       "<table class=\"dataframe\">\n",
       "<caption>A matrix: 2 × 3 of type dbl</caption>\n",
       "<tbody>\n",
       "\t<tr><td>36</td><td>28.0</td><td>22</td></tr>\n",
       "\t<tr><td>42</td><td>29.5</td><td>25</td></tr>\n",
       "</tbody>\n",
       "</table>\n"
      ],
      "text/latex": [
       "A matrix: 2 × 3 of type dbl\n",
       "\\begin{tabular}{lll}\n",
       "\t 36 & 28.0 & 22\\\\\n",
       "\t 42 & 29.5 & 25\\\\\n",
       "\\end{tabular}\n"
      ],
      "text/markdown": [
       "\n",
       "A matrix: 2 × 3 of type dbl\n",
       "\n",
       "| 36 | 28.0 | 22 |\n",
       "| 42 | 29.5 | 25 |\n",
       "\n"
      ],
      "text/plain": [
       "     [,1] [,2] [,3]\n",
       "[1,] 36   28.0 22  \n",
       "[2,] 42   29.5 25  "
      ]
     },
     "metadata": {},
     "output_type": "display_data"
    }
   ],
   "source": [
    "guess_ages <- array(data=0, dim=c(2, 3))\n",
    "for (i in 1:2) {\n",
    "    for (j in 1:3) {\n",
    "        a <- train_data %>%\n",
    "            filter(Sex == as.character(i-1), Pclass == j)\n",
    "        b <- test_data %>%\n",
    "            filter(Sex == as.character(i-1), Pclass == j)\n",
    "        guess_ages[i, j] <- median(c(a$Age, b$Age), na.rm=TRUE)\n",
    "#     print(guess_ages[i,j] + i + j)\n",
    "    }\n",
    "}\n",
    "guess_ages\n",
    "# median(c(train_data$Age, test_data$Age), na.rm=TRUE)\n",
    "# a <- train_data %>%\n",
    "#     filter(Sex=='0', Pclass==1)\n",
    "# a"
   ]
  },
  {
   "cell_type": "code",
   "execution_count": 1361,
   "id": "db1c920b",
   "metadata": {},
   "outputs": [],
   "source": [
    "for (k in seq_along(combined)) {\n",
    "    for (i in 1:2) {\n",
    "        for (j in 1:3) {\n",
    "            combined[[k]] <- combined[[k]] %>%\n",
    "                mutate(Age = if_else(Sex == as.character(i-1) & Pclass == j & is.na(Age),\n",
    "                                    guess_ages[i, j], Age))\n",
    "        }\n",
    "    }\n",
    "}\n",
    "train_data <- combined[[1]]\n",
    "test_data <- combined[[2]]"
   ]
  },
  {
   "cell_type": "code",
   "execution_count": 1362,
   "id": "21a122fe",
   "metadata": {},
   "outputs": [
    {
     "data": {
      "text/html": [
       "<table class=\"dataframe\">\n",
       "<caption>A tibble: 5 × 2</caption>\n",
       "<thead>\n",
       "\t<tr><th scope=col>AgeBand</th><th scope=col>Survived</th></tr>\n",
       "\t<tr><th scope=col>&lt;fct&gt;</th><th scope=col>&lt;dbl&gt;</th></tr>\n",
       "</thead>\n",
       "<tbody>\n",
       "\t<tr><td>(0.34,16.3]</td><td>0.55000000</td></tr>\n",
       "\t<tr><td>(16.3,32.3]</td><td>0.33671400</td></tr>\n",
       "\t<tr><td>(32.3,48.2]</td><td>0.41284404</td></tr>\n",
       "\t<tr><td>(48.2,64.1]</td><td>0.43478261</td></tr>\n",
       "\t<tr><td>(64.1,80.1]</td><td>0.09090909</td></tr>\n",
       "</tbody>\n",
       "</table>\n"
      ],
      "text/latex": [
       "A tibble: 5 × 2\n",
       "\\begin{tabular}{ll}\n",
       " AgeBand & Survived\\\\\n",
       " <fct> & <dbl>\\\\\n",
       "\\hline\n",
       "\t (0.34,16.3{]} & 0.55000000\\\\\n",
       "\t (16.3,32.3{]} & 0.33671400\\\\\n",
       "\t (32.3,48.2{]} & 0.41284404\\\\\n",
       "\t (48.2,64.1{]} & 0.43478261\\\\\n",
       "\t (64.1,80.1{]} & 0.09090909\\\\\n",
       "\\end{tabular}\n"
      ],
      "text/markdown": [
       "\n",
       "A tibble: 5 × 2\n",
       "\n",
       "| AgeBand &lt;fct&gt; | Survived &lt;dbl&gt; |\n",
       "|---|---|\n",
       "| (0.34,16.3] | 0.55000000 |\n",
       "| (16.3,32.3] | 0.33671400 |\n",
       "| (32.3,48.2] | 0.41284404 |\n",
       "| (48.2,64.1] | 0.43478261 |\n",
       "| (64.1,80.1] | 0.09090909 |\n",
       "\n"
      ],
      "text/plain": [
       "  AgeBand     Survived  \n",
       "1 (0.34,16.3] 0.55000000\n",
       "2 (16.3,32.3] 0.33671400\n",
       "3 (32.3,48.2] 0.41284404\n",
       "4 (48.2,64.1] 0.43478261\n",
       "5 (64.1,80.1] 0.09090909"
      ]
     },
     "metadata": {},
     "output_type": "display_data"
    }
   ],
   "source": [
    "train_data %>%\n",
    "#     mutate(Age = cut(Age, breaks=5, labels=c('0', '1', '2', '3', '4')))\n",
    "    mutate(AgeBand = cut(Age, breaks=5)) %>%\n",
    "    group_by(AgeBand) %>%\n",
    "    summarize(Survived = mean(Survived))"
   ]
  },
  {
   "cell_type": "code",
   "execution_count": 1363,
   "id": "b24ce53c",
   "metadata": {},
   "outputs": [
    {
     "data": {
      "text/html": [
       "<table class=\"dataframe\">\n",
       "<caption>A tibble: 10 × 8</caption>\n",
       "<thead>\n",
       "\t<tr><th scope=col>Pclass</th><th scope=col>Sex</th><th scope=col>Age</th><th scope=col>SibSp</th><th scope=col>Parch</th><th scope=col>Fare</th><th scope=col>Embarked</th><th scope=col>Title</th></tr>\n",
       "\t<tr><th scope=col>&lt;dbl&gt;</th><th scope=col>&lt;chr&gt;</th><th scope=col>&lt;fct&gt;</th><th scope=col>&lt;dbl&gt;</th><th scope=col>&lt;dbl&gt;</th><th scope=col>&lt;dbl&gt;</th><th scope=col>&lt;chr&gt;</th><th scope=col>&lt;fct&gt;</th></tr>\n",
       "</thead>\n",
       "<tbody>\n",
       "\t<tr><td>3</td><td>1</td><td>2</td><td>0</td><td>0</td><td> 7.8292</td><td>Q</td><td>1</td></tr>\n",
       "\t<tr><td>3</td><td>0</td><td>2</td><td>1</td><td>0</td><td> 7.0000</td><td>S</td><td>3</td></tr>\n",
       "\t<tr><td>2</td><td>1</td><td>3</td><td>0</td><td>0</td><td> 9.6875</td><td>Q</td><td>1</td></tr>\n",
       "\t<tr><td>3</td><td>1</td><td>1</td><td>0</td><td>0</td><td> 8.6625</td><td>S</td><td>1</td></tr>\n",
       "\t<tr><td>3</td><td>0</td><td>1</td><td>1</td><td>1</td><td>12.2875</td><td>S</td><td>3</td></tr>\n",
       "\t<tr><td>3</td><td>1</td><td>0</td><td>0</td><td>0</td><td> 9.2250</td><td>S</td><td>1</td></tr>\n",
       "\t<tr><td>3</td><td>0</td><td>1</td><td>0</td><td>0</td><td> 7.6292</td><td>Q</td><td>2</td></tr>\n",
       "\t<tr><td>2</td><td>1</td><td>1</td><td>1</td><td>1</td><td>29.0000</td><td>S</td><td>1</td></tr>\n",
       "\t<tr><td>3</td><td>0</td><td>1</td><td>0</td><td>0</td><td> 7.2292</td><td>C</td><td>3</td></tr>\n",
       "\t<tr><td>3</td><td>1</td><td>1</td><td>2</td><td>0</td><td>24.1500</td><td>S</td><td>1</td></tr>\n",
       "</tbody>\n",
       "</table>\n"
      ],
      "text/latex": [
       "A tibble: 10 × 8\n",
       "\\begin{tabular}{llllllll}\n",
       " Pclass & Sex & Age & SibSp & Parch & Fare & Embarked & Title\\\\\n",
       " <dbl> & <chr> & <fct> & <dbl> & <dbl> & <dbl> & <chr> & <fct>\\\\\n",
       "\\hline\n",
       "\t 3 & 1 & 2 & 0 & 0 &  7.8292 & Q & 1\\\\\n",
       "\t 3 & 0 & 2 & 1 & 0 &  7.0000 & S & 3\\\\\n",
       "\t 2 & 1 & 3 & 0 & 0 &  9.6875 & Q & 1\\\\\n",
       "\t 3 & 1 & 1 & 0 & 0 &  8.6625 & S & 1\\\\\n",
       "\t 3 & 0 & 1 & 1 & 1 & 12.2875 & S & 3\\\\\n",
       "\t 3 & 1 & 0 & 0 & 0 &  9.2250 & S & 1\\\\\n",
       "\t 3 & 0 & 1 & 0 & 0 &  7.6292 & Q & 2\\\\\n",
       "\t 2 & 1 & 1 & 1 & 1 & 29.0000 & S & 1\\\\\n",
       "\t 3 & 0 & 1 & 0 & 0 &  7.2292 & C & 3\\\\\n",
       "\t 3 & 1 & 1 & 2 & 0 & 24.1500 & S & 1\\\\\n",
       "\\end{tabular}\n"
      ],
      "text/markdown": [
       "\n",
       "A tibble: 10 × 8\n",
       "\n",
       "| Pclass &lt;dbl&gt; | Sex &lt;chr&gt; | Age &lt;fct&gt; | SibSp &lt;dbl&gt; | Parch &lt;dbl&gt; | Fare &lt;dbl&gt; | Embarked &lt;chr&gt; | Title &lt;fct&gt; |\n",
       "|---|---|---|---|---|---|---|---|\n",
       "| 3 | 1 | 2 | 0 | 0 |  7.8292 | Q | 1 |\n",
       "| 3 | 0 | 2 | 1 | 0 |  7.0000 | S | 3 |\n",
       "| 2 | 1 | 3 | 0 | 0 |  9.6875 | Q | 1 |\n",
       "| 3 | 1 | 1 | 0 | 0 |  8.6625 | S | 1 |\n",
       "| 3 | 0 | 1 | 1 | 1 | 12.2875 | S | 3 |\n",
       "| 3 | 1 | 0 | 0 | 0 |  9.2250 | S | 1 |\n",
       "| 3 | 0 | 1 | 0 | 0 |  7.6292 | Q | 2 |\n",
       "| 2 | 1 | 1 | 1 | 1 | 29.0000 | S | 1 |\n",
       "| 3 | 0 | 1 | 0 | 0 |  7.2292 | C | 3 |\n",
       "| 3 | 1 | 1 | 2 | 0 | 24.1500 | S | 1 |\n",
       "\n"
      ],
      "text/plain": [
       "   Pclass Sex Age SibSp Parch Fare    Embarked Title\n",
       "1  3      1   2   0     0      7.8292 Q        1    \n",
       "2  3      0   2   1     0      7.0000 S        3    \n",
       "3  2      1   3   0     0      9.6875 Q        1    \n",
       "4  3      1   1   0     0      8.6625 S        1    \n",
       "5  3      0   1   1     1     12.2875 S        3    \n",
       "6  3      1   0   0     0      9.2250 S        1    \n",
       "7  3      0   1   0     0      7.6292 Q        2    \n",
       "8  2      1   1   1     1     29.0000 S        1    \n",
       "9  3      0   1   0     0      7.2292 C        3    \n",
       "10 3      1   1   2     0     24.1500 S        1    "
      ]
     },
     "metadata": {},
     "output_type": "display_data"
    }
   ],
   "source": [
    "for (i in seq_along(combined)) {\n",
    "    combined[[i]] <- combined[[i]]%>%\n",
    "        mutate(Age = cut(Age, breaks=c(0, 16, 32, 48, 64, 80), labels=c('0', '1', '2', '3', '4'),\n",
    "                        include.lowest=TRUE))\n",
    "}\n",
    "train_data <- combined[[1]]\n",
    "test_data <- combined[[2]]\n",
    "head(test_data, n=10)"
   ]
  },
  {
   "cell_type": "markdown",
   "id": "fc5dd865",
   "metadata": {},
   "source": [
    "## CREATE NEW FEATURE COMBINING EXISTING FEATURES\n",
    "### Create `IsAlone` and replace `Parch` and `SibSp`"
   ]
  },
  {
   "cell_type": "code",
   "execution_count": 1364,
   "id": "970ffdb6",
   "metadata": {},
   "outputs": [],
   "source": [
    "for (i in seq_along(combined)) {\n",
    "    combined[[i]] <- combined[[i]] %>%\n",
    "        mutate(FamilySize = SibSp + Parch + 1)\n",
    "}\n",
    "train_data <- combined[[1]]\n",
    "test_data <- combined[[2]]"
   ]
  },
  {
   "cell_type": "code",
   "execution_count": 1365,
   "id": "01479666",
   "metadata": {},
   "outputs": [
    {
     "data": {
      "text/html": [
       "<table class=\"dataframe\">\n",
       "<caption>A tibble: 9 × 2</caption>\n",
       "<thead>\n",
       "\t<tr><th scope=col>FamilySize</th><th scope=col>Survived</th></tr>\n",
       "\t<tr><th scope=col>&lt;dbl&gt;</th><th scope=col>&lt;dbl&gt;</th></tr>\n",
       "</thead>\n",
       "<tbody>\n",
       "\t<tr><td> 4</td><td>0.7241379</td></tr>\n",
       "\t<tr><td> 3</td><td>0.5784314</td></tr>\n",
       "\t<tr><td> 2</td><td>0.5527950</td></tr>\n",
       "\t<tr><td> 7</td><td>0.3333333</td></tr>\n",
       "\t<tr><td> 1</td><td>0.3035382</td></tr>\n",
       "\t<tr><td> 5</td><td>0.2000000</td></tr>\n",
       "\t<tr><td> 6</td><td>0.1363636</td></tr>\n",
       "\t<tr><td> 8</td><td>0.0000000</td></tr>\n",
       "\t<tr><td>11</td><td>0.0000000</td></tr>\n",
       "</tbody>\n",
       "</table>\n"
      ],
      "text/latex": [
       "A tibble: 9 × 2\n",
       "\\begin{tabular}{ll}\n",
       " FamilySize & Survived\\\\\n",
       " <dbl> & <dbl>\\\\\n",
       "\\hline\n",
       "\t  4 & 0.7241379\\\\\n",
       "\t  3 & 0.5784314\\\\\n",
       "\t  2 & 0.5527950\\\\\n",
       "\t  7 & 0.3333333\\\\\n",
       "\t  1 & 0.3035382\\\\\n",
       "\t  5 & 0.2000000\\\\\n",
       "\t  6 & 0.1363636\\\\\n",
       "\t  8 & 0.0000000\\\\\n",
       "\t 11 & 0.0000000\\\\\n",
       "\\end{tabular}\n"
      ],
      "text/markdown": [
       "\n",
       "A tibble: 9 × 2\n",
       "\n",
       "| FamilySize &lt;dbl&gt; | Survived &lt;dbl&gt; |\n",
       "|---|---|\n",
       "|  4 | 0.7241379 |\n",
       "|  3 | 0.5784314 |\n",
       "|  2 | 0.5527950 |\n",
       "|  7 | 0.3333333 |\n",
       "|  1 | 0.3035382 |\n",
       "|  5 | 0.2000000 |\n",
       "|  6 | 0.1363636 |\n",
       "|  8 | 0.0000000 |\n",
       "| 11 | 0.0000000 |\n",
       "\n"
      ],
      "text/plain": [
       "  FamilySize Survived \n",
       "1  4         0.7241379\n",
       "2  3         0.5784314\n",
       "3  2         0.5527950\n",
       "4  7         0.3333333\n",
       "5  1         0.3035382\n",
       "6  5         0.2000000\n",
       "7  6         0.1363636\n",
       "8  8         0.0000000\n",
       "9 11         0.0000000"
      ]
     },
     "metadata": {},
     "output_type": "display_data"
    }
   ],
   "source": [
    "train_data%>%\n",
    "    group_by(FamilySize) %>%\n",
    "    summarize(Survived = mean(Survived))%>%\n",
    "    arrange(desc(Survived))"
   ]
  },
  {
   "cell_type": "code",
   "execution_count": 1366,
   "id": "65fd956b",
   "metadata": {},
   "outputs": [],
   "source": [
    "## replace `Parch`, `SibSp`, `FamilySize` with `IsAlone`\n",
    "train_data <- train_data %>%\n",
    "    mutate(IsAlone = if_else(FamilySize == 1, 1, 0)) %>%\n",
    "    select(-Parch, -SibSp, -FamilySize)\n",
    "test_data <- test_data %>%\n",
    "    mutate(IsAlone = if_else(FamilySize == 1, 1, 0)) %>%\n",
    "    select(-Parch, -SibSp, -FamilySize)\n",
    "combined <- list(train_data, test_data)"
   ]
  },
  {
   "cell_type": "markdown",
   "id": "03482023",
   "metadata": {},
   "source": [
    "### Create a feature combining `Pclass` and `Age`\n",
    "- why???"
   ]
  },
  {
   "cell_type": "code",
   "execution_count": 1367,
   "id": "ec837ca8",
   "metadata": {},
   "outputs": [
    {
     "data": {
      "text/html": [
       "<table class=\"dataframe\">\n",
       "<caption>A tibble: 10 × 9</caption>\n",
       "<thead>\n",
       "\t<tr><th scope=col>Survived</th><th scope=col>Pclass</th><th scope=col>Sex</th><th scope=col>Age</th><th scope=col>Fare</th><th scope=col>Embarked</th><th scope=col>Title</th><th scope=col>IsAlone</th><th scope=col>Age_Pclass</th></tr>\n",
       "\t<tr><th scope=col>&lt;dbl&gt;</th><th scope=col>&lt;dbl&gt;</th><th scope=col>&lt;chr&gt;</th><th scope=col>&lt;fct&gt;</th><th scope=col>&lt;dbl&gt;</th><th scope=col>&lt;chr&gt;</th><th scope=col>&lt;fct&gt;</th><th scope=col>&lt;dbl&gt;</th><th scope=col>&lt;dbl&gt;</th></tr>\n",
       "</thead>\n",
       "<tbody>\n",
       "\t<tr><td>0</td><td>3</td><td>1</td><td>1</td><td> 7.2500</td><td>S</td><td>1</td><td>0</td><td>3</td></tr>\n",
       "\t<tr><td>1</td><td>1</td><td>0</td><td>2</td><td>71.2833</td><td>C</td><td>3</td><td>0</td><td>2</td></tr>\n",
       "\t<tr><td>1</td><td>3</td><td>0</td><td>1</td><td> 7.9250</td><td>S</td><td>2</td><td>1</td><td>3</td></tr>\n",
       "\t<tr><td>1</td><td>1</td><td>0</td><td>2</td><td>53.1000</td><td>S</td><td>3</td><td>0</td><td>2</td></tr>\n",
       "\t<tr><td>0</td><td>3</td><td>1</td><td>2</td><td> 8.0500</td><td>S</td><td>1</td><td>1</td><td>6</td></tr>\n",
       "\t<tr><td>0</td><td>3</td><td>1</td><td>1</td><td> 8.4583</td><td>Q</td><td>1</td><td>1</td><td>3</td></tr>\n",
       "\t<tr><td>0</td><td>1</td><td>1</td><td>3</td><td>51.8625</td><td>S</td><td>1</td><td>1</td><td>3</td></tr>\n",
       "\t<tr><td>0</td><td>3</td><td>1</td><td>0</td><td>21.0750</td><td>S</td><td>4</td><td>0</td><td>0</td></tr>\n",
       "\t<tr><td>1</td><td>3</td><td>0</td><td>1</td><td>11.1333</td><td>S</td><td>3</td><td>0</td><td>3</td></tr>\n",
       "\t<tr><td>1</td><td>2</td><td>0</td><td>0</td><td>30.0708</td><td>C</td><td>3</td><td>0</td><td>0</td></tr>\n",
       "</tbody>\n",
       "</table>\n"
      ],
      "text/latex": [
       "A tibble: 10 × 9\n",
       "\\begin{tabular}{lllllllll}\n",
       " Survived & Pclass & Sex & Age & Fare & Embarked & Title & IsAlone & Age\\_Pclass\\\\\n",
       " <dbl> & <dbl> & <chr> & <fct> & <dbl> & <chr> & <fct> & <dbl> & <dbl>\\\\\n",
       "\\hline\n",
       "\t 0 & 3 & 1 & 1 &  7.2500 & S & 1 & 0 & 3\\\\\n",
       "\t 1 & 1 & 0 & 2 & 71.2833 & C & 3 & 0 & 2\\\\\n",
       "\t 1 & 3 & 0 & 1 &  7.9250 & S & 2 & 1 & 3\\\\\n",
       "\t 1 & 1 & 0 & 2 & 53.1000 & S & 3 & 0 & 2\\\\\n",
       "\t 0 & 3 & 1 & 2 &  8.0500 & S & 1 & 1 & 6\\\\\n",
       "\t 0 & 3 & 1 & 1 &  8.4583 & Q & 1 & 1 & 3\\\\\n",
       "\t 0 & 1 & 1 & 3 & 51.8625 & S & 1 & 1 & 3\\\\\n",
       "\t 0 & 3 & 1 & 0 & 21.0750 & S & 4 & 0 & 0\\\\\n",
       "\t 1 & 3 & 0 & 1 & 11.1333 & S & 3 & 0 & 3\\\\\n",
       "\t 1 & 2 & 0 & 0 & 30.0708 & C & 3 & 0 & 0\\\\\n",
       "\\end{tabular}\n"
      ],
      "text/markdown": [
       "\n",
       "A tibble: 10 × 9\n",
       "\n",
       "| Survived &lt;dbl&gt; | Pclass &lt;dbl&gt; | Sex &lt;chr&gt; | Age &lt;fct&gt; | Fare &lt;dbl&gt; | Embarked &lt;chr&gt; | Title &lt;fct&gt; | IsAlone &lt;dbl&gt; | Age_Pclass &lt;dbl&gt; |\n",
       "|---|---|---|---|---|---|---|---|---|\n",
       "| 0 | 3 | 1 | 1 |  7.2500 | S | 1 | 0 | 3 |\n",
       "| 1 | 1 | 0 | 2 | 71.2833 | C | 3 | 0 | 2 |\n",
       "| 1 | 3 | 0 | 1 |  7.9250 | S | 2 | 1 | 3 |\n",
       "| 1 | 1 | 0 | 2 | 53.1000 | S | 3 | 0 | 2 |\n",
       "| 0 | 3 | 1 | 2 |  8.0500 | S | 1 | 1 | 6 |\n",
       "| 0 | 3 | 1 | 1 |  8.4583 | Q | 1 | 1 | 3 |\n",
       "| 0 | 1 | 1 | 3 | 51.8625 | S | 1 | 1 | 3 |\n",
       "| 0 | 3 | 1 | 0 | 21.0750 | S | 4 | 0 | 0 |\n",
       "| 1 | 3 | 0 | 1 | 11.1333 | S | 3 | 0 | 3 |\n",
       "| 1 | 2 | 0 | 0 | 30.0708 | C | 3 | 0 | 0 |\n",
       "\n"
      ],
      "text/plain": [
       "   Survived Pclass Sex Age Fare    Embarked Title IsAlone Age_Pclass\n",
       "1  0        3      1   1    7.2500 S        1     0       3         \n",
       "2  1        1      0   2   71.2833 C        3     0       2         \n",
       "3  1        3      0   1    7.9250 S        2     1       3         \n",
       "4  1        1      0   2   53.1000 S        3     0       2         \n",
       "5  0        3      1   2    8.0500 S        1     1       6         \n",
       "6  0        3      1   1    8.4583 Q        1     1       3         \n",
       "7  0        1      1   3   51.8625 S        1     1       3         \n",
       "8  0        3      1   0   21.0750 S        4     0       0         \n",
       "9  1        3      0   1   11.1333 S        3     0       3         \n",
       "10 1        2      0   0   30.0708 C        3     0       0         "
      ]
     },
     "metadata": {},
     "output_type": "display_data"
    }
   ],
   "source": [
    "for (i in seq_along(combined)) {\n",
    "    combined[[i]] <- combined[[i]] %>%\n",
    "        mutate(Age_Pclass = (as.numeric(Age) - 1) * Pclass)\n",
    "}\n",
    "train_data <- combined[[1]]\n",
    "test_data <- combined[[2]]\n",
    "head(train_data, n=10)"
   ]
  },
  {
   "cell_type": "markdown",
   "id": "c3d1315b",
   "metadata": {},
   "source": [
    "### Fill `NA`s in `Embarked`"
   ]
  },
  {
   "cell_type": "code",
   "execution_count": 1368,
   "id": "2914bb58",
   "metadata": {},
   "outputs": [
    {
     "data": {
      "text/html": [
       "<table class=\"dataframe\">\n",
       "<caption>A tibble: 3 × 2</caption>\n",
       "<thead>\n",
       "\t<tr><th scope=col>Embarked</th><th scope=col>n</th></tr>\n",
       "\t<tr><th scope=col>&lt;dbl&gt;</th><th scope=col>&lt;int&gt;</th></tr>\n",
       "</thead>\n",
       "<tbody>\n",
       "\t<tr><td>0</td><td>646</td></tr>\n",
       "\t<tr><td>1</td><td>168</td></tr>\n",
       "\t<tr><td>2</td><td> 77</td></tr>\n",
       "</tbody>\n",
       "</table>\n"
      ],
      "text/latex": [
       "A tibble: 3 × 2\n",
       "\\begin{tabular}{ll}\n",
       " Embarked & n\\\\\n",
       " <dbl> & <int>\\\\\n",
       "\\hline\n",
       "\t 0 & 646\\\\\n",
       "\t 1 & 168\\\\\n",
       "\t 2 &  77\\\\\n",
       "\\end{tabular}\n"
      ],
      "text/markdown": [
       "\n",
       "A tibble: 3 × 2\n",
       "\n",
       "| Embarked &lt;dbl&gt; | n &lt;int&gt; |\n",
       "|---|---|\n",
       "| 0 | 646 |\n",
       "| 1 | 168 |\n",
       "| 2 |  77 |\n",
       "\n"
      ],
      "text/plain": [
       "  Embarked n  \n",
       "1 0        646\n",
       "2 1        168\n",
       "3 2         77"
      ]
     },
     "metadata": {},
     "output_type": "display_data"
    }
   ],
   "source": [
    "port <- train_data %>%\n",
    "    group_by(Embarked) %>%\n",
    "    summarize(ct=n()) %>%\n",
    "    arrange(desc(ct))\n",
    "port <- port$Embarked[1]\n",
    "for (i in seq_along(combined)) {\n",
    "    combined[[i]] <- combined[[i]] %>%\n",
    "        mutate(Embarked = if_else(is.na(Embarked), port, Embarked)) %>%\n",
    "        mutate(Embarked = recode(Embarked, S=0, C=1,Q=2))\n",
    "}\n",
    "train_data <- combined[[1]]\n",
    "test_data <- combined[[2]]\n",
    "train_data %>%\n",
    "    group_by(Embarked) %>%\n",
    "    summarize(n=n())"
   ]
  },
  {
   "cell_type": "markdown",
   "id": "d39d704d",
   "metadata": {},
   "source": [
    "### Fill `NA`s in `Fare` (in test dataset)"
   ]
  },
  {
   "cell_type": "code",
   "execution_count": 1369,
   "id": "b3734a7d",
   "metadata": {},
   "outputs": [],
   "source": [
    "test_data <- test_data %>%\n",
    "    mutate(Fare = if_else(is.na(Fare), median(Fare, na.rm=TRUE), Fare))\n",
    "combined <- list(train_data, test_data)"
   ]
  },
  {
   "cell_type": "code",
   "execution_count": 1370,
   "id": "d55a92d1",
   "metadata": {},
   "outputs": [
    {
     "data": {
      "text/html": [
       "<table class=\"dataframe\">\n",
       "<caption>A tibble: 4 × 2</caption>\n",
       "<thead>\n",
       "\t<tr><th scope=col>FareBand</th><th scope=col>Survived</th></tr>\n",
       "\t<tr><th scope=col>&lt;fct&gt;</th><th scope=col>&lt;dbl&gt;</th></tr>\n",
       "</thead>\n",
       "<tbody>\n",
       "\t<tr><td>[0,7.91]   </td><td>0.1973094</td></tr>\n",
       "\t<tr><td>(7.91,14.5]</td><td>0.3035714</td></tr>\n",
       "\t<tr><td>(14.5,31]  </td><td>0.4549550</td></tr>\n",
       "\t<tr><td>(31,512]   </td><td>0.5810811</td></tr>\n",
       "</tbody>\n",
       "</table>\n"
      ],
      "text/latex": [
       "A tibble: 4 × 2\n",
       "\\begin{tabular}{ll}\n",
       " FareBand & Survived\\\\\n",
       " <fct> & <dbl>\\\\\n",
       "\\hline\n",
       "\t {[}0,7.91{]}    & 0.1973094\\\\\n",
       "\t (7.91,14.5{]} & 0.3035714\\\\\n",
       "\t (14.5,31{]}   & 0.4549550\\\\\n",
       "\t (31,512{]}    & 0.5810811\\\\\n",
       "\\end{tabular}\n"
      ],
      "text/markdown": [
       "\n",
       "A tibble: 4 × 2\n",
       "\n",
       "| FareBand &lt;fct&gt; | Survived &lt;dbl&gt; |\n",
       "|---|---|\n",
       "| [0,7.91]    | 0.1973094 |\n",
       "| (7.91,14.5] | 0.3035714 |\n",
       "| (14.5,31]   | 0.4549550 |\n",
       "| (31,512]    | 0.5810811 |\n",
       "\n"
      ],
      "text/plain": [
       "  FareBand    Survived \n",
       "1 [0,7.91]    0.1973094\n",
       "2 (7.91,14.5] 0.3035714\n",
       "3 (14.5,31]   0.4549550\n",
       "4 (31,512]    0.5810811"
      ]
     },
     "metadata": {},
     "output_type": "display_data"
    }
   ],
   "source": [
    "## cut fare\n",
    "train_data %>%\n",
    "    mutate(FareBand = cut(Fare, breaks=c(quantile(Fare, probs=seq(0, 1, by=0.25))),\n",
    "                         include.lowest=TRUE)) %>%\n",
    "    group_by(FareBand) %>%\n",
    "    summarize(Survived = mean(Survived))"
   ]
  },
  {
   "cell_type": "code",
   "execution_count": 1371,
   "id": "4a60ef60",
   "metadata": {},
   "outputs": [
    {
     "data": {
      "text/html": [
       "<table class=\"dataframe\">\n",
       "<caption>A tibble: 10 × 8</caption>\n",
       "<thead>\n",
       "\t<tr><th scope=col>Pclass</th><th scope=col>Sex</th><th scope=col>Age</th><th scope=col>Fare</th><th scope=col>Embarked</th><th scope=col>Title</th><th scope=col>IsAlone</th><th scope=col>Age_Pclass</th></tr>\n",
       "\t<tr><th scope=col>&lt;dbl&gt;</th><th scope=col>&lt;chr&gt;</th><th scope=col>&lt;fct&gt;</th><th scope=col>&lt;fct&gt;</th><th scope=col>&lt;dbl&gt;</th><th scope=col>&lt;fct&gt;</th><th scope=col>&lt;dbl&gt;</th><th scope=col>&lt;dbl&gt;</th></tr>\n",
       "</thead>\n",
       "<tbody>\n",
       "\t<tr><td>3</td><td>1</td><td>2</td><td>0</td><td>2</td><td>1</td><td>1</td><td>6</td></tr>\n",
       "\t<tr><td>3</td><td>0</td><td>2</td><td>0</td><td>0</td><td>3</td><td>0</td><td>6</td></tr>\n",
       "\t<tr><td>2</td><td>1</td><td>3</td><td>1</td><td>2</td><td>1</td><td>1</td><td>6</td></tr>\n",
       "\t<tr><td>3</td><td>1</td><td>1</td><td>1</td><td>0</td><td>1</td><td>1</td><td>3</td></tr>\n",
       "\t<tr><td>3</td><td>0</td><td>1</td><td>1</td><td>0</td><td>3</td><td>0</td><td>3</td></tr>\n",
       "\t<tr><td>3</td><td>1</td><td>0</td><td>1</td><td>0</td><td>1</td><td>1</td><td>0</td></tr>\n",
       "\t<tr><td>3</td><td>0</td><td>1</td><td>0</td><td>2</td><td>2</td><td>1</td><td>3</td></tr>\n",
       "\t<tr><td>2</td><td>1</td><td>1</td><td>2</td><td>0</td><td>1</td><td>0</td><td>2</td></tr>\n",
       "\t<tr><td>3</td><td>0</td><td>1</td><td>0</td><td>1</td><td>3</td><td>1</td><td>3</td></tr>\n",
       "\t<tr><td>3</td><td>1</td><td>1</td><td>2</td><td>0</td><td>1</td><td>0</td><td>3</td></tr>\n",
       "</tbody>\n",
       "</table>\n"
      ],
      "text/latex": [
       "A tibble: 10 × 8\n",
       "\\begin{tabular}{llllllll}\n",
       " Pclass & Sex & Age & Fare & Embarked & Title & IsAlone & Age\\_Pclass\\\\\n",
       " <dbl> & <chr> & <fct> & <fct> & <dbl> & <fct> & <dbl> & <dbl>\\\\\n",
       "\\hline\n",
       "\t 3 & 1 & 2 & 0 & 2 & 1 & 1 & 6\\\\\n",
       "\t 3 & 0 & 2 & 0 & 0 & 3 & 0 & 6\\\\\n",
       "\t 2 & 1 & 3 & 1 & 2 & 1 & 1 & 6\\\\\n",
       "\t 3 & 1 & 1 & 1 & 0 & 1 & 1 & 3\\\\\n",
       "\t 3 & 0 & 1 & 1 & 0 & 3 & 0 & 3\\\\\n",
       "\t 3 & 1 & 0 & 1 & 0 & 1 & 1 & 0\\\\\n",
       "\t 3 & 0 & 1 & 0 & 2 & 2 & 1 & 3\\\\\n",
       "\t 2 & 1 & 1 & 2 & 0 & 1 & 0 & 2\\\\\n",
       "\t 3 & 0 & 1 & 0 & 1 & 3 & 1 & 3\\\\\n",
       "\t 3 & 1 & 1 & 2 & 0 & 1 & 0 & 3\\\\\n",
       "\\end{tabular}\n"
      ],
      "text/markdown": [
       "\n",
       "A tibble: 10 × 8\n",
       "\n",
       "| Pclass &lt;dbl&gt; | Sex &lt;chr&gt; | Age &lt;fct&gt; | Fare &lt;fct&gt; | Embarked &lt;dbl&gt; | Title &lt;fct&gt; | IsAlone &lt;dbl&gt; | Age_Pclass &lt;dbl&gt; |\n",
       "|---|---|---|---|---|---|---|---|\n",
       "| 3 | 1 | 2 | 0 | 2 | 1 | 1 | 6 |\n",
       "| 3 | 0 | 2 | 0 | 0 | 3 | 0 | 6 |\n",
       "| 2 | 1 | 3 | 1 | 2 | 1 | 1 | 6 |\n",
       "| 3 | 1 | 1 | 1 | 0 | 1 | 1 | 3 |\n",
       "| 3 | 0 | 1 | 1 | 0 | 3 | 0 | 3 |\n",
       "| 3 | 1 | 0 | 1 | 0 | 1 | 1 | 0 |\n",
       "| 3 | 0 | 1 | 0 | 2 | 2 | 1 | 3 |\n",
       "| 2 | 1 | 1 | 2 | 0 | 1 | 0 | 2 |\n",
       "| 3 | 0 | 1 | 0 | 1 | 3 | 1 | 3 |\n",
       "| 3 | 1 | 1 | 2 | 0 | 1 | 0 | 3 |\n",
       "\n"
      ],
      "text/plain": [
       "   Pclass Sex Age Fare Embarked Title IsAlone Age_Pclass\n",
       "1  3      1   2   0    2        1     1       6         \n",
       "2  3      0   2   0    0        3     0       6         \n",
       "3  2      1   3   1    2        1     1       6         \n",
       "4  3      1   1   1    0        1     1       3         \n",
       "5  3      0   1   1    0        3     0       3         \n",
       "6  3      1   0   1    0        1     1       0         \n",
       "7  3      0   1   0    2        2     1       3         \n",
       "8  2      1   1   2    0        1     0       2         \n",
       "9  3      0   1   0    1        3     1       3         \n",
       "10 3      1   1   2    0        1     0       3         "
      ]
     },
     "metadata": {},
     "output_type": "display_data"
    }
   ],
   "source": [
    "for (i in seq_along(combined)) {\n",
    "    combined[[i]] <- combined[[i]]%>%\n",
    "        mutate(Fare = cut(Fare, breaks=c(quantile(Fare, probs=seq(0, 1, by=0.25))),\n",
    "                          labels=c('0', '1', '2', '3'), include.lowest=TRUE))\n",
    "}\n",
    "train_data <- combined[[1]]\n",
    "test_data <- combined[[2]]\n",
    "head(test_data, n=10)"
   ]
  },
  {
   "cell_type": "code",
   "execution_count": 1372,
   "id": "c55d0b07",
   "metadata": {},
   "outputs": [
    {
     "data": {
      "text/html": [
       "<table class=\"dataframe\">\n",
       "<caption>A tibble: 10 × 9</caption>\n",
       "<thead>\n",
       "\t<tr><th scope=col>Survived</th><th scope=col>Pclass</th><th scope=col>Sex</th><th scope=col>Age</th><th scope=col>Fare</th><th scope=col>Embarked</th><th scope=col>Title</th><th scope=col>IsAlone</th><th scope=col>Age_Pclass</th></tr>\n",
       "\t<tr><th scope=col>&lt;dbl&gt;</th><th scope=col>&lt;dbl&gt;</th><th scope=col>&lt;chr&gt;</th><th scope=col>&lt;fct&gt;</th><th scope=col>&lt;fct&gt;</th><th scope=col>&lt;dbl&gt;</th><th scope=col>&lt;fct&gt;</th><th scope=col>&lt;dbl&gt;</th><th scope=col>&lt;dbl&gt;</th></tr>\n",
       "</thead>\n",
       "<tbody>\n",
       "\t<tr><td>0</td><td>3</td><td>1</td><td>1</td><td>0</td><td>0</td><td>1</td><td>0</td><td>3</td></tr>\n",
       "\t<tr><td>1</td><td>1</td><td>0</td><td>2</td><td>3</td><td>1</td><td>3</td><td>0</td><td>2</td></tr>\n",
       "\t<tr><td>1</td><td>3</td><td>0</td><td>1</td><td>1</td><td>0</td><td>2</td><td>1</td><td>3</td></tr>\n",
       "\t<tr><td>1</td><td>1</td><td>0</td><td>2</td><td>3</td><td>0</td><td>3</td><td>0</td><td>2</td></tr>\n",
       "\t<tr><td>0</td><td>3</td><td>1</td><td>2</td><td>1</td><td>0</td><td>1</td><td>1</td><td>6</td></tr>\n",
       "\t<tr><td>0</td><td>3</td><td>1</td><td>1</td><td>1</td><td>2</td><td>1</td><td>1</td><td>3</td></tr>\n",
       "\t<tr><td>0</td><td>1</td><td>1</td><td>3</td><td>3</td><td>0</td><td>1</td><td>1</td><td>3</td></tr>\n",
       "\t<tr><td>0</td><td>3</td><td>1</td><td>0</td><td>2</td><td>0</td><td>4</td><td>0</td><td>0</td></tr>\n",
       "\t<tr><td>1</td><td>3</td><td>0</td><td>1</td><td>1</td><td>0</td><td>3</td><td>0</td><td>3</td></tr>\n",
       "\t<tr><td>1</td><td>2</td><td>0</td><td>0</td><td>2</td><td>1</td><td>3</td><td>0</td><td>0</td></tr>\n",
       "</tbody>\n",
       "</table>\n"
      ],
      "text/latex": [
       "A tibble: 10 × 9\n",
       "\\begin{tabular}{lllllllll}\n",
       " Survived & Pclass & Sex & Age & Fare & Embarked & Title & IsAlone & Age\\_Pclass\\\\\n",
       " <dbl> & <dbl> & <chr> & <fct> & <fct> & <dbl> & <fct> & <dbl> & <dbl>\\\\\n",
       "\\hline\n",
       "\t 0 & 3 & 1 & 1 & 0 & 0 & 1 & 0 & 3\\\\\n",
       "\t 1 & 1 & 0 & 2 & 3 & 1 & 3 & 0 & 2\\\\\n",
       "\t 1 & 3 & 0 & 1 & 1 & 0 & 2 & 1 & 3\\\\\n",
       "\t 1 & 1 & 0 & 2 & 3 & 0 & 3 & 0 & 2\\\\\n",
       "\t 0 & 3 & 1 & 2 & 1 & 0 & 1 & 1 & 6\\\\\n",
       "\t 0 & 3 & 1 & 1 & 1 & 2 & 1 & 1 & 3\\\\\n",
       "\t 0 & 1 & 1 & 3 & 3 & 0 & 1 & 1 & 3\\\\\n",
       "\t 0 & 3 & 1 & 0 & 2 & 0 & 4 & 0 & 0\\\\\n",
       "\t 1 & 3 & 0 & 1 & 1 & 0 & 3 & 0 & 3\\\\\n",
       "\t 1 & 2 & 0 & 0 & 2 & 1 & 3 & 0 & 0\\\\\n",
       "\\end{tabular}\n"
      ],
      "text/markdown": [
       "\n",
       "A tibble: 10 × 9\n",
       "\n",
       "| Survived &lt;dbl&gt; | Pclass &lt;dbl&gt; | Sex &lt;chr&gt; | Age &lt;fct&gt; | Fare &lt;fct&gt; | Embarked &lt;dbl&gt; | Title &lt;fct&gt; | IsAlone &lt;dbl&gt; | Age_Pclass &lt;dbl&gt; |\n",
       "|---|---|---|---|---|---|---|---|---|\n",
       "| 0 | 3 | 1 | 1 | 0 | 0 | 1 | 0 | 3 |\n",
       "| 1 | 1 | 0 | 2 | 3 | 1 | 3 | 0 | 2 |\n",
       "| 1 | 3 | 0 | 1 | 1 | 0 | 2 | 1 | 3 |\n",
       "| 1 | 1 | 0 | 2 | 3 | 0 | 3 | 0 | 2 |\n",
       "| 0 | 3 | 1 | 2 | 1 | 0 | 1 | 1 | 6 |\n",
       "| 0 | 3 | 1 | 1 | 1 | 2 | 1 | 1 | 3 |\n",
       "| 0 | 1 | 1 | 3 | 3 | 0 | 1 | 1 | 3 |\n",
       "| 0 | 3 | 1 | 0 | 2 | 0 | 4 | 0 | 0 |\n",
       "| 1 | 3 | 0 | 1 | 1 | 0 | 3 | 0 | 3 |\n",
       "| 1 | 2 | 0 | 0 | 2 | 1 | 3 | 0 | 0 |\n",
       "\n"
      ],
      "text/plain": [
       "   Survived Pclass Sex Age Fare Embarked Title IsAlone Age_Pclass\n",
       "1  0        3      1   1   0    0        1     0       3         \n",
       "2  1        1      0   2   3    1        3     0       2         \n",
       "3  1        3      0   1   1    0        2     1       3         \n",
       "4  1        1      0   2   3    0        3     0       2         \n",
       "5  0        3      1   2   1    0        1     1       6         \n",
       "6  0        3      1   1   1    2        1     1       3         \n",
       "7  0        1      1   3   3    0        1     1       3         \n",
       "8  0        3      1   0   2    0        4     0       0         \n",
       "9  1        3      0   1   1    0        3     0       3         \n",
       "10 1        2      0   0   2    1        3     0       0         "
      ]
     },
     "metadata": {},
     "output_type": "display_data"
    }
   ],
   "source": [
    "head(train_data, n=10)"
   ]
  },
  {
   "cell_type": "code",
   "execution_count": 1373,
   "id": "2de1a01d",
   "metadata": {},
   "outputs": [
    {
     "data": {
      "text/html": [
       "<table class=\"dataframe\">\n",
       "<caption>A tibble: 10 × 9</caption>\n",
       "<thead>\n",
       "\t<tr><th scope=col>Survived</th><th scope=col>Pclass</th><th scope=col>Sex</th><th scope=col>Age</th><th scope=col>Fare</th><th scope=col>Embarked</th><th scope=col>Title</th><th scope=col>IsAlone</th><th scope=col>Age_Pclass</th></tr>\n",
       "\t<tr><th scope=col>&lt;fct&gt;</th><th scope=col>&lt;fct&gt;</th><th scope=col>&lt;fct&gt;</th><th scope=col>&lt;fct&gt;</th><th scope=col>&lt;fct&gt;</th><th scope=col>&lt;fct&gt;</th><th scope=col>&lt;fct&gt;</th><th scope=col>&lt;fct&gt;</th><th scope=col>&lt;fct&gt;</th></tr>\n",
       "</thead>\n",
       "<tbody>\n",
       "\t<tr><td>0</td><td>3</td><td>1</td><td>1</td><td>0</td><td>0</td><td>1</td><td>0</td><td>3</td></tr>\n",
       "\t<tr><td>1</td><td>1</td><td>0</td><td>2</td><td>3</td><td>1</td><td>3</td><td>0</td><td>2</td></tr>\n",
       "\t<tr><td>1</td><td>3</td><td>0</td><td>1</td><td>1</td><td>0</td><td>2</td><td>1</td><td>3</td></tr>\n",
       "\t<tr><td>1</td><td>1</td><td>0</td><td>2</td><td>3</td><td>0</td><td>3</td><td>0</td><td>2</td></tr>\n",
       "\t<tr><td>0</td><td>3</td><td>1</td><td>2</td><td>1</td><td>0</td><td>1</td><td>1</td><td>6</td></tr>\n",
       "\t<tr><td>0</td><td>3</td><td>1</td><td>1</td><td>1</td><td>2</td><td>1</td><td>1</td><td>3</td></tr>\n",
       "\t<tr><td>0</td><td>1</td><td>1</td><td>3</td><td>3</td><td>0</td><td>1</td><td>1</td><td>3</td></tr>\n",
       "\t<tr><td>0</td><td>3</td><td>1</td><td>0</td><td>2</td><td>0</td><td>4</td><td>0</td><td>0</td></tr>\n",
       "\t<tr><td>1</td><td>3</td><td>0</td><td>1</td><td>1</td><td>0</td><td>3</td><td>0</td><td>3</td></tr>\n",
       "\t<tr><td>1</td><td>2</td><td>0</td><td>0</td><td>2</td><td>1</td><td>3</td><td>0</td><td>0</td></tr>\n",
       "</tbody>\n",
       "</table>\n"
      ],
      "text/latex": [
       "A tibble: 10 × 9\n",
       "\\begin{tabular}{lllllllll}\n",
       " Survived & Pclass & Sex & Age & Fare & Embarked & Title & IsAlone & Age\\_Pclass\\\\\n",
       " <fct> & <fct> & <fct> & <fct> & <fct> & <fct> & <fct> & <fct> & <fct>\\\\\n",
       "\\hline\n",
       "\t 0 & 3 & 1 & 1 & 0 & 0 & 1 & 0 & 3\\\\\n",
       "\t 1 & 1 & 0 & 2 & 3 & 1 & 3 & 0 & 2\\\\\n",
       "\t 1 & 3 & 0 & 1 & 1 & 0 & 2 & 1 & 3\\\\\n",
       "\t 1 & 1 & 0 & 2 & 3 & 0 & 3 & 0 & 2\\\\\n",
       "\t 0 & 3 & 1 & 2 & 1 & 0 & 1 & 1 & 6\\\\\n",
       "\t 0 & 3 & 1 & 1 & 1 & 2 & 1 & 1 & 3\\\\\n",
       "\t 0 & 1 & 1 & 3 & 3 & 0 & 1 & 1 & 3\\\\\n",
       "\t 0 & 3 & 1 & 0 & 2 & 0 & 4 & 0 & 0\\\\\n",
       "\t 1 & 3 & 0 & 1 & 1 & 0 & 3 & 0 & 3\\\\\n",
       "\t 1 & 2 & 0 & 0 & 2 & 1 & 3 & 0 & 0\\\\\n",
       "\\end{tabular}\n"
      ],
      "text/markdown": [
       "\n",
       "A tibble: 10 × 9\n",
       "\n",
       "| Survived &lt;fct&gt; | Pclass &lt;fct&gt; | Sex &lt;fct&gt; | Age &lt;fct&gt; | Fare &lt;fct&gt; | Embarked &lt;fct&gt; | Title &lt;fct&gt; | IsAlone &lt;fct&gt; | Age_Pclass &lt;fct&gt; |\n",
       "|---|---|---|---|---|---|---|---|---|\n",
       "| 0 | 3 | 1 | 1 | 0 | 0 | 1 | 0 | 3 |\n",
       "| 1 | 1 | 0 | 2 | 3 | 1 | 3 | 0 | 2 |\n",
       "| 1 | 3 | 0 | 1 | 1 | 0 | 2 | 1 | 3 |\n",
       "| 1 | 1 | 0 | 2 | 3 | 0 | 3 | 0 | 2 |\n",
       "| 0 | 3 | 1 | 2 | 1 | 0 | 1 | 1 | 6 |\n",
       "| 0 | 3 | 1 | 1 | 1 | 2 | 1 | 1 | 3 |\n",
       "| 0 | 1 | 1 | 3 | 3 | 0 | 1 | 1 | 3 |\n",
       "| 0 | 3 | 1 | 0 | 2 | 0 | 4 | 0 | 0 |\n",
       "| 1 | 3 | 0 | 1 | 1 | 0 | 3 | 0 | 3 |\n",
       "| 1 | 2 | 0 | 0 | 2 | 1 | 3 | 0 | 0 |\n",
       "\n"
      ],
      "text/plain": [
       "   Survived Pclass Sex Age Fare Embarked Title IsAlone Age_Pclass\n",
       "1  0        3      1   1   0    0        1     0       3         \n",
       "2  1        1      0   2   3    1        3     0       2         \n",
       "3  1        3      0   1   1    0        2     1       3         \n",
       "4  1        1      0   2   3    0        3     0       2         \n",
       "5  0        3      1   2   1    0        1     1       6         \n",
       "6  0        3      1   1   1    2        1     1       3         \n",
       "7  0        1      1   3   3    0        1     1       3         \n",
       "8  0        3      1   0   2    0        4     0       0         \n",
       "9  1        3      0   1   1    0        3     0       3         \n",
       "10 1        2      0   0   2    1        3     0       0         "
      ]
     },
     "metadata": {},
     "output_type": "display_data"
    }
   ],
   "source": [
    "for (i in seq_along(combined)) {\n",
    "    combined[[i]]$Sex <- as.factor(combined[[i]]$Sex)\n",
    "    combined[[i]]$Pclass <- as.factor(combined[[i]]$Pclass)\n",
    "    combined[[i]]$Embarked <- as.factor(combined[[i]]$Embarked)\n",
    "    combined[[i]]$IsAlone <- as.factor(combined[[i]]$IsAlone)\n",
    "    combined[[i]]$Age_Pclass <- as.factor(combined[[i]]$Age_Pclass)\n",
    "}\n",
    "combined[[1]]$Survived <- as.factor(combined[[1]]$Survived)\n",
    "train_data <- combined[[1]]\n",
    "test_data <- combined[[2]]\n",
    "head(train_data, n=10)"
   ]
  },
  {
   "cell_type": "code",
   "execution_count": 1374,
   "id": "14f00915",
   "metadata": {},
   "outputs": [
    {
     "data": {
      "text/html": [
       "<table class=\"dataframe\">\n",
       "<caption>A tibble: 10 × 8</caption>\n",
       "<thead>\n",
       "\t<tr><th scope=col>Pclass</th><th scope=col>Sex</th><th scope=col>Age</th><th scope=col>Fare</th><th scope=col>Embarked</th><th scope=col>Title</th><th scope=col>IsAlone</th><th scope=col>Age_Pclass</th></tr>\n",
       "\t<tr><th scope=col>&lt;fct&gt;</th><th scope=col>&lt;fct&gt;</th><th scope=col>&lt;fct&gt;</th><th scope=col>&lt;fct&gt;</th><th scope=col>&lt;fct&gt;</th><th scope=col>&lt;fct&gt;</th><th scope=col>&lt;fct&gt;</th><th scope=col>&lt;fct&gt;</th></tr>\n",
       "</thead>\n",
       "<tbody>\n",
       "\t<tr><td>3</td><td>1</td><td>2</td><td>0</td><td>2</td><td>1</td><td>1</td><td>6</td></tr>\n",
       "\t<tr><td>3</td><td>0</td><td>2</td><td>0</td><td>0</td><td>3</td><td>0</td><td>6</td></tr>\n",
       "\t<tr><td>2</td><td>1</td><td>3</td><td>1</td><td>2</td><td>1</td><td>1</td><td>6</td></tr>\n",
       "\t<tr><td>3</td><td>1</td><td>1</td><td>1</td><td>0</td><td>1</td><td>1</td><td>3</td></tr>\n",
       "\t<tr><td>3</td><td>0</td><td>1</td><td>1</td><td>0</td><td>3</td><td>0</td><td>3</td></tr>\n",
       "\t<tr><td>3</td><td>1</td><td>0</td><td>1</td><td>0</td><td>1</td><td>1</td><td>0</td></tr>\n",
       "\t<tr><td>3</td><td>0</td><td>1</td><td>0</td><td>2</td><td>2</td><td>1</td><td>3</td></tr>\n",
       "\t<tr><td>2</td><td>1</td><td>1</td><td>2</td><td>0</td><td>1</td><td>0</td><td>2</td></tr>\n",
       "\t<tr><td>3</td><td>0</td><td>1</td><td>0</td><td>1</td><td>3</td><td>1</td><td>3</td></tr>\n",
       "\t<tr><td>3</td><td>1</td><td>1</td><td>2</td><td>0</td><td>1</td><td>0</td><td>3</td></tr>\n",
       "</tbody>\n",
       "</table>\n"
      ],
      "text/latex": [
       "A tibble: 10 × 8\n",
       "\\begin{tabular}{llllllll}\n",
       " Pclass & Sex & Age & Fare & Embarked & Title & IsAlone & Age\\_Pclass\\\\\n",
       " <fct> & <fct> & <fct> & <fct> & <fct> & <fct> & <fct> & <fct>\\\\\n",
       "\\hline\n",
       "\t 3 & 1 & 2 & 0 & 2 & 1 & 1 & 6\\\\\n",
       "\t 3 & 0 & 2 & 0 & 0 & 3 & 0 & 6\\\\\n",
       "\t 2 & 1 & 3 & 1 & 2 & 1 & 1 & 6\\\\\n",
       "\t 3 & 1 & 1 & 1 & 0 & 1 & 1 & 3\\\\\n",
       "\t 3 & 0 & 1 & 1 & 0 & 3 & 0 & 3\\\\\n",
       "\t 3 & 1 & 0 & 1 & 0 & 1 & 1 & 0\\\\\n",
       "\t 3 & 0 & 1 & 0 & 2 & 2 & 1 & 3\\\\\n",
       "\t 2 & 1 & 1 & 2 & 0 & 1 & 0 & 2\\\\\n",
       "\t 3 & 0 & 1 & 0 & 1 & 3 & 1 & 3\\\\\n",
       "\t 3 & 1 & 1 & 2 & 0 & 1 & 0 & 3\\\\\n",
       "\\end{tabular}\n"
      ],
      "text/markdown": [
       "\n",
       "A tibble: 10 × 8\n",
       "\n",
       "| Pclass &lt;fct&gt; | Sex &lt;fct&gt; | Age &lt;fct&gt; | Fare &lt;fct&gt; | Embarked &lt;fct&gt; | Title &lt;fct&gt; | IsAlone &lt;fct&gt; | Age_Pclass &lt;fct&gt; |\n",
       "|---|---|---|---|---|---|---|---|\n",
       "| 3 | 1 | 2 | 0 | 2 | 1 | 1 | 6 |\n",
       "| 3 | 0 | 2 | 0 | 0 | 3 | 0 | 6 |\n",
       "| 2 | 1 | 3 | 1 | 2 | 1 | 1 | 6 |\n",
       "| 3 | 1 | 1 | 1 | 0 | 1 | 1 | 3 |\n",
       "| 3 | 0 | 1 | 1 | 0 | 3 | 0 | 3 |\n",
       "| 3 | 1 | 0 | 1 | 0 | 1 | 1 | 0 |\n",
       "| 3 | 0 | 1 | 0 | 2 | 2 | 1 | 3 |\n",
       "| 2 | 1 | 1 | 2 | 0 | 1 | 0 | 2 |\n",
       "| 3 | 0 | 1 | 0 | 1 | 3 | 1 | 3 |\n",
       "| 3 | 1 | 1 | 2 | 0 | 1 | 0 | 3 |\n",
       "\n"
      ],
      "text/plain": [
       "   Pclass Sex Age Fare Embarked Title IsAlone Age_Pclass\n",
       "1  3      1   2   0    2        1     1       6         \n",
       "2  3      0   2   0    0        3     0       6         \n",
       "3  2      1   3   1    2        1     1       6         \n",
       "4  3      1   1   1    0        1     1       3         \n",
       "5  3      0   1   1    0        3     0       3         \n",
       "6  3      1   0   1    0        1     1       0         \n",
       "7  3      0   1   0    2        2     1       3         \n",
       "8  2      1   1   2    0        1     0       2         \n",
       "9  3      0   1   0    1        3     1       3         \n",
       "10 3      1   1   2    0        1     0       3         "
      ]
     },
     "metadata": {},
     "output_type": "display_data"
    }
   ],
   "source": [
    "head(test_data, n=10)"
   ]
  },
  {
   "cell_type": "markdown",
   "id": "5fb0219b",
   "metadata": {},
   "source": [
    "## MODEL\n",
    "### Logistic Regression Model"
   ]
  },
  {
   "cell_type": "code",
   "execution_count": 1375,
   "id": "eef4be3d",
   "metadata": {},
   "outputs": [],
   "source": [
    "X_train <- train_data %>% select(-Survived)\n",
    "Y_train <- train_data %>% select(Survived)\n",
    "X_test <- test_data"
   ]
  },
  {
   "cell_type": "code",
   "execution_count": 1379,
   "id": "a8096ed3",
   "metadata": {},
   "outputs": [
    {
     "data": {
      "text/html": [
       "<table class=\"dataframe\">\n",
       "<caption>A tibble: 1 × 9</caption>\n",
       "<thead>\n",
       "\t<tr><th scope=col>Survived</th><th scope=col>Pclass</th><th scope=col>Sex</th><th scope=col>Age</th><th scope=col>Fare</th><th scope=col>Embarked</th><th scope=col>Title</th><th scope=col>IsAlone</th><th scope=col>Age_Pclass</th></tr>\n",
       "\t<tr><th scope=col>&lt;int&gt;</th><th scope=col>&lt;int&gt;</th><th scope=col>&lt;int&gt;</th><th scope=col>&lt;int&gt;</th><th scope=col>&lt;int&gt;</th><th scope=col>&lt;int&gt;</th><th scope=col>&lt;int&gt;</th><th scope=col>&lt;int&gt;</th><th scope=col>&lt;int&gt;</th></tr>\n",
       "</thead>\n",
       "<tbody>\n",
       "\t<tr><td>0</td><td>0</td><td>0</td><td>0</td><td>0</td><td>0</td><td>0</td><td>0</td><td>0</td></tr>\n",
       "</tbody>\n",
       "</table>\n"
      ],
      "text/latex": [
       "A tibble: 1 × 9\n",
       "\\begin{tabular}{lllllllll}\n",
       " Survived & Pclass & Sex & Age & Fare & Embarked & Title & IsAlone & Age\\_Pclass\\\\\n",
       " <int> & <int> & <int> & <int> & <int> & <int> & <int> & <int> & <int>\\\\\n",
       "\\hline\n",
       "\t 0 & 0 & 0 & 0 & 0 & 0 & 0 & 0 & 0\\\\\n",
       "\\end{tabular}\n"
      ],
      "text/markdown": [
       "\n",
       "A tibble: 1 × 9\n",
       "\n",
       "| Survived &lt;int&gt; | Pclass &lt;int&gt; | Sex &lt;int&gt; | Age &lt;int&gt; | Fare &lt;int&gt; | Embarked &lt;int&gt; | Title &lt;int&gt; | IsAlone &lt;int&gt; | Age_Pclass &lt;int&gt; |\n",
       "|---|---|---|---|---|---|---|---|---|\n",
       "| 0 | 0 | 0 | 0 | 0 | 0 | 0 | 0 | 0 |\n",
       "\n"
      ],
      "text/plain": [
       "  Survived Pclass Sex Age Fare Embarked Title IsAlone Age_Pclass\n",
       "1 0        0      0   0   0    0        0     0       0         "
      ]
     },
     "metadata": {},
     "output_type": "display_data"
    }
   ],
   "source": [
    "summarize_all(train_data, ~sum(is.na(.)))"
   ]
  },
  {
   "cell_type": "code",
   "execution_count": 1381,
   "id": "64862f72",
   "metadata": {},
   "outputs": [
    {
     "data": {
      "text/html": [
       "<table class=\"dataframe\">\n",
       "<caption>A tibble: 1 × 8</caption>\n",
       "<thead>\n",
       "\t<tr><th scope=col>Pclass</th><th scope=col>Sex</th><th scope=col>Age</th><th scope=col>Fare</th><th scope=col>Embarked</th><th scope=col>Title</th><th scope=col>IsAlone</th><th scope=col>Age_Pclass</th></tr>\n",
       "\t<tr><th scope=col>&lt;int&gt;</th><th scope=col>&lt;int&gt;</th><th scope=col>&lt;int&gt;</th><th scope=col>&lt;int&gt;</th><th scope=col>&lt;int&gt;</th><th scope=col>&lt;int&gt;</th><th scope=col>&lt;int&gt;</th><th scope=col>&lt;int&gt;</th></tr>\n",
       "</thead>\n",
       "<tbody>\n",
       "\t<tr><td>0</td><td>0</td><td>0</td><td>0</td><td>0</td><td>0</td><td>0</td><td>0</td></tr>\n",
       "</tbody>\n",
       "</table>\n"
      ],
      "text/latex": [
       "A tibble: 1 × 8\n",
       "\\begin{tabular}{llllllll}\n",
       " Pclass & Sex & Age & Fare & Embarked & Title & IsAlone & Age\\_Pclass\\\\\n",
       " <int> & <int> & <int> & <int> & <int> & <int> & <int> & <int>\\\\\n",
       "\\hline\n",
       "\t 0 & 0 & 0 & 0 & 0 & 0 & 0 & 0\\\\\n",
       "\\end{tabular}\n"
      ],
      "text/markdown": [
       "\n",
       "A tibble: 1 × 8\n",
       "\n",
       "| Pclass &lt;int&gt; | Sex &lt;int&gt; | Age &lt;int&gt; | Fare &lt;int&gt; | Embarked &lt;int&gt; | Title &lt;int&gt; | IsAlone &lt;int&gt; | Age_Pclass &lt;int&gt; |\n",
       "|---|---|---|---|---|---|---|---|\n",
       "| 0 | 0 | 0 | 0 | 0 | 0 | 0 | 0 |\n",
       "\n"
      ],
      "text/plain": [
       "  Pclass Sex Age Fare Embarked Title IsAlone Age_Pclass\n",
       "1 0      0   0   0    0        0     0       0         "
      ]
     },
     "metadata": {},
     "output_type": "display_data"
    }
   ],
   "source": [
    "summarize_all(test_data, ~sum(is.na(.)))"
   ]
  },
  {
   "cell_type": "code",
   "execution_count": 1384,
   "id": "923697bf",
   "metadata": {},
   "outputs": [
    {
     "name": "stderr",
     "output_type": "stream",
     "text": [
      "Warning message:\n",
      "\"glm.fit:算法没有聚合\"\n",
      "Warning message:\n",
      "\"glm.fit:拟合機率算出来是数值零或一\"\n"
     ]
    }
   ],
   "source": [
    "fit <- glm(Survived~., data=train_data, family=\"binomial\")"
   ]
  },
  {
   "cell_type": "code",
   "execution_count": 1385,
   "id": "93c7e049",
   "metadata": {},
   "outputs": [
    {
     "data": {
      "text/plain": [
       "\n",
       "Call:\n",
       "glm(formula = Survived ~ ., family = \"binomial\", data = train_data)\n",
       "\n",
       "Deviance Residuals: \n",
       "   Min      1Q  Median      3Q     Max  \n",
       " -8.49    0.00    0.00    0.00    8.49  \n",
       "\n",
       "Coefficients: (1 not defined because of singularities)\n",
       "               Estimate Std. Error    z value Pr(>|z|)    \n",
       "(Intercept)   4.354e+15  4.932e+07   88277854   <2e-16 ***\n",
       "Pclass2       7.389e+13  2.731e+07    2705131   <2e-16 ***\n",
       "Pclass3      -2.019e+15  2.441e+07  -82724906   <2e-16 ***\n",
       "Sex1         -4.768e+15  4.182e+07 -113995876   <2e-16 ***\n",
       "Age1         -6.768e+14  7.450e+07   -9085321   <2e-16 ***\n",
       "Age2         -3.671e+14  5.707e+07   -6431927   <2e-16 ***\n",
       "Age3         -2.014e+15  6.306e+07  -31943235   <2e-16 ***\n",
       "Age4         -4.935e+14  4.073e+07  -12115573   <2e-16 ***\n",
       "Fare1        -7.060e+13  7.102e+06   -9941048   <2e-16 ***\n",
       "Fare2         1.730e+14  8.471e+06   20420881   <2e-16 ***\n",
       "Fare3         2.100e+13  1.059e+07    1981934   <2e-16 ***\n",
       "Embarked1     4.604e+14  6.191e+06   74361556   <2e-16 ***\n",
       "Embarked2     5.365e+14  8.876e+06   60442216   <2e-16 ***\n",
       "Title2       -3.521e+15  4.235e+07  -83145275   <2e-16 ***\n",
       "Title3       -2.929e+15  4.248e+07  -68935512   <2e-16 ***\n",
       "Title4        2.679e+15  1.390e+07  192687249   <2e-16 ***\n",
       "Title5       -4.535e+14  1.599e+07  -28362830   <2e-16 ***\n",
       "IsAlone1      1.067e+15  6.616e+06  161360449   <2e-16 ***\n",
       "Age_Pclass1   1.955e+14  9.021e+07    2166938   <2e-16 ***\n",
       "Age_Pclass2   2.425e+14  6.917e+07    3505962   <2e-16 ***\n",
       "Age_Pclass3   1.262e+15  7.357e+07   17149008   <2e-16 ***\n",
       "Age_Pclass4  -2.283e+15  5.376e+07  -42464209   <2e-16 ***\n",
       "Age_Pclass6   9.522e+14  5.642e+07   16878974   <2e-16 ***\n",
       "Age_Pclass8  -1.639e+14  6.401e+07   -2560032   <2e-16 ***\n",
       "Age_Pclass9   2.206e+15  6.681e+07   33018431   <2e-16 ***\n",
       "Age_Pclass12         NA         NA         NA       NA    \n",
       "---\n",
       "Signif. codes:  0 '***' 0.001 '**' 0.01 '*' 0.05 '.' 0.1 ' ' 1\n",
       "\n",
       "(Dispersion parameter for binomial family taken to be 1)\n",
       "\n",
       "    Null deviance:  1186.7  on 890  degrees of freedom\n",
       "Residual deviance: 17445.1  on 866  degrees of freedom\n",
       "AIC: 17495\n",
       "\n",
       "Number of Fisher Scoring iterations: 25\n"
      ]
     },
     "metadata": {},
     "output_type": "display_data"
    }
   ],
   "source": [
    "summary(fit)"
   ]
  }
 ],
 "metadata": {
  "kernelspec": {
   "display_name": "R",
   "language": "R",
   "name": "ir"
  },
  "language_info": {
   "codemirror_mode": "r",
   "file_extension": ".r",
   "mimetype": "text/x-r-source",
   "name": "R",
   "pygments_lexer": "r",
   "version": "4.2.2"
  }
 },
 "nbformat": 4,
 "nbformat_minor": 5
}
