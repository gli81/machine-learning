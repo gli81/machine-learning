{
 "cells": [
  {
   "cell_type": "markdown",
   "id": "d61bb72f-46d0-4fb6-8e34-186f8ba016d6",
   "metadata": {},
   "source": [
    "# TMDB Box Office Prediction"
   ]
  },
  {
   "cell_type": "code",
   "execution_count": 1,
   "id": "6dc9c44a-2dc5-495c-9ea2-15a8e252cf1b",
   "metadata": {
    "tags": []
   },
   "outputs": [],
   "source": [
    "import numpy as np\n",
    "import pandas as pd\n",
    "import matplotlib.pyplot as plt"
   ]
  },
  {
   "cell_type": "code",
   "execution_count": 2,
   "id": "4ba67bef-1763-437f-be65-c4b211595e48",
   "metadata": {
    "tags": []
   },
   "outputs": [],
   "source": [
    "train = pd.read_csv(\"./input/train.csv\")\n",
    "test = pd.read_csv(\"./input/test.csv\")"
   ]
  }
 ],
 "metadata": {
  "kernelspec": {
   "display_name": "Python 3 (ipykernel)",
   "language": "python",
   "name": "python3"
  },
  "language_info": {
   "codemirror_mode": {
    "name": "ipython",
    "version": 3
   },
   "file_extension": ".py",
   "mimetype": "text/x-python",
   "name": "python",
   "nbconvert_exporter": "python",
   "pygments_lexer": "ipython3",
   "version": "3.10.10"
  }
 },
 "nbformat": 4,
 "nbformat_minor": 5
}
